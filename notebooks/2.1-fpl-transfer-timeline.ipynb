{
 "cells": [
  {
   "cell_type": "markdown",
   "metadata": {},
   "source": [
    "# Imports"
   ]
  },
  {
   "cell_type": "code",
   "execution_count": 1,
   "metadata": {},
   "outputs": [],
   "source": [
    "import requests\n",
    "import json\n",
    "import numpy as np\n",
    "import pandas as pd\n",
    "import os\n",
    "import plotly.express as px\n",
    "import datetime as datetime"
   ]
  },
  {
   "cell_type": "markdown",
   "metadata": {},
   "source": [
    "# Definitions"
   ]
  },
  {
   "cell_type": "code",
   "execution_count": 2,
   "metadata": {},
   "outputs": [],
   "source": [
    "cwd = os.getcwd()\n",
    "leagueID = \"1041760\"\n",
    "fpl_league_url = (\n",
    "    f\"https://fantasy.premierleague.com/api/leagues-classic/{leagueID}/standings/\"\n",
    ")\n",
    "transfers_url_template = (\n",
    "    \"https://fantasy.premierleague.com/api/entry/{manager_id}/transfers/\"\n",
    ")\n",
    "bootstrap_static_url = \"https://fantasy.premierleague.com/api/bootstrap-static/\""
   ]
  },
  {
   "cell_type": "markdown",
   "metadata": {},
   "source": [
    "# Testing"
   ]
  },
  {
   "cell_type": "markdown",
   "metadata": {},
   "source": [
    "## Main league df"
   ]
  },
  {
   "cell_type": "code",
   "execution_count": 3,
   "metadata": {},
   "outputs": [
    {
     "name": "stdout",
     "output_type": "stream",
     "text": [
      "The API request was successful.\n"
     ]
    }
   ],
   "source": [
    "response = requests.get(fpl_league_url)\n",
    "if response.status_code == 200:\n",
    "    print(\"The API request was successful.\")\n",
    "    fpl_league_response_json = response.json()\n",
    "else:\n",
    "    print(f\"Error: The API request failed with status code {response.status_code}.\")"
   ]
  },
  {
   "cell_type": "code",
   "execution_count": 4,
   "metadata": {},
   "outputs": [
    {
     "data": {
      "text/html": [
       "<div>\n",
       "<style scoped>\n",
       "    .dataframe tbody tr th:only-of-type {\n",
       "        vertical-align: middle;\n",
       "    }\n",
       "\n",
       "    .dataframe tbody tr th {\n",
       "        vertical-align: top;\n",
       "    }\n",
       "\n",
       "    .dataframe thead th {\n",
       "        text-align: right;\n",
       "    }\n",
       "</style>\n",
       "<table border=\"1\" class=\"dataframe\">\n",
       "  <thead>\n",
       "    <tr style=\"text-align: right;\">\n",
       "      <th></th>\n",
       "      <th>id</th>\n",
       "      <th>event_total</th>\n",
       "      <th>player_name</th>\n",
       "      <th>rank</th>\n",
       "      <th>last_rank</th>\n",
       "      <th>rank_sort</th>\n",
       "      <th>total</th>\n",
       "      <th>entry</th>\n",
       "      <th>entry_name</th>\n",
       "    </tr>\n",
       "  </thead>\n",
       "  <tbody>\n",
       "    <tr>\n",
       "      <th>0</th>\n",
       "      <td>35832424</td>\n",
       "      <td>80</td>\n",
       "      <td>James Parfitt</td>\n",
       "      <td>1</td>\n",
       "      <td>1</td>\n",
       "      <td>1</td>\n",
       "      <td>1396</td>\n",
       "      <td>4651100</td>\n",
       "      <td>Where you been?</td>\n",
       "    </tr>\n",
       "    <tr>\n",
       "      <th>1</th>\n",
       "      <td>35939248</td>\n",
       "      <td>72</td>\n",
       "      <td>Alex Winn</td>\n",
       "      <td>2</td>\n",
       "      <td>3</td>\n",
       "      <td>2</td>\n",
       "      <td>1346</td>\n",
       "      <td>3794145</td>\n",
       "      <td>Al-Winn</td>\n",
       "    </tr>\n",
       "    <tr>\n",
       "      <th>2</th>\n",
       "      <td>58581266</td>\n",
       "      <td>49</td>\n",
       "      <td>Seb Winn</td>\n",
       "      <td>3</td>\n",
       "      <td>2</td>\n",
       "      <td>3</td>\n",
       "      <td>1340</td>\n",
       "      <td>7052472</td>\n",
       "      <td>Gangsters Allardyce</td>\n",
       "    </tr>\n",
       "    <tr>\n",
       "      <th>3</th>\n",
       "      <td>35832433</td>\n",
       "      <td>49</td>\n",
       "      <td>Ben Melhuish</td>\n",
       "      <td>4</td>\n",
       "      <td>6</td>\n",
       "      <td>4</td>\n",
       "      <td>1263</td>\n",
       "      <td>4075412</td>\n",
       "      <td>Melshys Mediocres</td>\n",
       "    </tr>\n",
       "    <tr>\n",
       "      <th>4</th>\n",
       "      <td>35879230</td>\n",
       "      <td>53</td>\n",
       "      <td>Joseph Parsons</td>\n",
       "      <td>5</td>\n",
       "      <td>8</td>\n",
       "      <td>5</td>\n",
       "      <td>1255</td>\n",
       "      <td>4656770</td>\n",
       "      <td>AFC Great Name UTD</td>\n",
       "    </tr>\n",
       "    <tr>\n",
       "      <th>5</th>\n",
       "      <td>56846765</td>\n",
       "      <td>57</td>\n",
       "      <td>Richard Collins</td>\n",
       "      <td>6</td>\n",
       "      <td>9</td>\n",
       "      <td>6</td>\n",
       "      <td>1253</td>\n",
       "      <td>6911033</td>\n",
       "      <td>Eze-er said than Son</td>\n",
       "    </tr>\n",
       "    <tr>\n",
       "      <th>6</th>\n",
       "      <td>35832439</td>\n",
       "      <td>24</td>\n",
       "      <td>Jacob Pickles</td>\n",
       "      <td>7</td>\n",
       "      <td>4</td>\n",
       "      <td>7</td>\n",
       "      <td>1249</td>\n",
       "      <td>3148659</td>\n",
       "      <td>Gobblebox</td>\n",
       "    </tr>\n",
       "    <tr>\n",
       "      <th>7</th>\n",
       "      <td>57395169</td>\n",
       "      <td>21</td>\n",
       "      <td>Mason Gardener</td>\n",
       "      <td>8</td>\n",
       "      <td>5</td>\n",
       "      <td>8</td>\n",
       "      <td>1235</td>\n",
       "      <td>6963106</td>\n",
       "      <td>nice to Michu</td>\n",
       "    </tr>\n",
       "    <tr>\n",
       "      <th>8</th>\n",
       "      <td>35832437</td>\n",
       "      <td>31</td>\n",
       "      <td>Dan Pratlett</td>\n",
       "      <td>9</td>\n",
       "      <td>7</td>\n",
       "      <td>9</td>\n",
       "      <td>1235</td>\n",
       "      <td>3194123</td>\n",
       "      <td>Onana what’s my name</td>\n",
       "    </tr>\n",
       "    <tr>\n",
       "      <th>9</th>\n",
       "      <td>48472859</td>\n",
       "      <td>25</td>\n",
       "      <td>Ben Wilson</td>\n",
       "      <td>10</td>\n",
       "      <td>10</td>\n",
       "      <td>10</td>\n",
       "      <td>1139</td>\n",
       "      <td>6083206</td>\n",
       "      <td>Kloppenheimer</td>\n",
       "    </tr>\n",
       "    <tr>\n",
       "      <th>10</th>\n",
       "      <td>35832436</td>\n",
       "      <td>17</td>\n",
       "      <td>Ben Anderson</td>\n",
       "      <td>11</td>\n",
       "      <td>11</td>\n",
       "      <td>11</td>\n",
       "      <td>1125</td>\n",
       "      <td>2709514</td>\n",
       "      <td>Henry not Harry</td>\n",
       "    </tr>\n",
       "    <tr>\n",
       "      <th>11</th>\n",
       "      <td>35843947</td>\n",
       "      <td>22</td>\n",
       "      <td>Luke Counsell</td>\n",
       "      <td>12</td>\n",
       "      <td>12</td>\n",
       "      <td>12</td>\n",
       "      <td>1036</td>\n",
       "      <td>4371621</td>\n",
       "      <td>RareChonk</td>\n",
       "    </tr>\n",
       "  </tbody>\n",
       "</table>\n",
       "</div>"
      ],
      "text/plain": [
       "          id  event_total      player_name  rank  last_rank  rank_sort  total  \\\n",
       "0   35832424           80    James Parfitt     1          1          1   1396   \n",
       "1   35939248           72        Alex Winn     2          3          2   1346   \n",
       "2   58581266           49         Seb Winn     3          2          3   1340   \n",
       "3   35832433           49     Ben Melhuish     4          6          4   1263   \n",
       "4   35879230           53   Joseph Parsons     5          8          5   1255   \n",
       "5   56846765           57  Richard Collins     6          9          6   1253   \n",
       "6   35832439           24    Jacob Pickles     7          4          7   1249   \n",
       "7   57395169           21   Mason Gardener     8          5          8   1235   \n",
       "8   35832437           31     Dan Pratlett     9          7          9   1235   \n",
       "9   48472859           25       Ben Wilson    10         10         10   1139   \n",
       "10  35832436           17     Ben Anderson    11         11         11   1125   \n",
       "11  35843947           22    Luke Counsell    12         12         12   1036   \n",
       "\n",
       "      entry            entry_name  \n",
       "0   4651100       Where you been?  \n",
       "1   3794145               Al-Winn  \n",
       "2   7052472   Gangsters Allardyce  \n",
       "3   4075412     Melshys Mediocres  \n",
       "4   4656770    AFC Great Name UTD  \n",
       "5   6911033  Eze-er said than Son  \n",
       "6   3148659             Gobblebox  \n",
       "7   6963106         nice to Michu  \n",
       "8   3194123  Onana what’s my name  \n",
       "9   6083206         Kloppenheimer  \n",
       "10  2709514       Henry not Harry  \n",
       "11  4371621             RareChonk  "
      ]
     },
     "execution_count": 4,
     "metadata": {},
     "output_type": "execute_result"
    }
   ],
   "source": [
    "league_df = pd.DataFrame(fpl_league_response_json[\"standings\"][\"results\"])\n",
    "league_df"
   ]
  },
  {
   "cell_type": "markdown",
   "metadata": {},
   "source": [
    "## Open player data and make ID map"
   ]
  },
  {
   "cell_type": "code",
   "execution_count": 5,
   "metadata": {},
   "outputs": [
    {
     "data": {
      "text/plain": [
       "{1: 'Balogun',\n",
       " 2: 'Cédric',\n",
       " 3: 'M.Elneny',\n",
       " 4: 'Fábio Vieira',\n",
       " 5: 'Gabriel',\n",
       " 6: 'Havertz',\n",
       " 8: 'G.Jesus',\n",
       " 9: 'Jorginho',\n",
       " 10: 'Kiwior',\n",
       " 11: 'Marquinhos',\n",
       " 12: 'Martinelli',\n",
       " 13: 'Nketiah',\n",
       " 14: 'Ødegaard',\n",
       " 15: 'Thomas',\n",
       " 16: 'Pepe',\n",
       " 17: 'Ramsdale',\n",
       " 18: 'Rúnarsson',\n",
       " 19: 'Saka',\n",
       " 20: 'Saliba',\n",
       " 22: 'Smith Rowe',\n",
       " 24: 'Tierney',\n",
       " 25: 'Tomiyasu',\n",
       " 26: 'Trossard',\n",
       " 29: 'White',\n",
       " 30: 'Xhaka',\n",
       " 31: 'Zinchenko',\n",
       " 113: 'Raya',\n",
       " 540: 'Rice',\n",
       " 578: 'Nelson',\n",
       " 585: 'J.Timber',\n",
       " 646: 'Hein',\n",
       " 735: 'Sagoe',\n",
       " 736: 'Walters',\n",
       " 737: 'Ibrahim',\n",
       " 764: 'Lewis-Skelly',\n",
       " 772: 'Nwaneri',\n",
       " 32: 'Alex Moreno',\n",
       " 34: 'Bailey',\n",
       " 35: 'Buendia',\n",
       " 36: 'Cash',\n",
       " 37: 'Chambers',\n",
       " 38: 'Coutinho',\n",
       " 39: 'Davis',\n",
       " 40: 'Dendoncker',\n",
       " 41: 'Diego Carlos',\n",
       " 42: 'Digne',\n",
       " 43: 'Douglas Luiz',\n",
       " 44: 'Duran',\n",
       " 45: 'Hause',\n",
       " 46: 'Iroegbunam',\n",
       " 47: 'Kamara',\n",
       " 48: 'Konsa',\n",
       " 49: 'Martinez',\n",
       " 50: 'McGinn',\n",
       " 51: 'Mings',\n",
       " 53: 'Olsen',\n",
       " 54: 'Philogene',\n",
       " 55: 'J.Ramsey',\n",
       " 56: 'Sanson',\n",
       " 57: 'Sinisalo',\n",
       " 58: 'Tielemans',\n",
       " 59: 'Bertrand Traoré',\n",
       " 60: 'Watkins',\n",
       " 61: 'Wesley',\n",
       " 584: 'Pau',\n",
       " 599: 'Diaby',\n",
       " 618: 'Kellyman',\n",
       " 670: 'Marschall',\n",
       " 672: 'Zaniolo',\n",
       " 686: 'Zych',\n",
       " 699: 'Lenglet',\n",
       " 765: 'Proctor',\n",
       " 767: \"O'Reilly\",\n",
       " 62: 'Anthony',\n",
       " 63: 'Billing',\n",
       " 64: 'Brooks',\n",
       " 65: 'Christie',\n",
       " 66: 'L.Cook',\n",
       " 67: 'Siriki',\n",
       " 68: 'Fredericks',\n",
       " 69: 'Hill',\n",
       " 70: 'Kelly',\n",
       " 71: 'Kilkenny',\n",
       " 72: 'Kluivert',\n",
       " 73: 'Lowe',\n",
       " 74: 'Marcondes',\n",
       " 75: 'Mepham',\n",
       " 76: 'Moore',\n",
       " 77: 'Neto',\n",
       " 78: 'O.Dango',\n",
       " 79: 'Pearson',\n",
       " 80: 'Randolph',\n",
       " 81: 'Rothwell',\n",
       " 82: 'Semenyo',\n",
       " 83: 'Senesi',\n",
       " 84: 'Smith',\n",
       " 85: 'Solanke',\n",
       " 86: 'Tavernier',\n",
       " 87: 'Hamed Traorè',\n",
       " 88: 'Travers',\n",
       " 89: 'Zabarnyi',\n",
       " 595: 'Kerkez',\n",
       " 607: 'Radu',\n",
       " 619: 'Greenwood',\n",
       " 643: 'Aarons',\n",
       " 644: 'Scott',\n",
       " 673: 'Adams',\n",
       " 705: 'Sinisterra',\n",
       " 90: 'Ajer',\n",
       " 91: 'Balcombe',\n",
       " 92: 'Baptiste',\n",
       " 93: 'Bech',\n",
       " 94: 'Bidstrup',\n",
       " 95: 'Canós',\n",
       " 96: 'Collins',\n",
       " 97: 'Cox',\n",
       " 98: 'Damsgaard',\n",
       " 99: 'Dasilva',\n",
       " 100: 'Dervişoğlu',\n",
       " 101: 'Flekken',\n",
       " 102: 'Goode',\n",
       " 103: 'Henry',\n",
       " 104: 'Hickey',\n",
       " 105: 'Janelt',\n",
       " 106: 'Jensen',\n",
       " 107: 'Lewis-Potter',\n",
       " 108: 'Mbeumo',\n",
       " 109: 'Mee',\n",
       " 110: 'Nørgaard',\n",
       " 111: 'Onyeka',\n",
       " 112: 'Pinnock',\n",
       " 114: 'Roerslev',\n",
       " 115: 'Schade',\n",
       " 116: 'Strakosha',\n",
       " 117: 'Toney',\n",
       " 118: 'Trevitt',\n",
       " 119: 'Wissa',\n",
       " 120: 'Yarmoliuk',\n",
       " 121: 'Zanka',\n",
       " 258: 'Maupay',\n",
       " 620: 'Olakigbe',\n",
       " 684: 'Brierley',\n",
       " 701: 'Ghoddos',\n",
       " 725: 'Kim Ji-Soo',\n",
       " 733: 'Adedokun',\n",
       " 744: 'Peart-Harris',\n",
       " 752: 'Angelini',\n",
       " 122: 'Adingra',\n",
       " 123: 'Alzate',\n",
       " 124: 'Ayari',\n",
       " 125: 'Buonanotte',\n",
       " 127: 'Connolly',\n",
       " 128: 'Dahoud',\n",
       " 129: 'Dunk',\n",
       " 130: 'Enciso',\n",
       " 131: 'Estupiñan',\n",
       " 132: 'Ferguson',\n",
       " 133: 'Gilmour',\n",
       " 134: 'Gross',\n",
       " 135: 'João Pedro',\n",
       " 136: 'Karbownik',\n",
       " 137: 'Kozłowski',\n",
       " 138: 'Lallana',\n",
       " 139: 'Lamptey',\n",
       " 140: 'March',\n",
       " 141: 'McGill',\n",
       " 142: 'Milner',\n",
       " 143: 'Mitoma',\n",
       " 144: 'Moder',\n",
       " 146: 'Sarmiento',\n",
       " 147: 'Scherpen',\n",
       " 148: 'Steele',\n",
       " 149: 'Undav',\n",
       " 150: 'Van Hecke',\n",
       " 151: 'Veltman',\n",
       " 152: 'Verbruggen',\n",
       " 153: 'Webster',\n",
       " 154: 'Welbeck',\n",
       " 155: 'Zeqiri',\n",
       " 606: 'Igor',\n",
       " 621: 'Hinshelwood',\n",
       " 690: 'Baleba',\n",
       " 700: 'Ansu Fati',\n",
       " 741: 'O’Mahony',\n",
       " 742: 'Baker-Boaitey',\n",
       " 746: 'Jackson',\n",
       " 747: 'Duffus',\n",
       " 753: 'Kavanagh',\n",
       " 755: 'Barrington',\n",
       " 156: 'Agyei',\n",
       " 157: 'Al-Dakhil',\n",
       " 158: 'Bastien',\n",
       " 159: 'Benson',\n",
       " 160: 'Beyer',\n",
       " 161: 'Brownhill',\n",
       " 162: 'Churlinov',\n",
       " 163: 'Cork',\n",
       " 164: 'Costelloe',\n",
       " 165: 'Cullen',\n",
       " 166: 'Egan-Riley',\n",
       " 167: 'Ekdal',\n",
       " 168: 'Foster',\n",
       " 169: 'Franchi',\n",
       " 170: 'Gudmundsson',\n",
       " 171: 'McNally',\n",
       " 172: 'Muric',\n",
       " 173: \"O'Shea\",\n",
       " 174: 'Obafemi',\n",
       " 175: 'Peacock-Farrell',\n",
       " 176: 'Roberts',\n",
       " 177: 'Rodriguez',\n",
       " 178: 'Taylor',\n",
       " 179: 'Thomas',\n",
       " 180: 'Twine',\n",
       " 181: 'Vigouroux',\n",
       " 182: 'Vitinho',\n",
       " 183: 'Weghorst',\n",
       " 184: 'Zaroury',\n",
       " 475: 'Berge',\n",
       " 594: 'Amdouni',\n",
       " 596: 'Trafford',\n",
       " 600: 'Redmond',\n",
       " 605: 'Koleosho',\n",
       " 608: 'Bruun Larsen',\n",
       " 622: 'Dodgson',\n",
       " 660: 'Odobert',\n",
       " 674: 'Delcroix',\n",
       " 675: 'A.Ramsey',\n",
       " 694: 'Massengo',\n",
       " 706: 'M.Trésor',\n",
       " 126: 'Caicedo',\n",
       " 145: 'Sanchez',\n",
       " 185: 'Ampadu',\n",
       " 187: 'Arrizabalaga',\n",
       " 188: 'Aubameyang',\n",
       " 189: 'Azpilicueta',\n",
       " 190: 'Baba',\n",
       " 191: 'B.Badiashile',\n",
       " 192: 'Bettinelli',\n",
       " 193: 'Broja',\n",
       " 194: 'Chalobah',\n",
       " 195: 'Chilwell',\n",
       " 196: 'Chukwuemeka',\n",
       " 197: 'Colwill',\n",
       " 198: 'Cucurella',\n",
       " 199: 'Enzo',\n",
       " 200: 'D.D.Fofana',\n",
       " 201: 'W.Fofana',\n",
       " 202: 'Gallagher',\n",
       " 203: 'Gusto',\n",
       " 206: 'James',\n",
       " 207: 'Lukaku',\n",
       " 208: 'Madueke',\n",
       " 210: 'Mudryk',\n",
       " 211: 'N.Jackson',\n",
       " 212: 'Nkunku',\n",
       " 213: 'Pulisic',\n",
       " 214: 'M.Sarr',\n",
       " 215: 'Slonina',\n",
       " 216: 'Sterling',\n",
       " 217: 'T.Silva',\n",
       " 218: 'Ziyech',\n",
       " 362: 'Palmer',\n",
       " 589: 'Ângelo',\n",
       " 609: 'Maatsen',\n",
       " 611: 'Disasi',\n",
       " 613: 'Ugochukwu',\n",
       " 623: 'Burstow',\n",
       " 659: 'Bergström',\n",
       " 667: 'Lavia',\n",
       " 671: 'Humphreys',\n",
       " 677: 'Deivid',\n",
       " 680: 'Beach',\n",
       " 681: 'Diego Moreira',\n",
       " 687: 'Petrovic',\n",
       " 716: 'Gilchrist',\n",
       " 717: 'Stutter',\n",
       " 718: 'Matos',\n",
       " 723: 'Brooking',\n",
       " 758: 'Castledine',\n",
       " 7: 'Holding',\n",
       " 219: 'Ahamada',\n",
       " 220: 'Andersen',\n",
       " 221: 'J.Ayew',\n",
       " 222: 'Clyne',\n",
       " 223: 'C.Doucouré',\n",
       " 224: 'Ebiowei',\n",
       " 225: 'Edouard',\n",
       " 226: 'Eze',\n",
       " 227: 'Guaita',\n",
       " 228: 'Guéhi',\n",
       " 229: 'Hughes',\n",
       " 230: 'Johnstone',\n",
       " 231: 'Lerma',\n",
       " 232: 'Mateta',\n",
       " 233: 'Matthews',\n",
       " 234: 'Mitchell',\n",
       " 235: \"O'Brien\",\n",
       " 236: 'Olise',\n",
       " 237: 'Plange',\n",
       " 238: 'C.Richards',\n",
       " 239: 'Riedewald',\n",
       " 240: 'Schlupp',\n",
       " 241: 'Tomkins',\n",
       " 242: 'Ward',\n",
       " 243: 'Whitworth',\n",
       " 385: 'Henderson',\n",
       " 615: 'Matheus França',\n",
       " 657: 'Rak-Sakyi',\n",
       " 658: 'Gordon',\n",
       " 720: 'Ola-Adebomi',\n",
       " 721: 'Ozoh',\n",
       " 724: 'Raymond',\n",
       " 763: 'Adaramola',\n",
       " 244: 'André Gomes',\n",
       " 245: 'Branthwaite',\n",
       " 246: 'Calvert-Lewin',\n",
       " 247: 'Coleman',\n",
       " 248: 'Dele',\n",
       " 249: 'A.Doucoure',\n",
       " 250: 'Garner',\n",
       " 251: 'Gbamin',\n",
       " 252: 'Godfrey',\n",
       " 253: 'Gray',\n",
       " 254: 'Gana',\n",
       " 255: 'Holgate',\n",
       " 257: 'Keane',\n",
       " 259: 'McNeil',\n",
       " 260: 'Mykolenko',\n",
       " 261: 'Onana',\n",
       " 262: 'Patterson',\n",
       " 263: 'Pickford',\n",
       " 264: 'Simms',\n",
       " 265: 'Tarkowski',\n",
       " 266: 'J.Virginia',\n",
       " 579: 'Lonergan',\n",
       " 588: 'Young',\n",
       " 601: 'Danjuma',\n",
       " 624: 'Dobbin',\n",
       " 645: 'Y. Chermiti',\n",
       " 649: 'Cannon',\n",
       " 650: 'Onyango',\n",
       " 661: 'Harrison',\n",
       " 691: 'Beto',\n",
       " 719: 'Hunt',\n",
       " 760: 'Metcalfe',\n",
       " 761: 'Campbell',\n",
       " 256: 'Iwobi',\n",
       " 267: 'Andreas',\n",
       " 268: 'Cairney',\n",
       " 269: 'I.Cavaleiro',\n",
       " 270: 'De Cordova-Reid',\n",
       " 271: 'Diop',\n",
       " 272: 'Francois',\n",
       " 273: 'Knockaert',\n",
       " 274: 'Kongolo',\n",
       " 275: 'Leno',\n",
       " 276: 'Lukić',\n",
       " 277: 'Mbabu',\n",
       " 278: 'Mitrović',\n",
       " 279: 'Muniz',\n",
       " 280: 'J.Palhinha',\n",
       " 281: 'Ream',\n",
       " 282: 'Reed',\n",
       " 283: 'Robinson',\n",
       " 284: 'Rodák',\n",
       " 285: 'Tete',\n",
       " 286: 'Tosin',\n",
       " 287: 'Vinícius',\n",
       " 288: 'Wilson',\n",
       " 558: 'Raúl',\n",
       " 591: 'Willian',\n",
       " 610: 'Bassey',\n",
       " 625: 'De Fougerolles',\n",
       " 651: 'Stansfield',\n",
       " 652: 'Dibley-Dias',\n",
       " 662: 'Adama',\n",
       " 683: 'Harris',\n",
       " 688: 'Castagne',\n",
       " 692: 'Benda',\n",
       " 707: 'Ballo-Touré',\n",
       " 732: 'Tanton',\n",
       " 289: 'Adrián',\n",
       " 290: 'Alexander-Arnold',\n",
       " 291: 'A.Becker',\n",
       " 292: 'Bajcetic',\n",
       " 293: 'Darwin',\n",
       " 294: 'Diogo J.',\n",
       " 295: 'Elliott',\n",
       " 296: 'Fabinho',\n",
       " 297: 'Gakpo',\n",
       " 298: 'Gomez',\n",
       " 299: 'Henderson',\n",
       " 300: 'Jones',\n",
       " 301: 'Kelleher',\n",
       " 302: 'Konaté',\n",
       " 303: 'Luis Díaz',\n",
       " 304: 'Mac Allister',\n",
       " 305: 'Matip',\n",
       " 306: 'Phillips',\n",
       " 307: 'Robertson',\n",
       " 308: 'Salah',\n",
       " 309: 'Szoboszlai',\n",
       " 310: 'Thiago',\n",
       " 311: 'Tsimikas',\n",
       " 312: 'Van den Berg',\n",
       " 313: 'Virgil',\n",
       " 626: 'Quansah',\n",
       " 627: 'Clark',\n",
       " 628: 'Doak',\n",
       " 629: 'McConnell',\n",
       " 668: 'Endo',\n",
       " 708: 'Gravenberch',\n",
       " 726: 'Chambers',\n",
       " 728: 'Scanlon',\n",
       " 743: 'Nyoni',\n",
       " 756: 'Pitaluga',\n",
       " 757: 'Bradley',\n",
       " 21: 'Sambi',\n",
       " 52: 'Nakamba',\n",
       " 314: 'Adebayo',\n",
       " 315: 'Andersen',\n",
       " 316: 'Bell',\n",
       " 317: 'Berry',\n",
       " 318: 'Burke',\n",
       " 319: 'Campbell',\n",
       " 320: 'Clark',\n",
       " 321: 'Doughty',\n",
       " 322: 'Freeman',\n",
       " 323: 'Macey',\n",
       " 324: 'McAtee',\n",
       " 325: 'Mendes',\n",
       " 326: 'Morris',\n",
       " 327: 'Muskwe',\n",
       " 328: 'Ogbene',\n",
       " 329: 'Onyedinma',\n",
       " 330: 'Osho',\n",
       " 331: 'Pepple',\n",
       " 332: 'Pereira',\n",
       " 333: 'Potts',\n",
       " 334: 'Rea',\n",
       " 335: 'Shea',\n",
       " 336: 'Taylor',\n",
       " 337: 'Thorpe',\n",
       " 338: 'Walton',\n",
       " 339: 'Watson',\n",
       " 340: 'Woodrow',\n",
       " 393: 'Mengi',\n",
       " 553: 'Giles',\n",
       " 575: 'Lockyer',\n",
       " 582: 'Mpanzu',\n",
       " 586: 'Chong',\n",
       " 602: 'Kaboré',\n",
       " 614: 'Kaminski',\n",
       " 630: 'Barkley',\n",
       " 631: 'Brown',\n",
       " 648: 'Francis-Clarke',\n",
       " 665: 'Krul',\n",
       " 682: 'Johnson',\n",
       " 727: 'Townsend',\n",
       " 729: 'Luker',\n",
       " 734: 'Nelson',\n",
       " 341: 'Akanji',\n",
       " 342: 'Aké',\n",
       " 343: 'J.Alvarez',\n",
       " 344: 'Bernardo',\n",
       " 345: 'Bobb',\n",
       " 346: 'Cancelo',\n",
       " 347: 'Carson',\n",
       " 348: 'Charles',\n",
       " 349: 'De Bruyne',\n",
       " 350: 'Rúben',\n",
       " 352: 'Ederson M.',\n",
       " 353: 'Foden',\n",
       " 354: 'Grealish',\n",
       " 355: 'Haaland',\n",
       " 356: 'Kovačić',\n",
       " 357: 'Laporte',\n",
       " 358: 'R.Lewis',\n",
       " 359: 'Mahrez',\n",
       " 361: 'Ortega Moreno',\n",
       " 363: 'Perrone',\n",
       " 364: 'Phillips',\n",
       " 365: 'Rodrigo',\n",
       " 366: 'Sergio Gómez',\n",
       " 367: 'Steffen',\n",
       " 368: 'Stones',\n",
       " 369: 'Walker',\n",
       " 566: 'Matheus N.',\n",
       " 616: 'Gvardiol',\n",
       " 678: 'Doku',\n",
       " 762: 'Susoho',\n",
       " 771: 'Hamilton',\n",
       " 209: 'Mount',\n",
       " 370: 'Alex Telles',\n",
       " 371: 'Amad',\n",
       " 372: 'Antony',\n",
       " 373: 'B.Fernandes',\n",
       " 374: 'B.Williams',\n",
       " 375: 'Bailly',\n",
       " 376: 'Casemiro',\n",
       " 377: 'Dalot',\n",
       " 379: 'Eriksen',\n",
       " 380: 'Fernandez',\n",
       " 381: 'Fred',\n",
       " 382: 'Garnacho',\n",
       " 383: 'Hannibal',\n",
       " 384: 'Heaton',\n",
       " 386: 'Lindelof',\n",
       " 387: 'Maguire',\n",
       " 388: 'Mainoo',\n",
       " 389: 'Malacia',\n",
       " 390: 'Martial',\n",
       " 391: 'Martinez',\n",
       " 392: 'McTominay',\n",
       " 394: 'Pellistri',\n",
       " 395: 'R.Varane',\n",
       " 396: 'Rashford',\n",
       " 397: 'Sancho',\n",
       " 398: 'Shaw',\n",
       " 399: 'Shoretire',\n",
       " 400: 'Van de Beek',\n",
       " 401: 'Wan-Bissaka',\n",
       " 508: 'Reguilón',\n",
       " 597: 'Onana',\n",
       " 617: 'Højlund',\n",
       " 632: 'Forson',\n",
       " 669: 'Vítek',\n",
       " 685: 'Gore',\n",
       " 695: 'Altay',\n",
       " 703: 'Evans',\n",
       " 709: 'Amrabat',\n",
       " 748: 'Hugill',\n",
       " 766: 'Kambwala',\n",
       " 768: 'Bennett',\n",
       " 204: 'Hall',\n",
       " 402: 'Almirón',\n",
       " 403: 'Anderson',\n",
       " 404: 'Ashby',\n",
       " 405: 'Botman',\n",
       " 406: 'Bruno G.',\n",
       " 407: 'Burn',\n",
       " 408: 'Darlow',\n",
       " 409: 'Dubravka',\n",
       " 410: 'Fraser',\n",
       " 411: 'Gillespie',\n",
       " 412: 'Gordon',\n",
       " 413: 'Hayden',\n",
       " 414: 'Hendrick',\n",
       " 415: 'Isak',\n",
       " 416: 'Joelinton',\n",
       " 417: 'Krafth',\n",
       " 418: 'Kuol',\n",
       " 419: 'Lascelles',\n",
       " 420: 'J.Lewis',\n",
       " 421: 'Longstaff',\n",
       " 422: 'Manquillo',\n",
       " 423: 'J.Murphy',\n",
       " 424: 'Pope',\n",
       " 425: 'Ritchie',\n",
       " 426: 'Saint-Maximin',\n",
       " 427: 'Schär',\n",
       " 428: 'Targett',\n",
       " 429: 'Tonali',\n",
       " 430: 'Trippier',\n",
       " 431: 'Watts',\n",
       " 432: 'Willock',\n",
       " 433: 'Wilson',\n",
       " 580: 'Karius',\n",
       " 581: 'Dummett',\n",
       " 603: 'Barnes',\n",
       " 633: 'Livramento',\n",
       " 634: 'A.Murphy',\n",
       " 635: 'Miley',\n",
       " 738: 'Diallo',\n",
       " 739: 'Parkinson',\n",
       " 745: 'Ndiweni',\n",
       " 23: 'Tavares',\n",
       " 28: 'Turner',\n",
       " 186: 'Andrey',\n",
       " 205: 'Hudson-Odoi',\n",
       " 378: 'Elanga',\n",
       " 434: 'B.Aguilera',\n",
       " 435: 'Arter',\n",
       " 436: 'Aurier',\n",
       " 437: 'Awoniyi',\n",
       " 438: 'Biancone',\n",
       " 439: 'Boly',\n",
       " 440: 'Bowler',\n",
       " 441: 'Cook',\n",
       " 442: 'Danilo',\n",
       " 443: 'Dennis',\n",
       " 444: 'Dräger',\n",
       " 445: 'Felipe',\n",
       " 446: 'Freuler',\n",
       " 447: 'Gibbs-White',\n",
       " 448: 'Hennessey',\n",
       " 449: 'Horvath',\n",
       " 451: 'Kouyaté',\n",
       " 452: 'Laryea',\n",
       " 453: 'Mangala',\n",
       " 454: 'Mbe Soh',\n",
       " 455: 'McKenna',\n",
       " 456: 'Mighten',\n",
       " 457: 'Niakhaté',\n",
       " 458: \"O'Brien\",\n",
       " 459: 'Ojeda',\n",
       " 460: 'Panzo',\n",
       " 461: 'O.Richards',\n",
       " 462: 'G.Scarpa',\n",
       " 463: 'J.Shelvey',\n",
       " 464: 'Surridge',\n",
       " 465: 'Toffolo',\n",
       " 466: 'Ui-jo',\n",
       " 467: 'Williams',\n",
       " 468: 'Wood',\n",
       " 469: 'Worrall',\n",
       " 470: 'Yates',\n",
       " 604: 'Aina',\n",
       " 636: 'G.Shelvey',\n",
       " 637: 'Powell',\n",
       " 679: 'G.Montiel',\n",
       " 696: 'Murillo',\n",
       " 710: 'Odysseas',\n",
       " 711: 'Omobamidele',\n",
       " 712: 'Dominguez',\n",
       " 713: 'Sangaré',\n",
       " 714: 'Origi',\n",
       " 27: 'Trusty',\n",
       " 33: 'Archer',\n",
       " 360: 'McAtee',\n",
       " 471: 'Ahmedhodžić',\n",
       " 472: 'Amissah',\n",
       " 473: 'Baldock',\n",
       " 474: 'Basham',\n",
       " 476: 'Bogle',\n",
       " 477: 'Brewster',\n",
       " 478: 'Coulibaly',\n",
       " 479: 'A.Davies',\n",
       " 480: 'Egan',\n",
       " 481: 'Fleck',\n",
       " 482: 'Foderingham',\n",
       " 483: 'Jebbison',\n",
       " 484: 'Lowe',\n",
       " 485: 'McBurnie',\n",
       " 486: 'Ndiaye',\n",
       " 487: 'Norrington-Davies',\n",
       " 488: 'Norwood',\n",
       " 489: 'Osborn',\n",
       " 490: 'Osula',\n",
       " 576: 'Robinson',\n",
       " 587: 'Slimane',\n",
       " 592: 'Larouci',\n",
       " 593: 'T.Bénie',\n",
       " 638: 'Vini Souza',\n",
       " 653: 'Seriki',\n",
       " 654: 'Marsh',\n",
       " 655: 'Brooks',\n",
       " 656: 'Hackford',\n",
       " 663: 'Hamer',\n",
       " 666: 'T.Davies',\n",
       " 693: 'Thomas',\n",
       " 730: 'Oné',\n",
       " 731: 'Buyabu',\n",
       " 759: 'Peck',\n",
       " 450: 'Johnson',\n",
       " 491: 'Austin',\n",
       " 492: 'Bentancur',\n",
       " 493: 'Bissouma',\n",
       " 494: 'Bryan',\n",
       " 495: 'Davies',\n",
       " 496: 'Dier',\n",
       " 497: 'E.Royal',\n",
       " 498: 'Forster',\n",
       " 499: 'Højbjerg',\n",
       " 500: 'Kane',\n",
       " 501: 'Kulusevski',\n",
       " 502: 'Lloris',\n",
       " 503: 'Lo Celso',\n",
       " 504: 'Maddison',\n",
       " 505: 'Ndombele',\n",
       " 506: 'Pedro Porro',\n",
       " 507: 'Perišić',\n",
       " 509: 'Richarlison',\n",
       " 510: 'Rodon',\n",
       " 511: 'Romero',\n",
       " 512: 'Sánchez',\n",
       " 513: 'Sarr',\n",
       " 514: 'Sessegnon',\n",
       " 515: 'Skipp',\n",
       " 516: 'Son',\n",
       " 517: 'Spence',\n",
       " 518: 'Tanganga',\n",
       " 519: 'Udogie',\n",
       " 520: 'Vicario',\n",
       " 521: 'Whiteman',\n",
       " 583: 'Solomon',\n",
       " 639: 'Van de Ven',\n",
       " 640: 'Scarlett',\n",
       " 641: 'Veliz',\n",
       " 702: 'Phillips',\n",
       " 722: 'Donley',\n",
       " 740: 'Dorrington',\n",
       " 754: 'Yago Santiago',\n",
       " 522: 'N.Aguerd',\n",
       " 523: 'Antonio',\n",
       " 524: 'Areola',\n",
       " 525: 'Benrahma',\n",
       " 526: 'Bowen',\n",
       " 527: 'Cornet',\n",
       " 528: 'Coufal',\n",
       " 529: 'Coventry',\n",
       " 530: 'Cresswell',\n",
       " 531: 'Downes',\n",
       " 532: 'Emerson',\n",
       " 533: 'Fabianski',\n",
       " 534: 'P.Fornals',\n",
       " 535: 'Ings',\n",
       " 536: 'Johnson',\n",
       " 537: 'Kehrer',\n",
       " 538: 'Mubama',\n",
       " 539: 'L.Paquetá',\n",
       " 541: 'Scamacca',\n",
       " 542: 'Souček',\n",
       " 543: 'Vlašić',\n",
       " 544: 'Zouma',\n",
       " 577: 'Ogbonna',\n",
       " 642: 'Álvarez',\n",
       " 647: 'Anang',\n",
       " 664: 'Ward-Prowse',\n",
       " 676: 'Mavropanos',\n",
       " 689: 'Kudus',\n",
       " 773: 'Orford',\n",
       " 774: 'Casey',\n",
       " 351: 'Doyle',\n",
       " 545: 'Aït-Nouri',\n",
       " 546: 'Bentley',\n",
       " 547: 'Bolla',\n",
       " 548: 'H.Bueno',\n",
       " 549: 'Chiquinho',\n",
       " 550: 'Cundle',\n",
       " 551: 'Dawson',\n",
       " 552: 'Fábio Silva',\n",
       " 554: 'Guedes',\n",
       " 555: 'Hodge',\n",
       " 556: 'Hoever',\n",
       " 557: 'Hee Chan',\n",
       " 559: 'João Gomes',\n",
       " 560: 'J.Otto',\n",
       " 561: 'Jordão',\n",
       " 562: 'Kalajdžić',\n",
       " 563: 'Kilman',\n",
       " 564: 'King',\n",
       " 565: 'Lemina',\n",
       " 567: 'Neto',\n",
       " 568: 'Podence',\n",
       " 569: 'José Sá',\n",
       " 570: 'Sarabia',\n",
       " 571: 'Šarkić',\n",
       " 572: 'N.Semedo',\n",
       " 573: 'Toti',\n",
       " 574: 'Boubacar Traore',\n",
       " 590: 'Cunha',\n",
       " 598: 'Doherty',\n",
       " 697: 'S.Bueno',\n",
       " 698: 'González',\n",
       " 704: 'Fraser',\n",
       " 715: 'Bellegarde',\n",
       " 749: 'Whittingham',\n",
       " 750: 'Chirewa',\n",
       " 751: 'Hubner',\n",
       " 769: 'Hesketh',\n",
       " 770: 'Barnett'}"
      ]
     },
     "execution_count": 5,
     "metadata": {},
     "output_type": "execute_result"
    }
   ],
   "source": [
    "players_df = pd.read_csv(cwd + \"/../data/app/players_raw.csv\")\n",
    "players_df.loc[:, [\"id\", \"web_name\"]]\n",
    "id_name_dict = pd.Series(\n",
    "    players_df[\"web_name\"].values, index=players_df[\"id\"]\n",
    ").to_dict()\n",
    "id_name_dict"
   ]
  },
  {
   "cell_type": "markdown",
   "metadata": {},
   "source": [
    "## Do the same for manager_id"
   ]
  },
  {
   "cell_type": "code",
   "execution_count": 6,
   "metadata": {},
   "outputs": [
    {
     "data": {
      "text/plain": [
       "{4651100: 'James Parfitt',\n",
       " 3794145: 'Alex Winn',\n",
       " 7052472: 'Seb Winn',\n",
       " 4075412: 'Ben Melhuish',\n",
       " 4656770: 'Joseph Parsons',\n",
       " 6911033: 'Richard Collins',\n",
       " 3148659: 'Jacob Pickles',\n",
       " 6963106: 'Mason Gardener',\n",
       " 3194123: 'Dan Pratlett',\n",
       " 6083206: 'Ben Wilson',\n",
       " 2709514: 'Ben Anderson',\n",
       " 4371621: 'Luke Counsell'}"
      ]
     },
     "execution_count": 6,
     "metadata": {},
     "output_type": "execute_result"
    }
   ],
   "source": [
    "manager_id_name_dict = pd.Series(\n",
    "    league_df[\"player_name\"].values, index=league_df[\"entry\"]\n",
    ").to_dict()\n",
    "manager_id_name_dict"
   ]
  },
  {
   "cell_type": "markdown",
   "metadata": {},
   "source": [
    "## Get tranfers df"
   ]
  },
  {
   "cell_type": "code",
   "execution_count": 7,
   "metadata": {},
   "outputs": [
    {
     "data": {
      "text/plain": [
       "element_in          object\n",
       "element_in_cost     object\n",
       "element_out         object\n",
       "element_out_cost    object\n",
       "entry                int64\n",
       "event                int64\n",
       "time                object\n",
       "manager_id           int64\n",
       "Manager             object\n",
       "dtype: object"
      ]
     },
     "execution_count": 7,
     "metadata": {},
     "output_type": "execute_result"
    }
   ],
   "source": [
    "def human_readable(num):\n",
    "    if num > 1000000:\n",
    "        if not num % 1000000:\n",
    "            return f\"{num // 1000000}M\"\n",
    "        return f\"{round(num / 1000000, 1)}M\"\n",
    "    return f\"{num // 1000}K\"\n",
    "\n",
    "\n",
    "transfers_dfs_list = []\n",
    "for manager_id in league_df[\"entry\"].values:\n",
    "    response = requests.get(transfers_url_template.format(manager_id=manager_id))\n",
    "    transfers_response_json = response.json()\n",
    "    if not transfers_response_json:\n",
    "        continue\n",
    "    transfers_df = pd.DataFrame(transfers_response_json)\n",
    "    transfers_df[\"element_in\"] = transfers_df[\"element_in\"].map(id_name_dict)\n",
    "    transfers_df[\"element_in_cost\"] = (transfers_df[\"element_in_cost\"] * 1e5).apply(\n",
    "        lambda n: human_readable(n)\n",
    "    )\n",
    "    transfers_df[\"element_out\"] = transfers_df[\"element_out\"].map(id_name_dict)\n",
    "    transfers_df[\"element_out_cost\"] = (transfers_df[\"element_out_cost\"] * 1e5).apply(\n",
    "        lambda n: human_readable(n)\n",
    "    )\n",
    "    transfers_df[\"manager_id\"] = manager_id\n",
    "    transfers_df[\"Manager\"] = manager_id_name_dict[manager_id]\n",
    "    # transfers_df[\"time\"] = pd.to_datetime(transfers_df[\"time\"]).dt.round(\"1s\")\n",
    "    transfers_dfs_list.append(transfers_df)\n",
    "all_managers_transfers_df = pd.concat(transfers_dfs_list)\n",
    "all_managers_transfers_df.dtypes"
   ]
  },
  {
   "cell_type": "code",
   "execution_count": 8,
   "metadata": {},
   "outputs": [
    {
     "data": {
      "text/html": [
       "<div>\n",
       "<style scoped>\n",
       "    .dataframe tbody tr th:only-of-type {\n",
       "        vertical-align: middle;\n",
       "    }\n",
       "\n",
       "    .dataframe tbody tr th {\n",
       "        vertical-align: top;\n",
       "    }\n",
       "\n",
       "    .dataframe thead th {\n",
       "        text-align: right;\n",
       "    }\n",
       "</style>\n",
       "<table border=\"1\" class=\"dataframe\">\n",
       "  <thead>\n",
       "    <tr style=\"text-align: right;\">\n",
       "      <th></th>\n",
       "      <th>element_in</th>\n",
       "      <th>element_in_cost</th>\n",
       "      <th>element_out</th>\n",
       "      <th>element_out_cost</th>\n",
       "      <th>entry</th>\n",
       "      <th>event</th>\n",
       "      <th>time</th>\n",
       "      <th>manager_id</th>\n",
       "      <th>Manager</th>\n",
       "    </tr>\n",
       "  </thead>\n",
       "  <tbody>\n",
       "    <tr>\n",
       "      <th>0</th>\n",
       "      <td>Gordon</td>\n",
       "      <td>6.2M</td>\n",
       "      <td>Douglas Luiz</td>\n",
       "      <td>5.6M</td>\n",
       "      <td>6911033</td>\n",
       "      <td>23</td>\n",
       "      <td>2024-02-03T09:09:18.238723Z</td>\n",
       "      <td>6911033</td>\n",
       "      <td>Richard Collins</td>\n",
       "    </tr>\n",
       "    <tr>\n",
       "      <th>1</th>\n",
       "      <td>Haaland</td>\n",
       "      <td>14.1M</td>\n",
       "      <td>J.Alvarez</td>\n",
       "      <td>6.9M</td>\n",
       "      <td>6911033</td>\n",
       "      <td>23</td>\n",
       "      <td>2024-02-03T09:09:18.232316Z</td>\n",
       "      <td>6911033</td>\n",
       "      <td>Richard Collins</td>\n",
       "    </tr>\n",
       "    <tr>\n",
       "      <th>2</th>\n",
       "      <td>Solanke</td>\n",
       "      <td>7.1M</td>\n",
       "      <td>Archer</td>\n",
       "      <td>4.5M</td>\n",
       "      <td>6911033</td>\n",
       "      <td>21</td>\n",
       "      <td>2024-01-12T14:41:34.670567Z</td>\n",
       "      <td>6911033</td>\n",
       "      <td>Richard Collins</td>\n",
       "    </tr>\n",
       "    <tr>\n",
       "      <th>3</th>\n",
       "      <td>Douglas Luiz</td>\n",
       "      <td>5.6M</td>\n",
       "      <td>Sarr</td>\n",
       "      <td>4.5M</td>\n",
       "      <td>6911033</td>\n",
       "      <td>21</td>\n",
       "      <td>2024-01-12T14:41:34.670338Z</td>\n",
       "      <td>6911033</td>\n",
       "      <td>Richard Collins</td>\n",
       "    </tr>\n",
       "    <tr>\n",
       "      <th>4</th>\n",
       "      <td>Richarlison</td>\n",
       "      <td>6.9M</td>\n",
       "      <td>Son</td>\n",
       "      <td>9.6M</td>\n",
       "      <td>6911033</td>\n",
       "      <td>21</td>\n",
       "      <td>2024-01-12T14:41:34.670118Z</td>\n",
       "      <td>6911033</td>\n",
       "      <td>Richard Collins</td>\n",
       "    </tr>\n",
       "    <tr>\n",
       "      <th>5</th>\n",
       "      <td>Saka</td>\n",
       "      <td>9.1M</td>\n",
       "      <td>Salah</td>\n",
       "      <td>12.8M</td>\n",
       "      <td>6911033</td>\n",
       "      <td>21</td>\n",
       "      <td>2024-01-12T14:41:34.669862Z</td>\n",
       "      <td>6911033</td>\n",
       "      <td>Richard Collins</td>\n",
       "    </tr>\n",
       "    <tr>\n",
       "      <th>6</th>\n",
       "      <td>Palmer</td>\n",
       "      <td>5.7M</td>\n",
       "      <td>Hee Chan</td>\n",
       "      <td>5.7M</td>\n",
       "      <td>6911033</td>\n",
       "      <td>21</td>\n",
       "      <td>2024-01-12T14:41:34.669626Z</td>\n",
       "      <td>6911033</td>\n",
       "      <td>Richard Collins</td>\n",
       "    </tr>\n",
       "    <tr>\n",
       "      <th>7</th>\n",
       "      <td>Foden</td>\n",
       "      <td>7.9M</td>\n",
       "      <td>Bowen</td>\n",
       "      <td>7.9M</td>\n",
       "      <td>6911033</td>\n",
       "      <td>21</td>\n",
       "      <td>2024-01-12T14:41:34.669389Z</td>\n",
       "      <td>6911033</td>\n",
       "      <td>Richard Collins</td>\n",
       "    </tr>\n",
       "    <tr>\n",
       "      <th>8</th>\n",
       "      <td>Virgil</td>\n",
       "      <td>6.3M</td>\n",
       "      <td>Alexander-Arnold</td>\n",
       "      <td>8.4M</td>\n",
       "      <td>6911033</td>\n",
       "      <td>21</td>\n",
       "      <td>2024-01-12T14:41:34.669138Z</td>\n",
       "      <td>6911033</td>\n",
       "      <td>Richard Collins</td>\n",
       "    </tr>\n",
       "    <tr>\n",
       "      <th>9</th>\n",
       "      <td>Areola</td>\n",
       "      <td>4.2M</td>\n",
       "      <td>Sanchez</td>\n",
       "      <td>4.6M</td>\n",
       "      <td>6911033</td>\n",
       "      <td>21</td>\n",
       "      <td>2024-01-12T14:41:34.668804Z</td>\n",
       "      <td>6911033</td>\n",
       "      <td>Richard Collins</td>\n",
       "    </tr>\n",
       "    <tr>\n",
       "      <th>10</th>\n",
       "      <td>Hee Chan</td>\n",
       "      <td>5.7M</td>\n",
       "      <td>Gordon</td>\n",
       "      <td>6.1M</td>\n",
       "      <td>6911033</td>\n",
       "      <td>20</td>\n",
       "      <td>2023-12-30T08:35:26.058878Z</td>\n",
       "      <td>6911033</td>\n",
       "      <td>Richard Collins</td>\n",
       "    </tr>\n",
       "    <tr>\n",
       "      <th>11</th>\n",
       "      <td>Alexander-Arnold</td>\n",
       "      <td>8.4M</td>\n",
       "      <td>Trippier</td>\n",
       "      <td>6.8M</td>\n",
       "      <td>6911033</td>\n",
       "      <td>20</td>\n",
       "      <td>2023-12-30T08:35:26.052634Z</td>\n",
       "      <td>6911033</td>\n",
       "      <td>Richard Collins</td>\n",
       "    </tr>\n",
       "    <tr>\n",
       "      <th>12</th>\n",
       "      <td>Gabriel</td>\n",
       "      <td>4.9M</td>\n",
       "      <td>Van de Ven</td>\n",
       "      <td>4.4M</td>\n",
       "      <td>6911033</td>\n",
       "      <td>19</td>\n",
       "      <td>2023-12-26T09:12:15.379030Z</td>\n",
       "      <td>6911033</td>\n",
       "      <td>Richard Collins</td>\n",
       "    </tr>\n",
       "    <tr>\n",
       "      <th>13</th>\n",
       "      <td>Bowen</td>\n",
       "      <td>7.7M</td>\n",
       "      <td>Douglas Luiz</td>\n",
       "      <td>5.5M</td>\n",
       "      <td>6911033</td>\n",
       "      <td>17</td>\n",
       "      <td>2023-12-15T13:45:58.391559Z</td>\n",
       "      <td>6911033</td>\n",
       "      <td>Richard Collins</td>\n",
       "    </tr>\n",
       "    <tr>\n",
       "      <th>14</th>\n",
       "      <td>Watkins</td>\n",
       "      <td>8.5M</td>\n",
       "      <td>Haaland</td>\n",
       "      <td>14.0M</td>\n",
       "      <td>6911033</td>\n",
       "      <td>17</td>\n",
       "      <td>2023-12-15T13:45:58.383579Z</td>\n",
       "      <td>6911033</td>\n",
       "      <td>Richard Collins</td>\n",
       "    </tr>\n",
       "    <tr>\n",
       "      <th>15</th>\n",
       "      <td>Sanchez</td>\n",
       "      <td>4.6M</td>\n",
       "      <td>Areola</td>\n",
       "      <td>4.1M</td>\n",
       "      <td>6911033</td>\n",
       "      <td>16</td>\n",
       "      <td>2023-12-09T08:56:14.476521Z</td>\n",
       "      <td>6911033</td>\n",
       "      <td>Richard Collins</td>\n",
       "    </tr>\n",
       "    <tr>\n",
       "      <th>16</th>\n",
       "      <td>Gordon</td>\n",
       "      <td>6.1M</td>\n",
       "      <td>Mbeumo</td>\n",
       "      <td>6.9M</td>\n",
       "      <td>6911033</td>\n",
       "      <td>16</td>\n",
       "      <td>2023-12-09T08:56:14.468097Z</td>\n",
       "      <td>6911033</td>\n",
       "      <td>Richard Collins</td>\n",
       "    </tr>\n",
       "    <tr>\n",
       "      <th>17</th>\n",
       "      <td>J.Alvarez</td>\n",
       "      <td>7.0M</td>\n",
       "      <td>Watkins</td>\n",
       "      <td>8.2M</td>\n",
       "      <td>6911033</td>\n",
       "      <td>14</td>\n",
       "      <td>2023-12-02T13:27:16.234297Z</td>\n",
       "      <td>6911033</td>\n",
       "      <td>Richard Collins</td>\n",
       "    </tr>\n",
       "    <tr>\n",
       "      <th>18</th>\n",
       "      <td>Mitchell</td>\n",
       "      <td>4.7M</td>\n",
       "      <td>Cash</td>\n",
       "      <td>5.0M</td>\n",
       "      <td>6911033</td>\n",
       "      <td>13</td>\n",
       "      <td>2023-11-25T07:27:39.277705Z</td>\n",
       "      <td>6911033</td>\n",
       "      <td>Richard Collins</td>\n",
       "    </tr>\n",
       "    <tr>\n",
       "      <th>19</th>\n",
       "      <td>Mbeumo</td>\n",
       "      <td>6.9M</td>\n",
       "      <td>Mitoma</td>\n",
       "      <td>6.5M</td>\n",
       "      <td>6911033</td>\n",
       "      <td>13</td>\n",
       "      <td>2023-11-25T07:27:39.270372Z</td>\n",
       "      <td>6911033</td>\n",
       "      <td>Richard Collins</td>\n",
       "    </tr>\n",
       "    <tr>\n",
       "      <th>20</th>\n",
       "      <td>Pinnock</td>\n",
       "      <td>4.5M</td>\n",
       "      <td>Gabriel</td>\n",
       "      <td>4.7M</td>\n",
       "      <td>6911033</td>\n",
       "      <td>11</td>\n",
       "      <td>2023-11-04T08:49:35.527000Z</td>\n",
       "      <td>6911033</td>\n",
       "      <td>Richard Collins</td>\n",
       "    </tr>\n",
       "    <tr>\n",
       "      <th>21</th>\n",
       "      <td>Van de Ven</td>\n",
       "      <td>4.7M</td>\n",
       "      <td>Udogie</td>\n",
       "      <td>4.7M</td>\n",
       "      <td>6911033</td>\n",
       "      <td>11</td>\n",
       "      <td>2023-11-04T08:49:35.515401Z</td>\n",
       "      <td>6911033</td>\n",
       "      <td>Richard Collins</td>\n",
       "    </tr>\n",
       "    <tr>\n",
       "      <th>22</th>\n",
       "      <td>Sarr</td>\n",
       "      <td>4.6M</td>\n",
       "      <td>Anderson</td>\n",
       "      <td>4.4M</td>\n",
       "      <td>6911033</td>\n",
       "      <td>10</td>\n",
       "      <td>2023-10-27T14:26:40.322835Z</td>\n",
       "      <td>6911033</td>\n",
       "      <td>Richard Collins</td>\n",
       "    </tr>\n",
       "    <tr>\n",
       "      <th>23</th>\n",
       "      <td>Son</td>\n",
       "      <td>9.4M</td>\n",
       "      <td>Bowen</td>\n",
       "      <td>7.2M</td>\n",
       "      <td>6911033</td>\n",
       "      <td>8</td>\n",
       "      <td>2023-10-07T09:55:29.443673Z</td>\n",
       "      <td>6911033</td>\n",
       "      <td>Richard Collins</td>\n",
       "    </tr>\n",
       "    <tr>\n",
       "      <th>24</th>\n",
       "      <td>Anderson</td>\n",
       "      <td>4.4M</td>\n",
       "      <td>Mbeumo</td>\n",
       "      <td>6.7M</td>\n",
       "      <td>6911033</td>\n",
       "      <td>8</td>\n",
       "      <td>2023-10-07T09:55:29.443427Z</td>\n",
       "      <td>6911033</td>\n",
       "      <td>Richard Collins</td>\n",
       "    </tr>\n",
       "    <tr>\n",
       "      <th>25</th>\n",
       "      <td>Douglas Luiz</td>\n",
       "      <td>5.4M</td>\n",
       "      <td>Baptiste</td>\n",
       "      <td>4.3M</td>\n",
       "      <td>6911033</td>\n",
       "      <td>8</td>\n",
       "      <td>2023-10-07T09:55:29.443181Z</td>\n",
       "      <td>6911033</td>\n",
       "      <td>Richard Collins</td>\n",
       "    </tr>\n",
       "    <tr>\n",
       "      <th>26</th>\n",
       "      <td>Gabriel</td>\n",
       "      <td>4.7M</td>\n",
       "      <td>Romero</td>\n",
       "      <td>4.6M</td>\n",
       "      <td>6911033</td>\n",
       "      <td>8</td>\n",
       "      <td>2023-10-07T09:55:29.442956Z</td>\n",
       "      <td>6911033</td>\n",
       "      <td>Richard Collins</td>\n",
       "    </tr>\n",
       "    <tr>\n",
       "      <th>27</th>\n",
       "      <td>Andersen</td>\n",
       "      <td>4.8M</td>\n",
       "      <td>Baldock</td>\n",
       "      <td>3.9M</td>\n",
       "      <td>6911033</td>\n",
       "      <td>8</td>\n",
       "      <td>2023-10-07T09:55:29.442723Z</td>\n",
       "      <td>6911033</td>\n",
       "      <td>Richard Collins</td>\n",
       "    </tr>\n",
       "    <tr>\n",
       "      <th>28</th>\n",
       "      <td>Trippier</td>\n",
       "      <td>6.8M</td>\n",
       "      <td>Estupiñan</td>\n",
       "      <td>5.1M</td>\n",
       "      <td>6911033</td>\n",
       "      <td>8</td>\n",
       "      <td>2023-10-07T09:55:29.442460Z</td>\n",
       "      <td>6911033</td>\n",
       "      <td>Richard Collins</td>\n",
       "    </tr>\n",
       "    <tr>\n",
       "      <th>29</th>\n",
       "      <td>Cash</td>\n",
       "      <td>5.0M</td>\n",
       "      <td>Chilwell</td>\n",
       "      <td>5.5M</td>\n",
       "      <td>6911033</td>\n",
       "      <td>8</td>\n",
       "      <td>2023-10-07T09:55:29.442196Z</td>\n",
       "      <td>6911033</td>\n",
       "      <td>Richard Collins</td>\n",
       "    </tr>\n",
       "    <tr>\n",
       "      <th>30</th>\n",
       "      <td>Turner</td>\n",
       "      <td>4.0M</td>\n",
       "      <td>Onana</td>\n",
       "      <td>4.9M</td>\n",
       "      <td>6911033</td>\n",
       "      <td>8</td>\n",
       "      <td>2023-10-07T09:55:29.441960Z</td>\n",
       "      <td>6911033</td>\n",
       "      <td>Richard Collins</td>\n",
       "    </tr>\n",
       "    <tr>\n",
       "      <th>31</th>\n",
       "      <td>Archer</td>\n",
       "      <td>4.5M</td>\n",
       "      <td>João Pedro</td>\n",
       "      <td>5.3M</td>\n",
       "      <td>6911033</td>\n",
       "      <td>8</td>\n",
       "      <td>2023-10-07T09:55:29.441673Z</td>\n",
       "      <td>6911033</td>\n",
       "      <td>Richard Collins</td>\n",
       "    </tr>\n",
       "    <tr>\n",
       "      <th>32</th>\n",
       "      <td>Bowen</td>\n",
       "      <td>7.2M</td>\n",
       "      <td>Saka</td>\n",
       "      <td>8.6M</td>\n",
       "      <td>6911033</td>\n",
       "      <td>7</td>\n",
       "      <td>2023-09-30T08:31:14.340699Z</td>\n",
       "      <td>6911033</td>\n",
       "      <td>Richard Collins</td>\n",
       "    </tr>\n",
       "    <tr>\n",
       "      <th>33</th>\n",
       "      <td>Udogie</td>\n",
       "      <td>4.7M</td>\n",
       "      <td>Alexander-Arnold</td>\n",
       "      <td>7.9M</td>\n",
       "      <td>6911033</td>\n",
       "      <td>6</td>\n",
       "      <td>2023-09-23T09:46:32.909140Z</td>\n",
       "      <td>6911033</td>\n",
       "      <td>Richard Collins</td>\n",
       "    </tr>\n",
       "    <tr>\n",
       "      <th>34</th>\n",
       "      <td>Salah</td>\n",
       "      <td>12.5M</td>\n",
       "      <td>Eze</td>\n",
       "      <td>6.3M</td>\n",
       "      <td>6911033</td>\n",
       "      <td>6</td>\n",
       "      <td>2023-09-23T09:46:32.903431Z</td>\n",
       "      <td>6911033</td>\n",
       "      <td>Richard Collins</td>\n",
       "    </tr>\n",
       "    <tr>\n",
       "      <th>35</th>\n",
       "      <td>Chilwell</td>\n",
       "      <td>5.8M</td>\n",
       "      <td>Trippier</td>\n",
       "      <td>6.5M</td>\n",
       "      <td>6911033</td>\n",
       "      <td>4</td>\n",
       "      <td>2023-09-01T09:38:07.587890Z</td>\n",
       "      <td>6911033</td>\n",
       "      <td>Richard Collins</td>\n",
       "    </tr>\n",
       "    <tr>\n",
       "      <th>36</th>\n",
       "      <td>Mbeumo</td>\n",
       "      <td>6.7M</td>\n",
       "      <td>Rashford</td>\n",
       "      <td>9.0M</td>\n",
       "      <td>6911033</td>\n",
       "      <td>3</td>\n",
       "      <td>2023-08-25T12:33:27.081289Z</td>\n",
       "      <td>6911033</td>\n",
       "      <td>Richard Collins</td>\n",
       "    </tr>\n",
       "    <tr>\n",
       "      <th>37</th>\n",
       "      <td>Romero</td>\n",
       "      <td>4.5M</td>\n",
       "      <td>Mings</td>\n",
       "      <td>4.4M</td>\n",
       "      <td>6911033</td>\n",
       "      <td>3</td>\n",
       "      <td>2023-08-25T12:33:27.073456Z</td>\n",
       "      <td>6911033</td>\n",
       "      <td>Richard Collins</td>\n",
       "    </tr>\n",
       "  </tbody>\n",
       "</table>\n",
       "</div>"
      ],
      "text/plain": [
       "          element_in element_in_cost       element_out element_out_cost  \\\n",
       "0             Gordon            6.2M      Douglas Luiz             5.6M   \n",
       "1            Haaland           14.1M         J.Alvarez             6.9M   \n",
       "2            Solanke            7.1M            Archer             4.5M   \n",
       "3       Douglas Luiz            5.6M              Sarr             4.5M   \n",
       "4        Richarlison            6.9M               Son             9.6M   \n",
       "5               Saka            9.1M             Salah            12.8M   \n",
       "6             Palmer            5.7M          Hee Chan             5.7M   \n",
       "7              Foden            7.9M             Bowen             7.9M   \n",
       "8             Virgil            6.3M  Alexander-Arnold             8.4M   \n",
       "9             Areola            4.2M           Sanchez             4.6M   \n",
       "10          Hee Chan            5.7M            Gordon             6.1M   \n",
       "11  Alexander-Arnold            8.4M          Trippier             6.8M   \n",
       "12           Gabriel            4.9M        Van de Ven             4.4M   \n",
       "13             Bowen            7.7M      Douglas Luiz             5.5M   \n",
       "14           Watkins            8.5M           Haaland            14.0M   \n",
       "15           Sanchez            4.6M            Areola             4.1M   \n",
       "16            Gordon            6.1M            Mbeumo             6.9M   \n",
       "17         J.Alvarez            7.0M           Watkins             8.2M   \n",
       "18          Mitchell            4.7M              Cash             5.0M   \n",
       "19            Mbeumo            6.9M            Mitoma             6.5M   \n",
       "20           Pinnock            4.5M           Gabriel             4.7M   \n",
       "21        Van de Ven            4.7M            Udogie             4.7M   \n",
       "22              Sarr            4.6M          Anderson             4.4M   \n",
       "23               Son            9.4M             Bowen             7.2M   \n",
       "24          Anderson            4.4M            Mbeumo             6.7M   \n",
       "25      Douglas Luiz            5.4M          Baptiste             4.3M   \n",
       "26           Gabriel            4.7M            Romero             4.6M   \n",
       "27          Andersen            4.8M           Baldock             3.9M   \n",
       "28          Trippier            6.8M         Estupiñan             5.1M   \n",
       "29              Cash            5.0M          Chilwell             5.5M   \n",
       "30            Turner            4.0M             Onana             4.9M   \n",
       "31            Archer            4.5M        João Pedro             5.3M   \n",
       "32             Bowen            7.2M              Saka             8.6M   \n",
       "33            Udogie            4.7M  Alexander-Arnold             7.9M   \n",
       "34             Salah           12.5M               Eze             6.3M   \n",
       "35          Chilwell            5.8M          Trippier             6.5M   \n",
       "36            Mbeumo            6.7M          Rashford             9.0M   \n",
       "37            Romero            4.5M             Mings             4.4M   \n",
       "\n",
       "      entry  event                         time  manager_id          Manager  \n",
       "0   6911033     23  2024-02-03T09:09:18.238723Z     6911033  Richard Collins  \n",
       "1   6911033     23  2024-02-03T09:09:18.232316Z     6911033  Richard Collins  \n",
       "2   6911033     21  2024-01-12T14:41:34.670567Z     6911033  Richard Collins  \n",
       "3   6911033     21  2024-01-12T14:41:34.670338Z     6911033  Richard Collins  \n",
       "4   6911033     21  2024-01-12T14:41:34.670118Z     6911033  Richard Collins  \n",
       "5   6911033     21  2024-01-12T14:41:34.669862Z     6911033  Richard Collins  \n",
       "6   6911033     21  2024-01-12T14:41:34.669626Z     6911033  Richard Collins  \n",
       "7   6911033     21  2024-01-12T14:41:34.669389Z     6911033  Richard Collins  \n",
       "8   6911033     21  2024-01-12T14:41:34.669138Z     6911033  Richard Collins  \n",
       "9   6911033     21  2024-01-12T14:41:34.668804Z     6911033  Richard Collins  \n",
       "10  6911033     20  2023-12-30T08:35:26.058878Z     6911033  Richard Collins  \n",
       "11  6911033     20  2023-12-30T08:35:26.052634Z     6911033  Richard Collins  \n",
       "12  6911033     19  2023-12-26T09:12:15.379030Z     6911033  Richard Collins  \n",
       "13  6911033     17  2023-12-15T13:45:58.391559Z     6911033  Richard Collins  \n",
       "14  6911033     17  2023-12-15T13:45:58.383579Z     6911033  Richard Collins  \n",
       "15  6911033     16  2023-12-09T08:56:14.476521Z     6911033  Richard Collins  \n",
       "16  6911033     16  2023-12-09T08:56:14.468097Z     6911033  Richard Collins  \n",
       "17  6911033     14  2023-12-02T13:27:16.234297Z     6911033  Richard Collins  \n",
       "18  6911033     13  2023-11-25T07:27:39.277705Z     6911033  Richard Collins  \n",
       "19  6911033     13  2023-11-25T07:27:39.270372Z     6911033  Richard Collins  \n",
       "20  6911033     11  2023-11-04T08:49:35.527000Z     6911033  Richard Collins  \n",
       "21  6911033     11  2023-11-04T08:49:35.515401Z     6911033  Richard Collins  \n",
       "22  6911033     10  2023-10-27T14:26:40.322835Z     6911033  Richard Collins  \n",
       "23  6911033      8  2023-10-07T09:55:29.443673Z     6911033  Richard Collins  \n",
       "24  6911033      8  2023-10-07T09:55:29.443427Z     6911033  Richard Collins  \n",
       "25  6911033      8  2023-10-07T09:55:29.443181Z     6911033  Richard Collins  \n",
       "26  6911033      8  2023-10-07T09:55:29.442956Z     6911033  Richard Collins  \n",
       "27  6911033      8  2023-10-07T09:55:29.442723Z     6911033  Richard Collins  \n",
       "28  6911033      8  2023-10-07T09:55:29.442460Z     6911033  Richard Collins  \n",
       "29  6911033      8  2023-10-07T09:55:29.442196Z     6911033  Richard Collins  \n",
       "30  6911033      8  2023-10-07T09:55:29.441960Z     6911033  Richard Collins  \n",
       "31  6911033      8  2023-10-07T09:55:29.441673Z     6911033  Richard Collins  \n",
       "32  6911033      7  2023-09-30T08:31:14.340699Z     6911033  Richard Collins  \n",
       "33  6911033      6  2023-09-23T09:46:32.909140Z     6911033  Richard Collins  \n",
       "34  6911033      6  2023-09-23T09:46:32.903431Z     6911033  Richard Collins  \n",
       "35  6911033      4  2023-09-01T09:38:07.587890Z     6911033  Richard Collins  \n",
       "36  6911033      3  2023-08-25T12:33:27.081289Z     6911033  Richard Collins  \n",
       "37  6911033      3  2023-08-25T12:33:27.073456Z     6911033  Richard Collins  "
      ]
     },
     "execution_count": 8,
     "metadata": {},
     "output_type": "execute_result"
    }
   ],
   "source": [
    "all_managers_transfers_df.loc[all_managers_transfers_df[\"Manager\"] == \"Richard Collins\", :]"
   ]
  },
  {
   "cell_type": "markdown",
   "metadata": {},
   "source": [
    "## Get GW dealines"
   ]
  },
  {
   "cell_type": "code",
   "execution_count": 13,
   "metadata": {},
   "outputs": [
    {
     "data": {
      "text/html": [
       "<div>\n",
       "<style scoped>\n",
       "    .dataframe tbody tr th:only-of-type {\n",
       "        vertical-align: middle;\n",
       "    }\n",
       "\n",
       "    .dataframe tbody tr th {\n",
       "        vertical-align: top;\n",
       "    }\n",
       "\n",
       "    .dataframe thead th {\n",
       "        text-align: right;\n",
       "    }\n",
       "</style>\n",
       "<table border=\"1\" class=\"dataframe\">\n",
       "  <thead>\n",
       "    <tr style=\"text-align: right;\">\n",
       "      <th></th>\n",
       "      <th>id</th>\n",
       "      <th>name</th>\n",
       "      <th>deadline_time</th>\n",
       "      <th>release_time</th>\n",
       "      <th>average_entry_score</th>\n",
       "      <th>finished</th>\n",
       "      <th>data_checked</th>\n",
       "      <th>highest_scoring_entry</th>\n",
       "      <th>deadline_time_epoch</th>\n",
       "      <th>deadline_time_game_offset</th>\n",
       "      <th>...</th>\n",
       "      <th>h2h_ko_matches_created</th>\n",
       "      <th>ranked_count</th>\n",
       "      <th>chip_plays</th>\n",
       "      <th>most_selected</th>\n",
       "      <th>most_transferred_in</th>\n",
       "      <th>top_element</th>\n",
       "      <th>top_element_info</th>\n",
       "      <th>transfers_made</th>\n",
       "      <th>most_captained</th>\n",
       "      <th>most_vice_captained</th>\n",
       "    </tr>\n",
       "  </thead>\n",
       "  <tbody>\n",
       "    <tr>\n",
       "      <th>0</th>\n",
       "      <td>1</td>\n",
       "      <td>Gameweek 1</td>\n",
       "      <td>2023-08-11T17:30:00Z</td>\n",
       "      <td>None</td>\n",
       "      <td>64</td>\n",
       "      <td>True</td>\n",
       "      <td>True</td>\n",
       "      <td>3383750.0</td>\n",
       "      <td>1691775000</td>\n",
       "      <td>0</td>\n",
       "      <td>...</td>\n",
       "      <td>False</td>\n",
       "      <td>0</td>\n",
       "      <td>[{'chip_name': 'bboost', 'num_played': 163222}...</td>\n",
       "      <td>355.0</td>\n",
       "      <td>1.0</td>\n",
       "      <td>395.0</td>\n",
       "      <td>{'id': 395, 'points': 14}</td>\n",
       "      <td>0</td>\n",
       "      <td>355.0</td>\n",
       "      <td>19.0</td>\n",
       "    </tr>\n",
       "    <tr>\n",
       "      <th>1</th>\n",
       "      <td>2</td>\n",
       "      <td>Gameweek 2</td>\n",
       "      <td>2023-08-18T17:15:00Z</td>\n",
       "      <td>None</td>\n",
       "      <td>44</td>\n",
       "      <td>True</td>\n",
       "      <td>True</td>\n",
       "      <td>3338487.0</td>\n",
       "      <td>1692378900</td>\n",
       "      <td>0</td>\n",
       "      <td>...</td>\n",
       "      <td>True</td>\n",
       "      <td>0</td>\n",
       "      <td>[{'chip_name': 'bboost', 'num_played': 126778}...</td>\n",
       "      <td>355.0</td>\n",
       "      <td>195.0</td>\n",
       "      <td>108.0</td>\n",
       "      <td>{'id': 108, 'points': 16}</td>\n",
       "      <td>13130353</td>\n",
       "      <td>355.0</td>\n",
       "      <td>19.0</td>\n",
       "    </tr>\n",
       "    <tr>\n",
       "      <th>2</th>\n",
       "      <td>3</td>\n",
       "      <td>Gameweek 3</td>\n",
       "      <td>2023-08-25T17:30:00Z</td>\n",
       "      <td>None</td>\n",
       "      <td>44</td>\n",
       "      <td>True</td>\n",
       "      <td>True</td>\n",
       "      <td>9368956.0</td>\n",
       "      <td>1692984600</td>\n",
       "      <td>0</td>\n",
       "      <td>...</td>\n",
       "      <td>True</td>\n",
       "      <td>0</td>\n",
       "      <td>[{'chip_name': 'bboost', 'num_played': 124110}...</td>\n",
       "      <td>355.0</td>\n",
       "      <td>108.0</td>\n",
       "      <td>216.0</td>\n",
       "      <td>{'id': 216, 'points': 19}</td>\n",
       "      <td>17619532</td>\n",
       "      <td>355.0</td>\n",
       "      <td>19.0</td>\n",
       "    </tr>\n",
       "    <tr>\n",
       "      <th>3</th>\n",
       "      <td>4</td>\n",
       "      <td>Gameweek 4</td>\n",
       "      <td>2023-09-01T17:30:00Z</td>\n",
       "      <td>None</td>\n",
       "      <td>72</td>\n",
       "      <td>True</td>\n",
       "      <td>True</td>\n",
       "      <td>4354697.0</td>\n",
       "      <td>1693589400</td>\n",
       "      <td>0</td>\n",
       "      <td>...</td>\n",
       "      <td>True</td>\n",
       "      <td>0</td>\n",
       "      <td>[{'chip_name': 'bboost', 'num_played': 109196}...</td>\n",
       "      <td>355.0</td>\n",
       "      <td>216.0</td>\n",
       "      <td>516.0</td>\n",
       "      <td>{'id': 516, 'points': 20}</td>\n",
       "      <td>16035365</td>\n",
       "      <td>355.0</td>\n",
       "      <td>19.0</td>\n",
       "    </tr>\n",
       "    <tr>\n",
       "      <th>4</th>\n",
       "      <td>5</td>\n",
       "      <td>Gameweek 5</td>\n",
       "      <td>2023-09-16T10:00:00Z</td>\n",
       "      <td>None</td>\n",
       "      <td>44</td>\n",
       "      <td>True</td>\n",
       "      <td>True</td>\n",
       "      <td>6211182.0</td>\n",
       "      <td>1694858400</td>\n",
       "      <td>0</td>\n",
       "      <td>...</td>\n",
       "      <td>True</td>\n",
       "      <td>0</td>\n",
       "      <td>[{'chip_name': 'bboost', 'num_played': 96469},...</td>\n",
       "      <td>355.0</td>\n",
       "      <td>516.0</td>\n",
       "      <td>344.0</td>\n",
       "      <td>{'id': 344, 'points': 13}</td>\n",
       "      <td>14363988</td>\n",
       "      <td>355.0</td>\n",
       "      <td>19.0</td>\n",
       "    </tr>\n",
       "    <tr>\n",
       "      <th>5</th>\n",
       "      <td>6</td>\n",
       "      <td>Gameweek 6</td>\n",
       "      <td>2023-09-23T12:30:00Z</td>\n",
       "      <td>None</td>\n",
       "      <td>68</td>\n",
       "      <td>True</td>\n",
       "      <td>True</td>\n",
       "      <td>4494759.0</td>\n",
       "      <td>1695472200</td>\n",
       "      <td>0</td>\n",
       "      <td>...</td>\n",
       "      <td>True</td>\n",
       "      <td>0</td>\n",
       "      <td>[{'chip_name': 'bboost', 'num_played': 78528},...</td>\n",
       "      <td>355.0</td>\n",
       "      <td>343.0</td>\n",
       "      <td>430.0</td>\n",
       "      <td>{'id': 430, 'points': 18}</td>\n",
       "      <td>12109066</td>\n",
       "      <td>355.0</td>\n",
       "      <td>308.0</td>\n",
       "    </tr>\n",
       "    <tr>\n",
       "      <th>6</th>\n",
       "      <td>7</td>\n",
       "      <td>Gameweek 7</td>\n",
       "      <td>2023-09-30T10:00:00Z</td>\n",
       "      <td>None</td>\n",
       "      <td>49</td>\n",
       "      <td>True</td>\n",
       "      <td>True</td>\n",
       "      <td>9335002.0</td>\n",
       "      <td>1696068000</td>\n",
       "      <td>0</td>\n",
       "      <td>...</td>\n",
       "      <td>True</td>\n",
       "      <td>0</td>\n",
       "      <td>[{'chip_name': 'bboost', 'num_played': 79672},...</td>\n",
       "      <td>355.0</td>\n",
       "      <td>430.0</td>\n",
       "      <td>60.0</td>\n",
       "      <td>{'id': 60, 'points': 23}</td>\n",
       "      <td>15579302</td>\n",
       "      <td>355.0</td>\n",
       "      <td>308.0</td>\n",
       "    </tr>\n",
       "    <tr>\n",
       "      <th>7</th>\n",
       "      <td>8</td>\n",
       "      <td>Gameweek 8</td>\n",
       "      <td>2023-10-07T10:00:00Z</td>\n",
       "      <td>None</td>\n",
       "      <td>44</td>\n",
       "      <td>True</td>\n",
       "      <td>True</td>\n",
       "      <td>10068163.0</td>\n",
       "      <td>1696672800</td>\n",
       "      <td>0</td>\n",
       "      <td>...</td>\n",
       "      <td>True</td>\n",
       "      <td>0</td>\n",
       "      <td>[{'chip_name': 'bboost', 'num_played': 53401},...</td>\n",
       "      <td>355.0</td>\n",
       "      <td>516.0</td>\n",
       "      <td>216.0</td>\n",
       "      <td>{'id': 216, 'points': 16}</td>\n",
       "      <td>19444885</td>\n",
       "      <td>355.0</td>\n",
       "      <td>355.0</td>\n",
       "    </tr>\n",
       "    <tr>\n",
       "      <th>8</th>\n",
       "      <td>9</td>\n",
       "      <td>Gameweek 9</td>\n",
       "      <td>2023-10-21T10:00:00Z</td>\n",
       "      <td>None</td>\n",
       "      <td>67</td>\n",
       "      <td>True</td>\n",
       "      <td>True</td>\n",
       "      <td>6931177.0</td>\n",
       "      <td>1697882400</td>\n",
       "      <td>0</td>\n",
       "      <td>...</td>\n",
       "      <td>True</td>\n",
       "      <td>0</td>\n",
       "      <td>[{'chip_name': 'bboost', 'num_played': 50175},...</td>\n",
       "      <td>355.0</td>\n",
       "      <td>60.0</td>\n",
       "      <td>423.0</td>\n",
       "      <td>{'id': 423, 'points': 17}</td>\n",
       "      <td>11431916</td>\n",
       "      <td>355.0</td>\n",
       "      <td>308.0</td>\n",
       "    </tr>\n",
       "    <tr>\n",
       "      <th>9</th>\n",
       "      <td>10</td>\n",
       "      <td>Gameweek 10</td>\n",
       "      <td>2023-10-27T17:30:00Z</td>\n",
       "      <td>None</td>\n",
       "      <td>66</td>\n",
       "      <td>True</td>\n",
       "      <td>True</td>\n",
       "      <td>9895223.0</td>\n",
       "      <td>1698427800</td>\n",
       "      <td>0</td>\n",
       "      <td>...</td>\n",
       "      <td>True</td>\n",
       "      <td>0</td>\n",
       "      <td>[{'chip_name': 'bboost', 'num_played': 80903},...</td>\n",
       "      <td>355.0</td>\n",
       "      <td>60.0</td>\n",
       "      <td>13.0</td>\n",
       "      <td>{'id': 13, 'points': 17}</td>\n",
       "      <td>12428517</td>\n",
       "      <td>355.0</td>\n",
       "      <td>355.0</td>\n",
       "    </tr>\n",
       "    <tr>\n",
       "      <th>10</th>\n",
       "      <td>11</td>\n",
       "      <td>Gameweek 11</td>\n",
       "      <td>2023-11-04T11:00:00Z</td>\n",
       "      <td>None</td>\n",
       "      <td>32</td>\n",
       "      <td>True</td>\n",
       "      <td>True</td>\n",
       "      <td>3242487.0</td>\n",
       "      <td>1699095600</td>\n",
       "      <td>0</td>\n",
       "      <td>...</td>\n",
       "      <td>True</td>\n",
       "      <td>0</td>\n",
       "      <td>[{'chip_name': 'bboost', 'num_played': 61985},...</td>\n",
       "      <td>355.0</td>\n",
       "      <td>311.0</td>\n",
       "      <td>678.0</td>\n",
       "      <td>{'id': 678, 'points': 22}</td>\n",
       "      <td>10003311</td>\n",
       "      <td>355.0</td>\n",
       "      <td>308.0</td>\n",
       "    </tr>\n",
       "    <tr>\n",
       "      <th>11</th>\n",
       "      <td>12</td>\n",
       "      <td>Gameweek 12</td>\n",
       "      <td>2023-11-11T11:00:00Z</td>\n",
       "      <td>None</td>\n",
       "      <td>64</td>\n",
       "      <td>True</td>\n",
       "      <td>True</td>\n",
       "      <td>299796.0</td>\n",
       "      <td>1699700400</td>\n",
       "      <td>0</td>\n",
       "      <td>...</td>\n",
       "      <td>True</td>\n",
       "      <td>0</td>\n",
       "      <td>[{'chip_name': 'bboost', 'num_played': 60433},...</td>\n",
       "      <td>355.0</td>\n",
       "      <td>526.0</td>\n",
       "      <td>308.0</td>\n",
       "      <td>{'id': 308, 'points': 16}</td>\n",
       "      <td>11701013</td>\n",
       "      <td>355.0</td>\n",
       "      <td>355.0</td>\n",
       "    </tr>\n",
       "    <tr>\n",
       "      <th>12</th>\n",
       "      <td>13</td>\n",
       "      <td>Gameweek 13</td>\n",
       "      <td>2023-11-25T11:00:00Z</td>\n",
       "      <td>None</td>\n",
       "      <td>46</td>\n",
       "      <td>True</td>\n",
       "      <td>True</td>\n",
       "      <td>10279974.0</td>\n",
       "      <td>1700910000</td>\n",
       "      <td>0</td>\n",
       "      <td>...</td>\n",
       "      <td>True</td>\n",
       "      <td>0</td>\n",
       "      <td>[{'chip_name': 'bboost', 'num_played': 38925},...</td>\n",
       "      <td>355.0</td>\n",
       "      <td>362.0</td>\n",
       "      <td>86.0</td>\n",
       "      <td>{'id': 86, 'points': 16}</td>\n",
       "      <td>11743909</td>\n",
       "      <td>355.0</td>\n",
       "      <td>308.0</td>\n",
       "    </tr>\n",
       "    <tr>\n",
       "      <th>13</th>\n",
       "      <td>14</td>\n",
       "      <td>Gameweek 14</td>\n",
       "      <td>2023-12-02T13:30:00Z</td>\n",
       "      <td>None</td>\n",
       "      <td>54</td>\n",
       "      <td>True</td>\n",
       "      <td>True</td>\n",
       "      <td>2753264.0</td>\n",
       "      <td>1701523800</td>\n",
       "      <td>0</td>\n",
       "      <td>...</td>\n",
       "      <td>True</td>\n",
       "      <td>0</td>\n",
       "      <td>[{'chip_name': 'bboost', 'num_played': 51415},...</td>\n",
       "      <td>355.0</td>\n",
       "      <td>108.0</td>\n",
       "      <td>109.0</td>\n",
       "      <td>{'id': 109, 'points': 14}</td>\n",
       "      <td>9478613</td>\n",
       "      <td>355.0</td>\n",
       "      <td>355.0</td>\n",
       "    </tr>\n",
       "    <tr>\n",
       "      <th>14</th>\n",
       "      <td>15</td>\n",
       "      <td>Gameweek 15</td>\n",
       "      <td>2023-12-05T18:00:00Z</td>\n",
       "      <td>None</td>\n",
       "      <td>35</td>\n",
       "      <td>True</td>\n",
       "      <td>True</td>\n",
       "      <td>6195999.0</td>\n",
       "      <td>1701799200</td>\n",
       "      <td>0</td>\n",
       "      <td>...</td>\n",
       "      <td>True</td>\n",
       "      <td>0</td>\n",
       "      <td>[{'chip_name': 'bboost', 'num_played': 44960},...</td>\n",
       "      <td>355.0</td>\n",
       "      <td>412.0</td>\n",
       "      <td>267.0</td>\n",
       "      <td>{'id': 267, 'points': 15}</td>\n",
       "      <td>6838182</td>\n",
       "      <td>355.0</td>\n",
       "      <td>355.0</td>\n",
       "    </tr>\n",
       "    <tr>\n",
       "      <th>15</th>\n",
       "      <td>16</td>\n",
       "      <td>Gameweek 16</td>\n",
       "      <td>2023-12-09T11:00:00Z</td>\n",
       "      <td>None</td>\n",
       "      <td>40</td>\n",
       "      <td>True</td>\n",
       "      <td>True</td>\n",
       "      <td>5303151.0</td>\n",
       "      <td>1702119600</td>\n",
       "      <td>0</td>\n",
       "      <td>...</td>\n",
       "      <td>True</td>\n",
       "      <td>0</td>\n",
       "      <td>[{'chip_name': 'bboost', 'num_played': 41381},...</td>\n",
       "      <td>355.0</td>\n",
       "      <td>362.0</td>\n",
       "      <td>516.0</td>\n",
       "      <td>{'id': 516, 'points': 17}</td>\n",
       "      <td>8652679</td>\n",
       "      <td>355.0</td>\n",
       "      <td>308.0</td>\n",
       "    </tr>\n",
       "    <tr>\n",
       "      <th>16</th>\n",
       "      <td>17</td>\n",
       "      <td>Gameweek 17</td>\n",
       "      <td>2023-12-15T18:30:00Z</td>\n",
       "      <td>None</td>\n",
       "      <td>44</td>\n",
       "      <td>True</td>\n",
       "      <td>True</td>\n",
       "      <td>4870645.0</td>\n",
       "      <td>1702665000</td>\n",
       "      <td>0</td>\n",
       "      <td>...</td>\n",
       "      <td>True</td>\n",
       "      <td>0</td>\n",
       "      <td>[{'chip_name': 'bboost', 'num_played': 34952},...</td>\n",
       "      <td>355.0</td>\n",
       "      <td>85.0</td>\n",
       "      <td>689.0</td>\n",
       "      <td>{'id': 689, 'points': 16}</td>\n",
       "      <td>12222607</td>\n",
       "      <td>355.0</td>\n",
       "      <td>308.0</td>\n",
       "    </tr>\n",
       "    <tr>\n",
       "      <th>17</th>\n",
       "      <td>18</td>\n",
       "      <td>Gameweek 18</td>\n",
       "      <td>2023-12-21T18:30:00Z</td>\n",
       "      <td>None</td>\n",
       "      <td>36</td>\n",
       "      <td>True</td>\n",
       "      <td>True</td>\n",
       "      <td>8853925.0</td>\n",
       "      <td>1703183400</td>\n",
       "      <td>0</td>\n",
       "      <td>...</td>\n",
       "      <td>True</td>\n",
       "      <td>0</td>\n",
       "      <td>[{'chip_name': 'bboost', 'num_played': 25638},...</td>\n",
       "      <td>355.0</td>\n",
       "      <td>60.0</td>\n",
       "      <td>85.0</td>\n",
       "      <td>{'id': 85, 'points': 17}</td>\n",
       "      <td>9551699</td>\n",
       "      <td>355.0</td>\n",
       "      <td>308.0</td>\n",
       "    </tr>\n",
       "    <tr>\n",
       "      <th>18</th>\n",
       "      <td>19</td>\n",
       "      <td>Gameweek 19</td>\n",
       "      <td>2023-12-26T11:00:00Z</td>\n",
       "      <td>None</td>\n",
       "      <td>38</td>\n",
       "      <td>True</td>\n",
       "      <td>True</td>\n",
       "      <td>237211.0</td>\n",
       "      <td>1703588400</td>\n",
       "      <td>0</td>\n",
       "      <td>...</td>\n",
       "      <td>True</td>\n",
       "      <td>0</td>\n",
       "      <td>[{'chip_name': 'bboost', 'num_played': 40614},...</td>\n",
       "      <td>355.0</td>\n",
       "      <td>85.0</td>\n",
       "      <td>468.0</td>\n",
       "      <td>{'id': 468, 'points': 17}</td>\n",
       "      <td>7268356</td>\n",
       "      <td>308.0</td>\n",
       "      <td>516.0</td>\n",
       "    </tr>\n",
       "    <tr>\n",
       "      <th>19</th>\n",
       "      <td>20</td>\n",
       "      <td>Gameweek 20</td>\n",
       "      <td>2023-12-30T11:00:00Z</td>\n",
       "      <td>None</td>\n",
       "      <td>59</td>\n",
       "      <td>True</td>\n",
       "      <td>True</td>\n",
       "      <td>351854.0</td>\n",
       "      <td>1703934000</td>\n",
       "      <td>0</td>\n",
       "      <td>...</td>\n",
       "      <td>True</td>\n",
       "      <td>0</td>\n",
       "      <td>[{'chip_name': 'bboost', 'num_played': 78077},...</td>\n",
       "      <td>19.0</td>\n",
       "      <td>343.0</td>\n",
       "      <td>362.0</td>\n",
       "      <td>{'id': 362, 'points': 18}</td>\n",
       "      <td>9018331</td>\n",
       "      <td>355.0</td>\n",
       "      <td>308.0</td>\n",
       "    </tr>\n",
       "    <tr>\n",
       "      <th>20</th>\n",
       "      <td>21</td>\n",
       "      <td>Gameweek 21</td>\n",
       "      <td>2024-01-12T18:15:00Z</td>\n",
       "      <td>None</td>\n",
       "      <td>47</td>\n",
       "      <td>True</td>\n",
       "      <td>True</td>\n",
       "      <td>6974406.0</td>\n",
       "      <td>1705083300</td>\n",
       "      <td>0</td>\n",
       "      <td>...</td>\n",
       "      <td>True</td>\n",
       "      <td>10526259</td>\n",
       "      <td>[{'chip_name': 'bboost', 'num_played': 30370},...</td>\n",
       "      <td>19.0</td>\n",
       "      <td>353.0</td>\n",
       "      <td>294.0</td>\n",
       "      <td>{'id': 294, 'points': 19}</td>\n",
       "      <td>21743109</td>\n",
       "      <td>355.0</td>\n",
       "      <td>19.0</td>\n",
       "    </tr>\n",
       "    <tr>\n",
       "      <th>21</th>\n",
       "      <td>22</td>\n",
       "      <td>Gameweek 22</td>\n",
       "      <td>2024-01-30T18:00:00Z</td>\n",
       "      <td>None</td>\n",
       "      <td>48</td>\n",
       "      <td>True</td>\n",
       "      <td>True</td>\n",
       "      <td>10464457.0</td>\n",
       "      <td>1706637600</td>\n",
       "      <td>0</td>\n",
       "      <td>...</td>\n",
       "      <td>True</td>\n",
       "      <td>10564383</td>\n",
       "      <td>[{'chip_name': 'bboost', 'num_played': 63489},...</td>\n",
       "      <td>19.0</td>\n",
       "      <td>349.0</td>\n",
       "      <td>757.0</td>\n",
       "      <td>{'id': 757, 'points': 21}</td>\n",
       "      <td>10103114</td>\n",
       "      <td>355.0</td>\n",
       "      <td>19.0</td>\n",
       "    </tr>\n",
       "    <tr>\n",
       "      <th>22</th>\n",
       "      <td>23</td>\n",
       "      <td>Gameweek 23</td>\n",
       "      <td>2024-02-03T11:00:00Z</td>\n",
       "      <td>None</td>\n",
       "      <td>40</td>\n",
       "      <td>False</td>\n",
       "      <td>False</td>\n",
       "      <td>4145455.0</td>\n",
       "      <td>1706958000</td>\n",
       "      <td>0</td>\n",
       "      <td>...</td>\n",
       "      <td>True</td>\n",
       "      <td>10576105</td>\n",
       "      <td>[{'chip_name': 'bboost', 'num_played': 60492},...</td>\n",
       "      <td>355.0</td>\n",
       "      <td>355.0</td>\n",
       "      <td>60.0</td>\n",
       "      <td>{'id': 60, 'points': 18}</td>\n",
       "      <td>6462542</td>\n",
       "      <td>355.0</td>\n",
       "      <td>19.0</td>\n",
       "    </tr>\n",
       "    <tr>\n",
       "      <th>23</th>\n",
       "      <td>24</td>\n",
       "      <td>Gameweek 24</td>\n",
       "      <td>2024-02-10T11:00:00Z</td>\n",
       "      <td>None</td>\n",
       "      <td>0</td>\n",
       "      <td>False</td>\n",
       "      <td>False</td>\n",
       "      <td>NaN</td>\n",
       "      <td>1707562800</td>\n",
       "      <td>0</td>\n",
       "      <td>...</td>\n",
       "      <td>False</td>\n",
       "      <td>0</td>\n",
       "      <td>[]</td>\n",
       "      <td>NaN</td>\n",
       "      <td>NaN</td>\n",
       "      <td>NaN</td>\n",
       "      <td>None</td>\n",
       "      <td>0</td>\n",
       "      <td>NaN</td>\n",
       "      <td>NaN</td>\n",
       "    </tr>\n",
       "    <tr>\n",
       "      <th>24</th>\n",
       "      <td>25</td>\n",
       "      <td>Gameweek 25</td>\n",
       "      <td>2024-02-17T11:00:00Z</td>\n",
       "      <td>None</td>\n",
       "      <td>0</td>\n",
       "      <td>False</td>\n",
       "      <td>False</td>\n",
       "      <td>NaN</td>\n",
       "      <td>1708167600</td>\n",
       "      <td>0</td>\n",
       "      <td>...</td>\n",
       "      <td>False</td>\n",
       "      <td>0</td>\n",
       "      <td>[]</td>\n",
       "      <td>NaN</td>\n",
       "      <td>NaN</td>\n",
       "      <td>NaN</td>\n",
       "      <td>None</td>\n",
       "      <td>0</td>\n",
       "      <td>NaN</td>\n",
       "      <td>NaN</td>\n",
       "    </tr>\n",
       "    <tr>\n",
       "      <th>25</th>\n",
       "      <td>26</td>\n",
       "      <td>Gameweek 26</td>\n",
       "      <td>2024-02-24T13:30:00Z</td>\n",
       "      <td>None</td>\n",
       "      <td>0</td>\n",
       "      <td>False</td>\n",
       "      <td>False</td>\n",
       "      <td>NaN</td>\n",
       "      <td>1708781400</td>\n",
       "      <td>0</td>\n",
       "      <td>...</td>\n",
       "      <td>False</td>\n",
       "      <td>0</td>\n",
       "      <td>[]</td>\n",
       "      <td>NaN</td>\n",
       "      <td>NaN</td>\n",
       "      <td>NaN</td>\n",
       "      <td>None</td>\n",
       "      <td>0</td>\n",
       "      <td>NaN</td>\n",
       "      <td>NaN</td>\n",
       "    </tr>\n",
       "    <tr>\n",
       "      <th>26</th>\n",
       "      <td>27</td>\n",
       "      <td>Gameweek 27</td>\n",
       "      <td>2024-03-02T13:30:00Z</td>\n",
       "      <td>None</td>\n",
       "      <td>0</td>\n",
       "      <td>False</td>\n",
       "      <td>False</td>\n",
       "      <td>NaN</td>\n",
       "      <td>1709386200</td>\n",
       "      <td>0</td>\n",
       "      <td>...</td>\n",
       "      <td>False</td>\n",
       "      <td>0</td>\n",
       "      <td>[]</td>\n",
       "      <td>NaN</td>\n",
       "      <td>NaN</td>\n",
       "      <td>NaN</td>\n",
       "      <td>None</td>\n",
       "      <td>0</td>\n",
       "      <td>NaN</td>\n",
       "      <td>NaN</td>\n",
       "    </tr>\n",
       "    <tr>\n",
       "      <th>27</th>\n",
       "      <td>28</td>\n",
       "      <td>Gameweek 28</td>\n",
       "      <td>2024-03-09T13:30:00Z</td>\n",
       "      <td>None</td>\n",
       "      <td>0</td>\n",
       "      <td>False</td>\n",
       "      <td>False</td>\n",
       "      <td>NaN</td>\n",
       "      <td>1709991000</td>\n",
       "      <td>0</td>\n",
       "      <td>...</td>\n",
       "      <td>False</td>\n",
       "      <td>0</td>\n",
       "      <td>[]</td>\n",
       "      <td>NaN</td>\n",
       "      <td>NaN</td>\n",
       "      <td>NaN</td>\n",
       "      <td>None</td>\n",
       "      <td>0</td>\n",
       "      <td>NaN</td>\n",
       "      <td>NaN</td>\n",
       "    </tr>\n",
       "  </tbody>\n",
       "</table>\n",
       "<p>28 rows × 25 columns</p>\n",
       "</div>"
      ],
      "text/plain": [
       "    id         name         deadline_time release_time  average_entry_score  \\\n",
       "0    1   Gameweek 1  2023-08-11T17:30:00Z         None                   64   \n",
       "1    2   Gameweek 2  2023-08-18T17:15:00Z         None                   44   \n",
       "2    3   Gameweek 3  2023-08-25T17:30:00Z         None                   44   \n",
       "3    4   Gameweek 4  2023-09-01T17:30:00Z         None                   72   \n",
       "4    5   Gameweek 5  2023-09-16T10:00:00Z         None                   44   \n",
       "5    6   Gameweek 6  2023-09-23T12:30:00Z         None                   68   \n",
       "6    7   Gameweek 7  2023-09-30T10:00:00Z         None                   49   \n",
       "7    8   Gameweek 8  2023-10-07T10:00:00Z         None                   44   \n",
       "8    9   Gameweek 9  2023-10-21T10:00:00Z         None                   67   \n",
       "9   10  Gameweek 10  2023-10-27T17:30:00Z         None                   66   \n",
       "10  11  Gameweek 11  2023-11-04T11:00:00Z         None                   32   \n",
       "11  12  Gameweek 12  2023-11-11T11:00:00Z         None                   64   \n",
       "12  13  Gameweek 13  2023-11-25T11:00:00Z         None                   46   \n",
       "13  14  Gameweek 14  2023-12-02T13:30:00Z         None                   54   \n",
       "14  15  Gameweek 15  2023-12-05T18:00:00Z         None                   35   \n",
       "15  16  Gameweek 16  2023-12-09T11:00:00Z         None                   40   \n",
       "16  17  Gameweek 17  2023-12-15T18:30:00Z         None                   44   \n",
       "17  18  Gameweek 18  2023-12-21T18:30:00Z         None                   36   \n",
       "18  19  Gameweek 19  2023-12-26T11:00:00Z         None                   38   \n",
       "19  20  Gameweek 20  2023-12-30T11:00:00Z         None                   59   \n",
       "20  21  Gameweek 21  2024-01-12T18:15:00Z         None                   47   \n",
       "21  22  Gameweek 22  2024-01-30T18:00:00Z         None                   48   \n",
       "22  23  Gameweek 23  2024-02-03T11:00:00Z         None                   40   \n",
       "23  24  Gameweek 24  2024-02-10T11:00:00Z         None                    0   \n",
       "24  25  Gameweek 25  2024-02-17T11:00:00Z         None                    0   \n",
       "25  26  Gameweek 26  2024-02-24T13:30:00Z         None                    0   \n",
       "26  27  Gameweek 27  2024-03-02T13:30:00Z         None                    0   \n",
       "27  28  Gameweek 28  2024-03-09T13:30:00Z         None                    0   \n",
       "\n",
       "    finished  data_checked  highest_scoring_entry  deadline_time_epoch  \\\n",
       "0       True          True              3383750.0           1691775000   \n",
       "1       True          True              3338487.0           1692378900   \n",
       "2       True          True              9368956.0           1692984600   \n",
       "3       True          True              4354697.0           1693589400   \n",
       "4       True          True              6211182.0           1694858400   \n",
       "5       True          True              4494759.0           1695472200   \n",
       "6       True          True              9335002.0           1696068000   \n",
       "7       True          True             10068163.0           1696672800   \n",
       "8       True          True              6931177.0           1697882400   \n",
       "9       True          True              9895223.0           1698427800   \n",
       "10      True          True              3242487.0           1699095600   \n",
       "11      True          True               299796.0           1699700400   \n",
       "12      True          True             10279974.0           1700910000   \n",
       "13      True          True              2753264.0           1701523800   \n",
       "14      True          True              6195999.0           1701799200   \n",
       "15      True          True              5303151.0           1702119600   \n",
       "16      True          True              4870645.0           1702665000   \n",
       "17      True          True              8853925.0           1703183400   \n",
       "18      True          True               237211.0           1703588400   \n",
       "19      True          True               351854.0           1703934000   \n",
       "20      True          True              6974406.0           1705083300   \n",
       "21      True          True             10464457.0           1706637600   \n",
       "22     False         False              4145455.0           1706958000   \n",
       "23     False         False                    NaN           1707562800   \n",
       "24     False         False                    NaN           1708167600   \n",
       "25     False         False                    NaN           1708781400   \n",
       "26     False         False                    NaN           1709386200   \n",
       "27     False         False                    NaN           1709991000   \n",
       "\n",
       "    deadline_time_game_offset  ...  h2h_ko_matches_created  ranked_count  \\\n",
       "0                           0  ...                   False             0   \n",
       "1                           0  ...                    True             0   \n",
       "2                           0  ...                    True             0   \n",
       "3                           0  ...                    True             0   \n",
       "4                           0  ...                    True             0   \n",
       "5                           0  ...                    True             0   \n",
       "6                           0  ...                    True             0   \n",
       "7                           0  ...                    True             0   \n",
       "8                           0  ...                    True             0   \n",
       "9                           0  ...                    True             0   \n",
       "10                          0  ...                    True             0   \n",
       "11                          0  ...                    True             0   \n",
       "12                          0  ...                    True             0   \n",
       "13                          0  ...                    True             0   \n",
       "14                          0  ...                    True             0   \n",
       "15                          0  ...                    True             0   \n",
       "16                          0  ...                    True             0   \n",
       "17                          0  ...                    True             0   \n",
       "18                          0  ...                    True             0   \n",
       "19                          0  ...                    True             0   \n",
       "20                          0  ...                    True      10526259   \n",
       "21                          0  ...                    True      10564383   \n",
       "22                          0  ...                    True      10576105   \n",
       "23                          0  ...                   False             0   \n",
       "24                          0  ...                   False             0   \n",
       "25                          0  ...                   False             0   \n",
       "26                          0  ...                   False             0   \n",
       "27                          0  ...                   False             0   \n",
       "\n",
       "                                           chip_plays  most_selected  \\\n",
       "0   [{'chip_name': 'bboost', 'num_played': 163222}...          355.0   \n",
       "1   [{'chip_name': 'bboost', 'num_played': 126778}...          355.0   \n",
       "2   [{'chip_name': 'bboost', 'num_played': 124110}...          355.0   \n",
       "3   [{'chip_name': 'bboost', 'num_played': 109196}...          355.0   \n",
       "4   [{'chip_name': 'bboost', 'num_played': 96469},...          355.0   \n",
       "5   [{'chip_name': 'bboost', 'num_played': 78528},...          355.0   \n",
       "6   [{'chip_name': 'bboost', 'num_played': 79672},...          355.0   \n",
       "7   [{'chip_name': 'bboost', 'num_played': 53401},...          355.0   \n",
       "8   [{'chip_name': 'bboost', 'num_played': 50175},...          355.0   \n",
       "9   [{'chip_name': 'bboost', 'num_played': 80903},...          355.0   \n",
       "10  [{'chip_name': 'bboost', 'num_played': 61985},...          355.0   \n",
       "11  [{'chip_name': 'bboost', 'num_played': 60433},...          355.0   \n",
       "12  [{'chip_name': 'bboost', 'num_played': 38925},...          355.0   \n",
       "13  [{'chip_name': 'bboost', 'num_played': 51415},...          355.0   \n",
       "14  [{'chip_name': 'bboost', 'num_played': 44960},...          355.0   \n",
       "15  [{'chip_name': 'bboost', 'num_played': 41381},...          355.0   \n",
       "16  [{'chip_name': 'bboost', 'num_played': 34952},...          355.0   \n",
       "17  [{'chip_name': 'bboost', 'num_played': 25638},...          355.0   \n",
       "18  [{'chip_name': 'bboost', 'num_played': 40614},...          355.0   \n",
       "19  [{'chip_name': 'bboost', 'num_played': 78077},...           19.0   \n",
       "20  [{'chip_name': 'bboost', 'num_played': 30370},...           19.0   \n",
       "21  [{'chip_name': 'bboost', 'num_played': 63489},...           19.0   \n",
       "22  [{'chip_name': 'bboost', 'num_played': 60492},...          355.0   \n",
       "23                                                 []            NaN   \n",
       "24                                                 []            NaN   \n",
       "25                                                 []            NaN   \n",
       "26                                                 []            NaN   \n",
       "27                                                 []            NaN   \n",
       "\n",
       "    most_transferred_in  top_element           top_element_info  \\\n",
       "0                   1.0        395.0  {'id': 395, 'points': 14}   \n",
       "1                 195.0        108.0  {'id': 108, 'points': 16}   \n",
       "2                 108.0        216.0  {'id': 216, 'points': 19}   \n",
       "3                 216.0        516.0  {'id': 516, 'points': 20}   \n",
       "4                 516.0        344.0  {'id': 344, 'points': 13}   \n",
       "5                 343.0        430.0  {'id': 430, 'points': 18}   \n",
       "6                 430.0         60.0   {'id': 60, 'points': 23}   \n",
       "7                 516.0        216.0  {'id': 216, 'points': 16}   \n",
       "8                  60.0        423.0  {'id': 423, 'points': 17}   \n",
       "9                  60.0         13.0   {'id': 13, 'points': 17}   \n",
       "10                311.0        678.0  {'id': 678, 'points': 22}   \n",
       "11                526.0        308.0  {'id': 308, 'points': 16}   \n",
       "12                362.0         86.0   {'id': 86, 'points': 16}   \n",
       "13                108.0        109.0  {'id': 109, 'points': 14}   \n",
       "14                412.0        267.0  {'id': 267, 'points': 15}   \n",
       "15                362.0        516.0  {'id': 516, 'points': 17}   \n",
       "16                 85.0        689.0  {'id': 689, 'points': 16}   \n",
       "17                 60.0         85.0   {'id': 85, 'points': 17}   \n",
       "18                 85.0        468.0  {'id': 468, 'points': 17}   \n",
       "19                343.0        362.0  {'id': 362, 'points': 18}   \n",
       "20                353.0        294.0  {'id': 294, 'points': 19}   \n",
       "21                349.0        757.0  {'id': 757, 'points': 21}   \n",
       "22                355.0         60.0   {'id': 60, 'points': 18}   \n",
       "23                  NaN          NaN                       None   \n",
       "24                  NaN          NaN                       None   \n",
       "25                  NaN          NaN                       None   \n",
       "26                  NaN          NaN                       None   \n",
       "27                  NaN          NaN                       None   \n",
       "\n",
       "   transfers_made  most_captained  most_vice_captained  \n",
       "0               0           355.0                 19.0  \n",
       "1        13130353           355.0                 19.0  \n",
       "2        17619532           355.0                 19.0  \n",
       "3        16035365           355.0                 19.0  \n",
       "4        14363988           355.0                 19.0  \n",
       "5        12109066           355.0                308.0  \n",
       "6        15579302           355.0                308.0  \n",
       "7        19444885           355.0                355.0  \n",
       "8        11431916           355.0                308.0  \n",
       "9        12428517           355.0                355.0  \n",
       "10       10003311           355.0                308.0  \n",
       "11       11701013           355.0                355.0  \n",
       "12       11743909           355.0                308.0  \n",
       "13        9478613           355.0                355.0  \n",
       "14        6838182           355.0                355.0  \n",
       "15        8652679           355.0                308.0  \n",
       "16       12222607           355.0                308.0  \n",
       "17        9551699           355.0                308.0  \n",
       "18        7268356           308.0                516.0  \n",
       "19        9018331           355.0                308.0  \n",
       "20       21743109           355.0                 19.0  \n",
       "21       10103114           355.0                 19.0  \n",
       "22        6462542           355.0                 19.0  \n",
       "23              0             NaN                  NaN  \n",
       "24              0             NaN                  NaN  \n",
       "25              0             NaN                  NaN  \n",
       "26              0             NaN                  NaN  \n",
       "27              0             NaN                  NaN  \n",
       "\n",
       "[28 rows x 25 columns]"
      ]
     },
     "execution_count": 13,
     "metadata": {},
     "output_type": "execute_result"
    }
   ],
   "source": [
    "response = requests.get(bootstrap_static_url)\n",
    "bootstrap_static_response = response.json()\n",
    "bootstrap_static_df = pd.DataFrame(bootstrap_static_response[\"events\"])\n",
    "bootstrap_static_df.head(-10)"
   ]
  },
  {
   "cell_type": "markdown",
   "metadata": {},
   "source": [
    "# Plot"
   ]
  },
  {
   "cell_type": "code",
   "execution_count": 10,
   "metadata": {},
   "outputs": [
    {
     "data": {
      "application/vnd.plotly.v1+json": {
       "config": {
        "plotlyServerURL": "https://plot.ly"
       },
       "data": [
        {
         "customdata": [
          [
           "Haaland",
           "14.0M",
           "Darwin",
           "7.4M",
           23
          ],
          [
           "Diogo J.",
           "7.8M",
           "Salah",
           "12.8M",
           21
          ],
          [
           "Foden",
           "7.6M",
           "Son",
           "9.8M",
           20
          ],
          [
           "Alexander-Arnold",
           "8.3M",
           "Tsimikas",
           "4.7M",
           19
          ],
          [
           "Richarlison",
           "6.7M",
           "Gordon",
           "5.8M",
           18
          ],
          [
           "Son",
           "9.7M",
           "Kudus",
           "6.6M",
           17
          ],
          [
           "Watkins",
           "8.5M",
           "Haaland",
           "14.0M",
           17
          ],
          [
           "Palmer",
           "5.3M",
           "Mbeumo",
           "7.1M",
           16
          ],
          [
           "Mbeumo",
           "7.1M",
           "Son",
           "9.3M",
           14
          ],
          [
           "Gabriel",
           "4.9M",
           "Cash",
           "4.8M",
           14
          ],
          [
           "Kudus",
           "6.5M",
           "Diaby",
           "6.7M",
           13
          ],
          [
           "Tsimikas",
           "4.5M",
           "Udogie",
           "4.7M",
           11
          ],
          [
           "Saka",
           "8.6M",
           "Maddison",
           "8.0M",
           10
          ],
          [
           "Lascelles",
           "4.0M",
           "Botman",
           "4.6M",
           10
          ],
          [
           "Darwin",
           "7.4M",
           "Morris",
           "5.5M",
           8
          ],
          [
           "Maddison",
           "7.9M",
           "Bowen",
           "7.1M",
           7
          ],
          [
           "Lamptey",
           "3.9M",
           "Estupiñan",
           "5.1M",
           7
          ],
          [
           "Trippier",
           "6.6M",
           "Kaboré",
           "4.0M",
           7
          ],
          [
           "Turner",
           "4.0M",
           "Leno",
           "4.6M",
           7
          ],
          [
           "Bowen",
           "7.1M",
           "Maddison",
           "7.9M",
           7
          ],
          [
           "Maddison",
           "7.9M",
           "Saka",
           "8.6M",
           7
          ],
          [
           "Kaboré",
           "4.0M",
           "Walker",
           "5.2M",
           7
          ],
          [
           "Diaby",
           "6.6M",
           "Foden",
           "7.6M",
           7
          ],
          [
           "Leno",
           "4.6M",
           "Turner",
           "4.0M",
           7
          ],
          [
           "Foden",
           "7.6M",
           "Maddison",
           "7.9M",
           7
          ],
          [
           "Morris",
           "5.5M",
           "Origi",
           "5.0M",
           7
          ],
          [
           "Turner",
           "4.0M",
           "Leno",
           "4.6M",
           7
          ],
          [
           "Origi",
           "5.0M",
           "Ferguson",
           "6.0M",
           7
          ],
          [
           "Maddison",
           "7.9M",
           "Foden",
           "7.5M",
           7
          ],
          [
           "Son",
           "9.1M",
           "B.Fernandes",
           "8.4M",
           7
          ],
          [
           "Archer",
           "4.5M",
           "Mubama",
           "4.4M",
           7
          ],
          [
           "Botman",
           "4.6M",
           "Gusto",
           "4.1M",
           7
          ],
          [
           "Ferguson",
           "6.0M",
           "N.Jackson",
           "7.0M",
           7
          ],
          [
           "Areola",
           "4.1M",
           "Turner",
           "4.0M",
           7
          ],
          [
           "Leno",
           "4.6M",
           "Pickford",
           "4.4M",
           7
          ],
          [
           "Walker",
           "5.2M",
           "Chilwell",
           "5.6M",
           7
          ],
          [
           "Gordon",
           "5.5M",
           "Rashford",
           "8.9M",
           7
          ],
          [
           "Salah",
           "12.5M",
           "Trossard",
           "6.6M",
           7
          ],
          [
           "Trossard",
           "6.6M",
           "Martinelli",
           "7.9M",
           6
          ],
          [
           "Cash",
           "4.7M",
           "R.Lewis",
           "4.5M",
           6
          ],
          [
           "Udogie",
           "4.5M",
           "Shaw",
           "5.5M",
           4
          ],
          [
           "N.Jackson",
           "7.0M",
           "João Pedro",
           "5.5M",
           3
          ],
          [
           "Gusto",
           "4.0M",
           "Gabriel",
           "5.0M",
           3
          ]
         ],
         "hovertemplate": "Manager=%{y}<br>element_in=%{customdata[0]}<br>element_in_cost=%{customdata[1]}<br>element_out=%{customdata[2]}<br>element_out_cost=%{customdata[3]}<extra></extra>",
         "legendgroup": "James Parfitt",
         "marker": {
          "color": "#636efa",
          "symbol": "circle"
         },
         "mode": "markers",
         "name": "James Parfitt",
         "orientation": "v",
         "showlegend": true,
         "type": "scatter",
         "x": [
          "2024-02-03T00:19:14.350561Z",
          "2024-01-12T13:46:35.137995Z",
          "2023-12-30T00:15:33.762953Z",
          "2023-12-24T23:25:15.775268Z",
          "2023-12-21T17:09:40.335096Z",
          "2023-12-15T17:28:34.825630Z",
          "2023-12-15T17:28:34.816546Z",
          "2023-12-07T19:19:48.448806Z",
          "2023-12-02T08:39:33.343514Z",
          "2023-12-02T08:39:33.334954Z",
          "2023-11-24T20:56:18.596863Z",
          "2023-10-29T20:46:06.026037Z",
          "2023-10-27T17:28:21.677733Z",
          "2023-10-27T17:28:21.669769Z",
          "2023-10-07T08:33:05.038980Z",
          "2023-09-30T09:24:32.988299Z",
          "2023-09-29T23:03:39.624336Z",
          "2023-09-29T22:07:33.067345Z",
          "2023-09-29T17:22:59.265920Z",
          "2023-09-29T16:21:42.793749Z",
          "2023-09-29T16:10:55.376862Z",
          "2023-09-28T22:24:38.997247Z",
          "2023-09-24T20:47:41.469513Z",
          "2023-09-24T20:47:41.469210Z",
          "2023-09-24T20:01:07.726745Z",
          "2023-09-24T19:59:33.438110Z",
          "2023-09-24T19:59:33.437755Z",
          "2023-09-24T19:23:31.977241Z",
          "2023-09-24T19:23:31.976919Z",
          "2023-09-24T19:23:31.976455Z",
          "2023-09-24T19:17:20.150519Z",
          "2023-09-24T19:16:51.756262Z",
          "2023-09-24T19:16:51.755810Z",
          "2023-09-24T19:16:51.755523Z",
          "2023-09-24T19:16:51.755128Z",
          "2023-09-24T19:14:37.923235Z",
          "2023-09-24T19:14:37.922890Z",
          "2023-09-24T19:14:37.922477Z",
          "2023-09-22T12:36:18.689713Z",
          "2023-09-16T19:43:47.143777Z",
          "2023-08-26T21:52:04.279292Z",
          "2023-08-22T21:31:41.072202Z",
          "2023-08-22T09:29:52.527902Z"
         ],
         "xaxis": "x",
         "y": [
          "James Parfitt",
          "James Parfitt",
          "James Parfitt",
          "James Parfitt",
          "James Parfitt",
          "James Parfitt",
          "James Parfitt",
          "James Parfitt",
          "James Parfitt",
          "James Parfitt",
          "James Parfitt",
          "James Parfitt",
          "James Parfitt",
          "James Parfitt",
          "James Parfitt",
          "James Parfitt",
          "James Parfitt",
          "James Parfitt",
          "James Parfitt",
          "James Parfitt",
          "James Parfitt",
          "James Parfitt",
          "James Parfitt",
          "James Parfitt",
          "James Parfitt",
          "James Parfitt",
          "James Parfitt",
          "James Parfitt",
          "James Parfitt",
          "James Parfitt",
          "James Parfitt",
          "James Parfitt",
          "James Parfitt",
          "James Parfitt",
          "James Parfitt",
          "James Parfitt",
          "James Parfitt",
          "James Parfitt",
          "James Parfitt",
          "James Parfitt",
          "James Parfitt",
          "James Parfitt",
          "James Parfitt"
         ],
         "yaxis": "y"
        },
        {
         "customdata": [
          [
           "Gordon",
           "6.2M",
           "Bowen",
           "7.6M",
           23
          ],
          [
           "De Bruyne",
           "10.6M",
           "Son",
           "9.5M",
           22
          ],
          [
           "Estupiñan",
           "5.1M",
           "Saliba",
           "5.4M",
           22
          ],
          [
           "Gross",
           "6.5M",
           "Salah",
           "12.9M",
           21
          ],
          [
           "Gusto",
           "4.1M",
           "Cash",
           "4.7M",
           20
          ],
          [
           "Alexander-Arnold",
           "8.4M",
           "Trippier",
           "6.8M",
           20
          ],
          [
           "Pedro Porro",
           "5.6M",
           "Tsimikas",
           "4.7M",
           19
          ],
          [
           "Watkins",
           "8.4M",
           "Darwin",
           "7.6M",
           17
          ],
          [
           "Palmer",
           "5.4M",
           "Mbeumo",
           "7.0M",
           16
          ],
          [
           "Dalot",
           "5.0M",
           "Andersen",
           "4.9M",
           16
          ],
          [
           "Dubravka",
           "4.0M",
           "Turner",
           "4.0M",
           16
          ],
          [
           "Darwin",
           "7.6M",
           "Watkins",
           "8.2M",
           14
          ],
          [
           "Mbeumo",
           "6.9M",
           "Mitoma",
           "6.5M",
           13
          ],
          [
           "Mitoma",
           "6.5M",
           "Maddison",
           "8.0M",
           12
          ],
          [
           "Saliba",
           "5.2M",
           "Pedro Porro",
           "5.1M",
           12
          ],
          [
           "Tsimikas",
           "4.6M",
           "Burn",
           "4.6M",
           11
          ],
          [
           "Saka",
           "8.5M",
           "Diaby",
           "6.7M",
           10
          ],
          [
           "Archer",
           "4.5M",
           "Woodrow",
           "4.4M",
           8
          ],
          [
           "Diaby",
           "6.7M",
           "Luis Díaz",
           "7.5M",
           8
          ],
          [
           "Luis Díaz",
           "7.5M",
           "Saka",
           "8.5M",
           8
          ],
          [
           "Burn",
           "4.5M",
           "Bell",
           "4.0M",
           8
          ],
          [
           "Woodrow",
           "4.4M",
           "Mubama",
           "4.3M",
           8
          ],
          [
           "Trippier",
           "6.8M",
           "Burn",
           "4.5M",
           8
          ],
          [
           "Bowen",
           "7.2M",
           "Ward-Prowse",
           "6.3M",
           8
          ],
          [
           "Maddison",
           "7.9M",
           "Hudson-Odoi",
           "4.9M",
           8
          ],
          [
           "J.Alvarez",
           "7.0M",
           "Haaland",
           "14.0M",
           8
          ],
          [
           "Andersen",
           "4.7M",
           "Walker",
           "5.2M",
           8
          ],
          [
           "Areola",
           "4.2M",
           "Martinez",
           "4.9M",
           8
          ],
          [
           "Turner",
           "4.0M",
           "Pickford",
           "4.4M",
           8
          ],
          [
           "Mubama",
           "4.3M",
           "Semenyo",
           "4.5M",
           8
          ],
          [
           "Hudson-Odoi",
           "4.9M",
           "Gibbs-White",
           "5.8M",
           8
          ],
          [
           "Ward-Prowse",
           "6.3M",
           "Mitoma",
           "6.5M",
           8
          ],
          [
           "Son",
           "9.3M",
           "Maddison",
           "7.7M",
           8
          ],
          [
           "Salah",
           "12.6M",
           "Rashford",
           "8.8M",
           8
          ],
          [
           "Burn",
           "4.5M",
           "Trippier",
           "6.7M",
           8
          ],
          [
           "Cash",
           "4.9M",
           "Estupiñan",
           "5.1M",
           8
          ],
          [
           "Pedro Porro",
           "5.0M",
           "Udogie",
           "4.7M",
           8
          ],
          [
           "Bell",
           "4.0M",
           "Henry",
           "4.5M",
           7
          ],
          [
           "Trippier",
           "6.6M",
           "T.Silva",
           "5.0M",
           7
          ],
          [
           "Semenyo",
           "4.5M",
           "N.Jackson",
           "7.0M",
           6
          ],
          [
           "Walker",
           "5.2M",
           "Baldock",
           "4.0M",
           6
          ],
          [
           "N.Jackson",
           "7.1M",
           "Darwin",
           "7.3M",
           4
          ],
          [
           "Maddison",
           "7.6M",
           "Richarlison",
           "6.9M",
           4
          ],
          [
           "Udogie",
           "4.6M",
           "Shaw",
           "5.4M",
           4
          ],
          [
           "T.Silva",
           "5.0M",
           "Gabriel",
           "4.9M",
           4
          ],
          [
           "Henry",
           "4.5M",
           "Mings",
           "4.5M",
           2
          ]
         ],
         "hovertemplate": "Manager=%{y}<br>element_in=%{customdata[0]}<br>element_in_cost=%{customdata[1]}<br>element_out=%{customdata[2]}<br>element_out_cost=%{customdata[3]}<extra></extra>",
         "legendgroup": "Alex Winn",
         "marker": {
          "color": "#EF553B",
          "symbol": "circle"
         },
         "mode": "markers",
         "name": "Alex Winn",
         "orientation": "v",
         "showlegend": true,
         "type": "scatter",
         "x": [
          "2024-02-03T09:28:34.064348Z",
          "2024-01-30T14:44:32.360966Z",
          "2024-01-29T18:54:20.755633Z",
          "2024-01-12T17:37:24.956179Z",
          "2023-12-29T22:30:37.806152Z",
          "2023-12-29T22:30:37.797570Z",
          "2023-12-24T10:11:03.947522Z",
          "2023-12-10T20:54:10.674507Z",
          "2023-12-08T14:23:40.252412Z",
          "2023-12-06T12:37:22.828822Z",
          "2023-12-06T12:37:22.822671Z",
          "2023-12-02T12:02:38.081974Z",
          "2023-11-24T06:58:21.738917Z",
          "2023-11-10T12:44:34.269972Z",
          "2023-11-07T14:28:43.943030Z",
          "2023-11-03T12:47:29.541008Z",
          "2023-10-24T12:09:48.262842Z",
          "2023-10-07T08:02:11.528697Z",
          "2023-10-04T07:20:01.658212Z",
          "2023-10-04T07:13:37.941489Z",
          "2023-10-03T22:15:31.019007Z",
          "2023-10-03T22:15:04.388337Z",
          "2023-10-03T22:14:14.017775Z",
          "2023-10-03T22:00:23.903236Z",
          "2023-10-03T22:00:23.902995Z",
          "2023-10-03T22:00:23.902681Z",
          "2023-10-03T18:28:55.802448Z",
          "2023-10-03T18:28:55.802219Z",
          "2023-10-03T18:28:55.801990Z",
          "2023-10-03T18:28:55.801751Z",
          "2023-10-03T18:28:55.801515Z",
          "2023-10-03T18:28:55.801277Z",
          "2023-10-03T18:28:55.801042Z",
          "2023-10-03T18:28:55.800801Z",
          "2023-10-03T18:28:55.800562Z",
          "2023-10-03T18:28:55.800298Z",
          "2023-10-03T18:28:55.800001Z",
          "2023-09-25T08:23:20.804276Z",
          "2023-09-25T08:23:20.795705Z",
          "2023-09-19T10:24:49.714613Z",
          "2023-09-19T10:24:49.705482Z",
          "2023-08-27T15:06:20.672097Z",
          "2023-08-27T15:06:20.671746Z",
          "2023-08-27T15:06:20.671363Z",
          "2023-08-27T15:06:20.664973Z",
          "2023-08-14T07:35:21.048304Z"
         ],
         "xaxis": "x",
         "y": [
          "Alex Winn",
          "Alex Winn",
          "Alex Winn",
          "Alex Winn",
          "Alex Winn",
          "Alex Winn",
          "Alex Winn",
          "Alex Winn",
          "Alex Winn",
          "Alex Winn",
          "Alex Winn",
          "Alex Winn",
          "Alex Winn",
          "Alex Winn",
          "Alex Winn",
          "Alex Winn",
          "Alex Winn",
          "Alex Winn",
          "Alex Winn",
          "Alex Winn",
          "Alex Winn",
          "Alex Winn",
          "Alex Winn",
          "Alex Winn",
          "Alex Winn",
          "Alex Winn",
          "Alex Winn",
          "Alex Winn",
          "Alex Winn",
          "Alex Winn",
          "Alex Winn",
          "Alex Winn",
          "Alex Winn",
          "Alex Winn",
          "Alex Winn",
          "Alex Winn",
          "Alex Winn",
          "Alex Winn",
          "Alex Winn",
          "Alex Winn",
          "Alex Winn",
          "Alex Winn",
          "Alex Winn",
          "Alex Winn",
          "Alex Winn",
          "Alex Winn"
         ],
         "yaxis": "y"
        },
        {
         "customdata": [
          [
           "Haaland",
           "14.1M",
           "J.Alvarez",
           "6.9M",
           23
          ],
          [
           "Foden",
           "8.0M",
           "Salah",
           "12.9M",
           22
          ],
          [
           "Richarlison",
           "6.9M",
           "Son",
           "9.5M",
           21
          ],
          [
           "J.Alvarez",
           "6.9M",
           "Darwin",
           "7.5M",
           20
          ],
          [
           "Alexander-Arnold",
           "8.4M",
           "Lascelles",
           "4.1M",
           20
          ],
          [
           "Pedro Porro",
           "5.5M",
           "Tsimikas",
           "4.7M",
           18
          ],
          [
           "Solanke",
           "6.7M",
           "Archer",
           "4.5M",
           17
          ],
          [
           "Watkins",
           "8.5M",
           "Haaland",
           "14.0M",
           17
          ],
          [
           "Gordon",
           "6.1M",
           "Mbeumo",
           "6.9M",
           16
          ],
          [
           "Colwill",
           "4.5M",
           "Guéhi",
           "4.5M",
           16
          ],
          [
           "Dubravka",
           "3.9M",
           "Turner",
           "4.0M",
           15
          ],
          [
           "Darwin",
           "7.6M",
           "Watkins",
           "8.4M",
           14
          ],
          [
           "Mbeumo",
           "6.9M",
           "Mitoma",
           "6.5M",
           13
          ],
          [
           "Lascelles",
           "4.1M",
           "Pau",
           "4.5M",
           12
          ],
          [
           "Pau",
           "4.5M",
           "Cash",
           "5.0M",
           10
          ],
          [
           "Guéhi",
           "4.5M",
           "Trippier",
           "6.8M",
           10
          ],
          [
           "Saka",
           "8.5M",
           "Gordon",
           "5.6M",
           10
          ],
          [
           "Gabriel",
           "4.7M",
           "Udogie",
           "4.7M",
           10
          ],
          [
           "Watkins",
           "8.3M",
           "J.Alvarez",
           "7.0M",
           10
          ],
          [
           "Areola",
           "4.2M",
           "Onana",
           "4.8M",
           10
          ],
          [
           "Mitoma",
           "6.5M",
           "Mbeumo",
           "6.7M",
           10
          ],
          [
           "Taylor",
           "3.9M",
           "Baldock",
           "3.9M",
           10
          ],
          [
           "Tsimikas",
           "4.5M",
           "Botman",
           "4.6M",
           10
          ],
          [
           "Palmer",
           "5.0M",
           "Rashford",
           "8.7M",
           10
          ],
          [
           "Salah",
           "12.8M",
           "B.Fernandes",
           "8.3M",
           10
          ],
          [
           "Gordon",
           "5.6M",
           "Sterling",
           "7.0M",
           9
          ],
          [
           "Cash",
           "4.9M",
           "Estupiñan",
           "5.1M",
           8
          ],
          [
           "Son",
           "9.3M",
           "Saka",
           "8.5M",
           8
          ],
          [
           "Trippier",
           "6.6M",
           "Chilwell",
           "5.5M",
           7
          ],
          [
           "J.Alvarez",
           "6.9M",
           "Watkins",
           "7.9M",
           6
          ],
          [
           "Botman",
           "4.5M",
           "Henry",
           "4.6M",
           6
          ],
          [
           "Mbeumo",
           "6.8M",
           "Mitoma",
           "6.5M",
           4
          ],
          [
           "Sterling",
           "7.2M",
           "Martinelli",
           "8.0M",
           4
          ],
          [
           "Henry",
           "4.6M",
           "Gabriel",
           "4.9M",
           3
          ]
         ],
         "hovertemplate": "Manager=%{y}<br>element_in=%{customdata[0]}<br>element_in_cost=%{customdata[1]}<br>element_out=%{customdata[2]}<br>element_out_cost=%{customdata[3]}<extra></extra>",
         "legendgroup": "Seb Winn",
         "marker": {
          "color": "#00cc96",
          "symbol": "circle"
         },
         "mode": "markers",
         "name": "Seb Winn",
         "orientation": "v",
         "showlegend": true,
         "type": "scatter",
         "x": [
          "2024-02-03T09:15:40.058649Z",
          "2024-01-30T11:22:59.843265Z",
          "2024-01-12T12:25:54.774165Z",
          "2023-12-30T09:52:39.224457Z",
          "2023-12-30T09:52:39.215495Z",
          "2023-12-21T11:44:18.024164Z",
          "2023-12-15T12:48:03.203677Z",
          "2023-12-15T12:48:03.198145Z",
          "2023-12-09T03:11:24.118943Z",
          "2023-12-09T03:11:24.110546Z",
          "2023-12-04T21:47:33.646589Z",
          "2023-12-02T13:03:47.172720Z",
          "2023-11-25T08:52:04.103470Z",
          "2023-11-11T04:25:41.812462Z",
          "2023-10-25T06:23:06.747479Z",
          "2023-10-25T06:23:06.747242Z",
          "2023-10-25T06:23:06.746941Z",
          "2023-10-25T06:23:06.746686Z",
          "2023-10-25T06:23:06.746449Z",
          "2023-10-25T06:23:06.746212Z",
          "2023-10-25T06:23:06.745964Z",
          "2023-10-25T06:23:06.745564Z",
          "2023-10-25T06:23:06.745132Z",
          "2023-10-25T06:23:06.744571Z",
          "2023-10-25T06:23:06.744059Z",
          "2023-10-21T02:37:32.276831Z",
          "2023-10-06T09:09:57.072273Z",
          "2023-10-04T05:38:17.972233Z",
          "2023-09-28T12:21:06.635917Z",
          "2023-09-22T01:00:17.445836Z",
          "2023-09-19T23:59:19.746838Z",
          "2023-09-01T10:38:42.142704Z",
          "2023-09-01T10:38:42.129223Z",
          "2023-08-25T09:21:00.848662Z"
         ],
         "xaxis": "x",
         "y": [
          "Seb Winn",
          "Seb Winn",
          "Seb Winn",
          "Seb Winn",
          "Seb Winn",
          "Seb Winn",
          "Seb Winn",
          "Seb Winn",
          "Seb Winn",
          "Seb Winn",
          "Seb Winn",
          "Seb Winn",
          "Seb Winn",
          "Seb Winn",
          "Seb Winn",
          "Seb Winn",
          "Seb Winn",
          "Seb Winn",
          "Seb Winn",
          "Seb Winn",
          "Seb Winn",
          "Seb Winn",
          "Seb Winn",
          "Seb Winn",
          "Seb Winn",
          "Seb Winn",
          "Seb Winn",
          "Seb Winn",
          "Seb Winn",
          "Seb Winn",
          "Seb Winn",
          "Seb Winn",
          "Seb Winn",
          "Seb Winn"
         ],
         "yaxis": "y"
        },
        {
         "customdata": [
          [
           "Haaland",
           "14.1M",
           "J.Alvarez",
           "6.9M",
           23
          ],
          [
           "Diogo J.",
           "7.8M",
           "Bowen",
           "7.8M",
           22
          ],
          [
           "Pedro Porro",
           "5.8M",
           "Senesi",
           "4.5M",
           21
          ],
          [
           "De Bruyne",
           "10.3M",
           "Salah",
           "13.0M",
           21
          ],
          [
           "J.Alvarez",
           "6.9M",
           "Haaland",
           "13.9M",
           20
          ],
          [
           "Senesi",
           "4.5M",
           "Cash",
           "4.7M",
           19
          ],
          [
           "Gabriel",
           "4.9M",
           "Tsimikas",
           "4.7M",
           19
          ],
          [
           "Solanke",
           "6.8M",
           "Darwin",
           "7.5M",
           18
          ],
          [
           "Cash",
           "4.7M",
           "Udogie",
           "4.6M",
           18
          ],
          [
           "Branthwaite",
           "4.1M",
           "Cash",
           "4.8M",
           16
          ],
          [
           "Watkins",
           "8.4M",
           "J.Alvarez",
           "6.9M",
           16
          ],
          [
           "Dubravka",
           "4.1M",
           "Areola",
           "4.2M",
           16
          ],
          [
           "Darwin",
           "7.6M",
           "Watkins",
           "8.3M",
           14
          ],
          [
           "Zinchenko",
           "5.0M",
           "Livramento",
           "4.3M",
           13
          ],
          [
           "Livramento",
           "4.3M",
           "Van de Ven",
           "4.6M",
           12
          ],
          [
           "Bowen",
           "7.5M",
           "Maddison",
           "7.8M",
           12
          ],
          [
           "Tsimikas",
           "4.6M",
           "Gusto",
           "4.2M",
           11
          ],
          [
           "Turner",
           "4.1M",
           "Flekken",
           "4.5M",
           11
          ],
          [
           "Areola",
           "4.2M",
           "Verbruggen",
           "4.4M",
           10
          ],
          [
           "Palmer",
           "5.0M",
           "Elanga",
           "5.0M",
           10
          ],
          [
           "Lascelles",
           "4.0M",
           "Alexander-Arnold",
           "7.9M",
           10
          ],
          [
           "Salah",
           "12.8M",
           "Mitoma",
           "6.5M",
           10
          ],
          [
           "Gusto",
           "4.2M",
           "Botman",
           "4.7M",
           10
          ],
          [
           "Gordon",
           "5.7M",
           "Ward-Prowse",
           "6.3M",
           10
          ],
          [
           "Van de Ven",
           "4.6M",
           "Disasi",
           "5.0M",
           9
          ],
          [
           "Ward-Prowse",
           "6.3M",
           "Foden",
           "7.6M",
           8
          ],
          [
           "Watkins",
           "8.1M",
           "Isak",
           "7.5M",
           8
          ],
          [
           "Cash",
           "4.9M",
           "Estupiñan",
           "5.1M",
           8
          ],
          [
           "Botman",
           "4.7M",
           "Gusto",
           "4.2M",
           7
          ],
          [
           "J.Alvarez",
           "6.9M",
           "Wissa",
           "6.1M",
           6
          ],
          [
           "Verbruggen",
           "4.4M",
           "Steele",
           "4.4M",
           5
          ],
          [
           "Gusto",
           "4.2M",
           "Shaw",
           "5.3M",
           5
          ],
          [
           "Mitoma",
           "6.6M",
           "L.Paquetá",
           "6.0M",
           3
          ],
          [
           "Wissa",
           "6.1M",
           "João Pedro",
           "5.5M",
           3
          ],
          [
           "Foden",
           "7.6M",
           "Rashford",
           "9.0M",
           3
          ],
          [
           "Disasi",
           "5.0M",
           "Pau",
           "4.5M",
           2
          ]
         ],
         "hovertemplate": "Manager=%{y}<br>element_in=%{customdata[0]}<br>element_in_cost=%{customdata[1]}<br>element_out=%{customdata[2]}<br>element_out_cost=%{customdata[3]}<extra></extra>",
         "legendgroup": "Ben Melhuish",
         "marker": {
          "color": "#ab63fa",
          "symbol": "circle"
         },
         "mode": "markers",
         "name": "Ben Melhuish",
         "orientation": "v",
         "showlegend": true,
         "type": "scatter",
         "x": [
          "2024-02-03T07:16:26.131434Z",
          "2024-01-22T07:32:37.278891Z",
          "2024-01-12T13:13:53.931929Z",
          "2024-01-12T13:13:53.924606Z",
          "2023-12-30T07:57:24.061131Z",
          "2023-12-26T08:09:58.393563Z",
          "2023-12-26T08:08:16.395964Z",
          "2023-12-21T13:04:05.809478Z",
          "2023-12-21T13:04:05.801007Z",
          "2023-12-09T08:04:43.846429Z",
          "2023-12-09T08:04:43.845934Z",
          "2023-12-09T08:04:43.839747Z",
          "2023-12-01T23:12:38.428826Z",
          "2023-11-25T07:07:14.032897Z",
          "2023-11-10T16:27:05.333499Z",
          "2023-11-10T16:27:05.320445Z",
          "2023-10-31T14:44:54.384522Z",
          "2023-10-31T14:44:54.377527Z",
          "2023-10-27T02:50:46.393580Z",
          "2023-10-27T02:50:46.393346Z",
          "2023-10-27T02:50:46.393101Z",
          "2023-10-27T02:50:46.392858Z",
          "2023-10-27T02:50:46.392592Z",
          "2023-10-27T02:50:46.392068Z",
          "2023-10-20T21:07:23.094187Z",
          "2023-10-07T09:34:57.680537Z",
          "2023-10-07T09:34:57.671886Z",
          "2023-10-05T11:42:09.882971Z",
          "2023-09-25T06:32:32.944202Z",
          "2023-09-23T08:30:57.777050Z",
          "2023-09-15T11:44:46.919952Z",
          "2023-09-15T11:42:37.087054Z",
          "2023-08-24T20:00:10.215219Z",
          "2023-08-24T20:00:10.214345Z",
          "2023-08-24T20:00:10.207897Z",
          "2023-08-17T21:44:02.343980Z"
         ],
         "xaxis": "x",
         "y": [
          "Ben Melhuish",
          "Ben Melhuish",
          "Ben Melhuish",
          "Ben Melhuish",
          "Ben Melhuish",
          "Ben Melhuish",
          "Ben Melhuish",
          "Ben Melhuish",
          "Ben Melhuish",
          "Ben Melhuish",
          "Ben Melhuish",
          "Ben Melhuish",
          "Ben Melhuish",
          "Ben Melhuish",
          "Ben Melhuish",
          "Ben Melhuish",
          "Ben Melhuish",
          "Ben Melhuish",
          "Ben Melhuish",
          "Ben Melhuish",
          "Ben Melhuish",
          "Ben Melhuish",
          "Ben Melhuish",
          "Ben Melhuish",
          "Ben Melhuish",
          "Ben Melhuish",
          "Ben Melhuish",
          "Ben Melhuish",
          "Ben Melhuish",
          "Ben Melhuish",
          "Ben Melhuish",
          "Ben Melhuish",
          "Ben Melhuish",
          "Ben Melhuish",
          "Ben Melhuish",
          "Ben Melhuish"
         ],
         "yaxis": "y"
        },
        {
         "customdata": [
          [
           "Bradley",
           "4.0M",
           "Cash",
           "4.6M",
           23
          ],
          [
           "Diogo J.",
           "7.9M",
           "Rodrigo",
           "5.6M",
           22
          ],
          [
           "De Bruyne",
           "10.6M",
           "Salah",
           "13.0M",
           22
          ],
          [
           "Van de Ven",
           "4.4M",
           "Senesi",
           "4.5M",
           21
          ],
          [
           "Rodrigo",
           "5.6M",
           "Hee Chan",
           "5.7M",
           21
          ],
          [
           "Senesi",
           "4.5M",
           "Zinchenko",
           "5.2M",
           20
          ],
          [
           "Foden",
           "7.7M",
           "Ward-Prowse",
           "6.0M",
           20
          ],
          [
           "Richarlison",
           "6.8M",
           "Iwobi",
           "5.3M",
           19
          ],
          [
           "Zinchenko",
           "5.2M",
           "Walker",
           "5.3M",
           18
          ],
          [
           "Iwobi",
           "5.3M",
           "Diaby",
           "6.7M",
           17
          ],
          [
           "Martinez",
           "5.0M",
           "Areola",
           "4.2M",
           17
          ],
          [
           "Hee Chan",
           "5.8M",
           "Gordon",
           "5.9M",
           17
          ],
          [
           "Solanke",
           "6.5M",
           "J.Alvarez",
           "6.9M",
           15
          ],
          [
           "Diaby",
           "6.8M",
           "Jensen",
           "5.4M",
           14
          ],
          [
           "Palmer",
           "5.2M",
           "Mitoma",
           "6.5M",
           13
          ],
          [
           "Watkins",
           "8.4M",
           "Darwin",
           "7.4M",
           12
          ],
          [
           "Gordon",
           "5.7M",
           "Maddison",
           "7.9M",
           12
          ],
          [
           "Branthwaite",
           "4.0M",
           "Trippier",
           "6.7M",
           11
          ],
          [
           "Jensen",
           "5.5M",
           "Bowen",
           "7.3M",
           11
          ],
          [
           "Salah",
           "12.9M",
           "Saka",
           "8.5M",
           11
          ],
          [
           "Darwin",
           "7.4M",
           "Isak",
           "7.5M",
           9
          ],
          [
           "Strakosha",
           "3.9M",
           "Forster",
           "4.0M",
           8
          ],
          [
           "Bowen",
           "7.3M",
           "Sterling",
           "7.0M",
           8
          ],
          [
           "Gabriel",
           "4.7M",
           "Botman",
           "4.6M",
           8
          ],
          [
           "Areola",
           "4.2M",
           "Ramsdale",
           "4.9M",
           8
          ],
          [
           "Walker",
           "5.3M",
           "Estupiñan",
           "5.1M",
           8
          ],
          [
           "Udogie",
           "4.8M",
           "Martinez",
           "4.8M",
           7
          ],
          [
           "J.Alvarez",
           "6.9M",
           "Wissa",
           "6.1M",
           6
          ],
          [
           "Ward-Prowse",
           "6.2M",
           "Eze",
           "6.3M",
           6
          ],
          [
           "Maddison",
           "7.8M",
           "Grealish",
           "7.3M",
           5
          ],
          [
           "Sterling",
           "7.2M",
           "Enciso",
           "5.3M",
           4
          ],
          [
           "Cash",
           "4.6M",
           "Shaw",
           "5.4M",
           4
          ],
          [
           "Wissa",
           "6.1M",
           "Darwin",
           "7.4M",
           3
          ],
          [
           "Shaw",
           "5.5M",
           "Stones",
           "5.5M",
           2
          ]
         ],
         "hovertemplate": "Manager=%{y}<br>element_in=%{customdata[0]}<br>element_in_cost=%{customdata[1]}<br>element_out=%{customdata[2]}<br>element_out_cost=%{customdata[3]}<extra></extra>",
         "legendgroup": "Joseph Parsons",
         "marker": {
          "color": "#FFA15A",
          "symbol": "circle"
         },
         "mode": "markers",
         "name": "Joseph Parsons",
         "orientation": "v",
         "showlegend": true,
         "type": "scatter",
         "x": [
          "2024-02-02T21:13:16.203407Z",
          "2024-01-29T13:26:43.681786Z",
          "2024-01-29T13:26:43.674914Z",
          "2024-01-12T14:09:38.750131Z",
          "2024-01-12T14:09:38.743620Z",
          "2023-12-30T10:08:47.609218Z",
          "2023-12-30T10:08:47.602735Z",
          "2023-12-26T09:24:26.931272Z",
          "2023-12-19T08:30:58.752699Z",
          "2023-12-14T09:17:18.314739Z",
          "2023-12-14T09:17:18.314300Z",
          "2023-12-14T09:17:18.306272Z",
          "2023-12-05T07:37:06.647482Z",
          "2023-12-02T09:49:50.517268Z",
          "2023-11-25T07:58:39.573419Z",
          "2023-11-10T08:36:29.464139Z",
          "2023-11-10T08:36:29.456024Z",
          "2023-11-03T11:36:24.430698Z",
          "2023-11-03T11:36:24.430223Z",
          "2023-11-03T11:36:24.424605Z",
          "2023-10-21T06:25:07.158157Z",
          "2023-10-07T07:57:43.625038Z",
          "2023-10-07T07:57:43.624802Z",
          "2023-10-07T07:57:43.624514Z",
          "2023-10-07T07:57:43.624214Z",
          "2023-10-07T07:57:43.623907Z",
          "2023-09-27T07:53:21.097549Z",
          "2023-09-22T11:20:54.577590Z",
          "2023-09-22T11:20:54.567711Z",
          "2023-09-04T07:36:36.158030Z",
          "2023-09-01T07:17:04.231228Z",
          "2023-09-01T07:17:04.222822Z",
          "2023-08-22T10:37:44.115829Z",
          "2023-08-15T08:21:13.457703Z"
         ],
         "xaxis": "x",
         "y": [
          "Joseph Parsons",
          "Joseph Parsons",
          "Joseph Parsons",
          "Joseph Parsons",
          "Joseph Parsons",
          "Joseph Parsons",
          "Joseph Parsons",
          "Joseph Parsons",
          "Joseph Parsons",
          "Joseph Parsons",
          "Joseph Parsons",
          "Joseph Parsons",
          "Joseph Parsons",
          "Joseph Parsons",
          "Joseph Parsons",
          "Joseph Parsons",
          "Joseph Parsons",
          "Joseph Parsons",
          "Joseph Parsons",
          "Joseph Parsons",
          "Joseph Parsons",
          "Joseph Parsons",
          "Joseph Parsons",
          "Joseph Parsons",
          "Joseph Parsons",
          "Joseph Parsons",
          "Joseph Parsons",
          "Joseph Parsons",
          "Joseph Parsons",
          "Joseph Parsons",
          "Joseph Parsons",
          "Joseph Parsons",
          "Joseph Parsons",
          "Joseph Parsons"
         ],
         "yaxis": "y"
        },
        {
         "customdata": [
          [
           "Gordon",
           "6.2M",
           "Douglas Luiz",
           "5.6M",
           23
          ],
          [
           "Haaland",
           "14.1M",
           "J.Alvarez",
           "6.9M",
           23
          ],
          [
           "Solanke",
           "7.1M",
           "Archer",
           "4.5M",
           21
          ],
          [
           "Douglas Luiz",
           "5.6M",
           "Sarr",
           "4.5M",
           21
          ],
          [
           "Richarlison",
           "6.9M",
           "Son",
           "9.6M",
           21
          ],
          [
           "Saka",
           "9.1M",
           "Salah",
           "12.8M",
           21
          ],
          [
           "Palmer",
           "5.7M",
           "Hee Chan",
           "5.7M",
           21
          ],
          [
           "Foden",
           "7.9M",
           "Bowen",
           "7.9M",
           21
          ],
          [
           "Virgil",
           "6.3M",
           "Alexander-Arnold",
           "8.4M",
           21
          ],
          [
           "Areola",
           "4.2M",
           "Sanchez",
           "4.6M",
           21
          ],
          [
           "Hee Chan",
           "5.7M",
           "Gordon",
           "6.1M",
           20
          ],
          [
           "Alexander-Arnold",
           "8.4M",
           "Trippier",
           "6.8M",
           20
          ],
          [
           "Gabriel",
           "4.9M",
           "Van de Ven",
           "4.4M",
           19
          ],
          [
           "Bowen",
           "7.7M",
           "Douglas Luiz",
           "5.5M",
           17
          ],
          [
           "Watkins",
           "8.5M",
           "Haaland",
           "14.0M",
           17
          ],
          [
           "Sanchez",
           "4.6M",
           "Areola",
           "4.1M",
           16
          ],
          [
           "Gordon",
           "6.1M",
           "Mbeumo",
           "6.9M",
           16
          ],
          [
           "J.Alvarez",
           "7.0M",
           "Watkins",
           "8.2M",
           14
          ],
          [
           "Mitchell",
           "4.7M",
           "Cash",
           "5.0M",
           13
          ],
          [
           "Mbeumo",
           "6.9M",
           "Mitoma",
           "6.5M",
           13
          ],
          [
           "Pinnock",
           "4.5M",
           "Gabriel",
           "4.7M",
           11
          ],
          [
           "Van de Ven",
           "4.7M",
           "Udogie",
           "4.7M",
           11
          ],
          [
           "Sarr",
           "4.6M",
           "Anderson",
           "4.4M",
           10
          ],
          [
           "Son",
           "9.4M",
           "Bowen",
           "7.2M",
           8
          ],
          [
           "Anderson",
           "4.4M",
           "Mbeumo",
           "6.7M",
           8
          ],
          [
           "Douglas Luiz",
           "5.4M",
           "Baptiste",
           "4.3M",
           8
          ],
          [
           "Gabriel",
           "4.7M",
           "Romero",
           "4.6M",
           8
          ],
          [
           "Andersen",
           "4.8M",
           "Baldock",
           "3.9M",
           8
          ],
          [
           "Trippier",
           "6.8M",
           "Estupiñan",
           "5.1M",
           8
          ],
          [
           "Cash",
           "5.0M",
           "Chilwell",
           "5.5M",
           8
          ],
          [
           "Turner",
           "4.0M",
           "Onana",
           "4.9M",
           8
          ],
          [
           "Archer",
           "4.5M",
           "João Pedro",
           "5.3M",
           8
          ],
          [
           "Bowen",
           "7.2M",
           "Saka",
           "8.6M",
           7
          ],
          [
           "Udogie",
           "4.7M",
           "Alexander-Arnold",
           "7.9M",
           6
          ],
          [
           "Salah",
           "12.5M",
           "Eze",
           "6.3M",
           6
          ],
          [
           "Chilwell",
           "5.8M",
           "Trippier",
           "6.5M",
           4
          ],
          [
           "Mbeumo",
           "6.7M",
           "Rashford",
           "9.0M",
           3
          ],
          [
           "Romero",
           "4.5M",
           "Mings",
           "4.4M",
           3
          ]
         ],
         "hovertemplate": "Manager=%{y}<br>element_in=%{customdata[0]}<br>element_in_cost=%{customdata[1]}<br>element_out=%{customdata[2]}<br>element_out_cost=%{customdata[3]}<extra></extra>",
         "legendgroup": "Richard Collins",
         "marker": {
          "color": "#19d3f3",
          "symbol": "circle"
         },
         "mode": "markers",
         "name": "Richard Collins",
         "orientation": "v",
         "showlegend": true,
         "type": "scatter",
         "x": [
          "2024-02-03T09:09:18.238723Z",
          "2024-02-03T09:09:18.232316Z",
          "2024-01-12T14:41:34.670567Z",
          "2024-01-12T14:41:34.670338Z",
          "2024-01-12T14:41:34.670118Z",
          "2024-01-12T14:41:34.669862Z",
          "2024-01-12T14:41:34.669626Z",
          "2024-01-12T14:41:34.669389Z",
          "2024-01-12T14:41:34.669138Z",
          "2024-01-12T14:41:34.668804Z",
          "2023-12-30T08:35:26.058878Z",
          "2023-12-30T08:35:26.052634Z",
          "2023-12-26T09:12:15.379030Z",
          "2023-12-15T13:45:58.391559Z",
          "2023-12-15T13:45:58.383579Z",
          "2023-12-09T08:56:14.476521Z",
          "2023-12-09T08:56:14.468097Z",
          "2023-12-02T13:27:16.234297Z",
          "2023-11-25T07:27:39.277705Z",
          "2023-11-25T07:27:39.270372Z",
          "2023-11-04T08:49:35.527000Z",
          "2023-11-04T08:49:35.515401Z",
          "2023-10-27T14:26:40.322835Z",
          "2023-10-07T09:55:29.443673Z",
          "2023-10-07T09:55:29.443427Z",
          "2023-10-07T09:55:29.443181Z",
          "2023-10-07T09:55:29.442956Z",
          "2023-10-07T09:55:29.442723Z",
          "2023-10-07T09:55:29.442460Z",
          "2023-10-07T09:55:29.442196Z",
          "2023-10-07T09:55:29.441960Z",
          "2023-10-07T09:55:29.441673Z",
          "2023-09-30T08:31:14.340699Z",
          "2023-09-23T09:46:32.909140Z",
          "2023-09-23T09:46:32.903431Z",
          "2023-09-01T09:38:07.587890Z",
          "2023-08-25T12:33:27.081289Z",
          "2023-08-25T12:33:27.073456Z"
         ],
         "xaxis": "x",
         "y": [
          "Richard Collins",
          "Richard Collins",
          "Richard Collins",
          "Richard Collins",
          "Richard Collins",
          "Richard Collins",
          "Richard Collins",
          "Richard Collins",
          "Richard Collins",
          "Richard Collins",
          "Richard Collins",
          "Richard Collins",
          "Richard Collins",
          "Richard Collins",
          "Richard Collins",
          "Richard Collins",
          "Richard Collins",
          "Richard Collins",
          "Richard Collins",
          "Richard Collins",
          "Richard Collins",
          "Richard Collins",
          "Richard Collins",
          "Richard Collins",
          "Richard Collins",
          "Richard Collins",
          "Richard Collins",
          "Richard Collins",
          "Richard Collins",
          "Richard Collins",
          "Richard Collins",
          "Richard Collins",
          "Richard Collins",
          "Richard Collins",
          "Richard Collins",
          "Richard Collins",
          "Richard Collins",
          "Richard Collins"
         ],
         "yaxis": "y"
        },
        {
         "customdata": [
          [
           "De Bruyne",
           "10.5M",
           "Son",
           "9.7M",
           22
          ],
          [
           "Olise",
           "5.8M",
           "Salah",
           "12.9M",
           21
          ],
          [
           "Bowen",
           "7.9M",
           "Saka",
           "8.7M",
           20
          ],
          [
           "Turner",
           "3.9M",
           "Ortega Moreno",
           "3.9M",
           19
          ],
          [
           "Cunha",
           "5.8M",
           "Edouard",
           "5.4M",
           19
          ],
          [
           "Gordon",
           "6.0M",
           "Douglas Luiz",
           "5.6M",
           15
          ],
          [
           "Douglas Luiz",
           "5.6M",
           "Bowen",
           "7.4M",
           14
          ],
          [
           "Isak",
           "7.4M",
           "Solanke",
           "6.4M",
           14
          ],
          [
           "Edouard",
           "5.5M",
           "Wissa",
           "5.9M",
           13
          ],
          [
           "Son",
           "9.7M",
           "Maddison",
           "7.7M",
           13
          ],
          [
           "Solanke",
           "6.4M",
           "João Pedro",
           "5.3M",
           13
          ],
          [
           "J.Alvarez",
           "7.1M",
           "Wilson",
           "7.8M",
           13
          ],
          [
           "Saliba",
           "5.4M",
           "White",
           "5.7M",
           13
          ],
          [
           "Palmer",
           "5.1M",
           "Douglas Luiz",
           "5.5M",
           12
          ],
          [
           "White",
           "5.7M",
           "Estupiñan",
           "5.0M",
           11
          ],
          [
           "Wilson",
           "7.8M",
           "Isak",
           "7.4M",
           11
          ],
          [
           "Douglas Luiz",
           "5.5M",
           "Diaby",
           "6.7M",
           10
          ],
          [
           "Diaby",
           "6.7M",
           "Doku",
           "6.5M",
           8
          ],
          [
           "Bowen",
           "7.2M",
           "Ward-Prowse",
           "6.1M",
           8
          ],
          [
           "Doku",
           "6.5M",
           "Son",
           "9.0M",
           6
          ],
          [
           "Ortega Moreno",
           "3.9M",
           "Onana",
           "5.0M",
           5
          ],
          [
           "Son",
           "9.0M",
           "Diaby",
           "6.6M",
           5
          ],
          [
           "Diaby",
           "6.6M",
           "March",
           "6.5M",
           4
          ],
          [
           "Ward-Prowse",
           "6.0M",
           "Mbeumo",
           "6.6M",
           4
          ],
          [
           "March",
           "6.5M",
           "Garnacho",
           "5.0M",
           3
          ],
          [
           "Mbeumo",
           "6.6M",
           "Eze",
           "6.5M",
           3
          ],
          [
           "Wissa",
           "6.1M",
           "N.Jackson",
           "7.0M",
           3
          ],
          [
           "Maddison",
           "7.5M",
           "Rashford",
           "9.0M",
           2
          ]
         ],
         "hovertemplate": "Manager=%{y}<br>element_in=%{customdata[0]}<br>element_in_cost=%{customdata[1]}<br>element_out=%{customdata[2]}<br>element_out_cost=%{customdata[3]}<extra></extra>",
         "legendgroup": "Jacob Pickles",
         "marker": {
          "color": "#FF6692",
          "symbol": "circle"
         },
         "mode": "markers",
         "name": "Jacob Pickles",
         "orientation": "v",
         "showlegend": true,
         "type": "scatter",
         "x": [
          "2024-01-20T13:42:23.371788Z",
          "2023-12-31T00:31:21.442294Z",
          "2023-12-28T22:37:28.660242Z",
          "2023-12-23T03:09:21.720446Z",
          "2023-12-23T03:08:00.191817Z",
          "2023-12-05T03:27:55.342791Z",
          "2023-11-29T11:26:20.415796Z",
          "2023-11-29T11:26:20.407076Z",
          "2023-11-21T12:31:12.660930Z",
          "2023-11-21T12:31:12.660687Z",
          "2023-11-21T12:31:12.660442Z",
          "2023-11-21T12:31:12.660191Z",
          "2023-11-21T12:31:12.659868Z",
          "2023-11-10T02:12:56.875907Z",
          "2023-11-04T08:55:28.822155Z",
          "2023-11-04T08:55:28.816153Z",
          "2023-10-25T23:25:05.433777Z",
          "2023-09-30T16:19:26.404392Z",
          "2023-09-30T16:05:03.058737Z",
          "2023-09-21T21:20:41.764555Z",
          "2023-09-03T14:05:27.403774Z",
          "2023-09-03T14:05:27.395084Z",
          "2023-08-28T01:26:53.580749Z",
          "2023-08-26T19:51:40.164110Z",
          "2023-08-20T08:53:57.361514Z",
          "2023-08-20T08:53:57.361063Z",
          "2023-08-20T08:53:57.355026Z",
          "2023-08-14T21:16:47.221190Z"
         ],
         "xaxis": "x",
         "y": [
          "Jacob Pickles",
          "Jacob Pickles",
          "Jacob Pickles",
          "Jacob Pickles",
          "Jacob Pickles",
          "Jacob Pickles",
          "Jacob Pickles",
          "Jacob Pickles",
          "Jacob Pickles",
          "Jacob Pickles",
          "Jacob Pickles",
          "Jacob Pickles",
          "Jacob Pickles",
          "Jacob Pickles",
          "Jacob Pickles",
          "Jacob Pickles",
          "Jacob Pickles",
          "Jacob Pickles",
          "Jacob Pickles",
          "Jacob Pickles",
          "Jacob Pickles",
          "Jacob Pickles",
          "Jacob Pickles",
          "Jacob Pickles",
          "Jacob Pickles",
          "Jacob Pickles",
          "Jacob Pickles",
          "Jacob Pickles"
         ],
         "yaxis": "y"
        },
        {
         "customdata": [
          [
           "Foden",
           "7.9M",
           "Ødegaard",
           "8.4M",
           23
          ],
          [
           "Souček",
           "4.9M",
           "Bernardo",
           "6.4M",
           22
          ],
          [
           "Johnstone",
           "4.5M",
           "Ederson M.",
           "5.5M",
           22
          ],
          [
           "Saliba",
           "5.6M",
           "Lascelles",
           "4.0M",
           22
          ],
          [
           "Darwin",
           "7.5M",
           "Solanke",
           "7.0M",
           22
          ],
          [
           "João Pedro",
           "5.5M",
           "Watkins",
           "8.6M",
           22
          ],
          [
           "Haaland",
           "13.9M",
           "Woodrow",
           "4.3M",
           22
          ],
          [
           "Bowen",
           "8.1M",
           "Son",
           "9.5M",
           22
          ],
          [
           "De Bruyne",
           "10.6M",
           "Salah",
           "12.9M",
           22
          ],
          [
           "Ødegaard",
           "8.4M",
           "Gordon",
           "6.0M",
           20
          ],
          [
           "Saka",
           "9.0M",
           "Adingra",
           "5.0M",
           19
          ],
          [
           "Solanke",
           "7.0M",
           "J.Alvarez",
           "6.8M",
           19
          ],
          [
           "Pedro Porro",
           "5.4M",
           "Trippier",
           "6.7M",
           17
          ],
          [
           "J.Alvarez",
           "6.9M",
           "Haaland",
           "14.0M",
           17
          ],
          [
           "Gordon",
           "6.0M",
           "Douglas Luiz",
           "5.6M",
           15
          ],
          [
           "Bernardo",
           "6.4M",
           "Foden",
           "7.5M",
           14
          ],
          [
           "Adingra",
           "5.0M",
           "Sarr",
           "4.6M",
           13
          ],
          [
           "Guéhi",
           "4.6M",
           "Van de Ven",
           "4.6M",
           12
          ],
          [
           "Douglas Luiz",
           "5.6M",
           "Gordon",
           "5.6M",
           11
          ],
          [
           "Lascelles",
           "4.0M",
           "R.Varane",
           "5.0M",
           10
          ],
          [
           "Watkins",
           "8.3M",
           "Darwin",
           "7.4M",
           10
          ],
          [
           "R.Varane",
           "5.0M",
           "Digne",
           "4.6M",
           9
          ],
          [
           "Gordon",
           "5.6M",
           "Maddison",
           "7.9M",
           9
          ],
          [
           "Van de Ven",
           "4.6M",
           "Saliba",
           "5.1M",
           9
          ],
          [
           "Sarr",
           "4.6M",
           "Ødegaard",
           "8.5M",
           9
          ],
          [
           "Branthwaite",
           "4.0M",
           "Pedro Porro",
           "5.1M",
           9
          ],
          [
           "Salah",
           "12.7M",
           "Nakamba",
           "4.4M",
           9
          ],
          [
           "Woodrow",
           "4.4M",
           "Nketiah",
           "5.5M",
           9
          ],
          [
           "Darwin",
           "7.4M",
           "Isak",
           "7.5M",
           9
          ],
          [
           "Nakamba",
           "4.4M",
           "Mbeumo",
           "6.7M",
           8
          ],
          [
           "Son",
           "9.4M",
           "Mitoma",
           "6.5M",
           8
          ],
          [
           "Pedro Porro",
           "5.1M",
           "Estupiñan",
           "5.2M",
           8
          ],
          [
           "Digne",
           "4.6M",
           "Chilwell",
           "5.6M",
           6
          ],
          [
           "Foden",
           "7.6M",
           "Son",
           "9.1M",
           6
          ],
          [
           "Isak",
           "7.6M",
           "Cunha",
           "5.5M",
           6
          ],
          [
           "Maddison",
           "7.8M",
           "Diogo J.",
           "7.9M",
           5
          ],
          [
           "Cunha",
           "5.5M",
           "Rodriguez",
           "5.3M",
           5
          ],
          [
           "Son",
           "9.1M",
           "Grealish",
           "7.3M",
           5
          ],
          [
           "Mbeumo",
           "6.7M",
           "Rashford",
           "9.0M",
           3
          ],
          [
           "Estupiñan",
           "5.2M",
           "Maguire",
           "4.4M",
           3
          ]
         ],
         "hovertemplate": "Manager=%{y}<br>element_in=%{customdata[0]}<br>element_in_cost=%{customdata[1]}<br>element_out=%{customdata[2]}<br>element_out_cost=%{customdata[3]}<extra></extra>",
         "legendgroup": "Mason Gardener",
         "marker": {
          "color": "#B6E880",
          "symbol": "circle"
         },
         "mode": "markers",
         "name": "Mason Gardener",
         "orientation": "v",
         "showlegend": true,
         "type": "scatter",
         "x": [
          "2024-02-03T10:37:30.361665Z",
          "2024-01-30T17:48:23.967513Z",
          "2024-01-30T17:48:23.967260Z",
          "2024-01-30T17:48:23.967017Z",
          "2024-01-30T17:48:23.966777Z",
          "2024-01-30T17:48:23.966489Z",
          "2024-01-30T17:48:23.966210Z",
          "2024-01-30T17:48:23.965964Z",
          "2024-01-30T17:48:23.965648Z",
          "2023-12-30T10:26:28.550220Z",
          "2023-12-26T08:08:15.180159Z",
          "2023-12-26T08:08:15.171448Z",
          "2023-12-14T22:04:20.635536Z",
          "2023-12-14T22:04:20.626399Z",
          "2023-12-05T13:44:18.245937Z",
          "2023-12-02T09:04:27.069854Z",
          "2023-11-25T07:32:07.546830Z",
          "2023-11-11T09:24:49.354742Z",
          "2023-11-04T09:11:08.175767Z",
          "2023-10-26T21:42:31.780320Z",
          "2023-10-26T21:42:31.774464Z",
          "2023-10-21T09:35:03.588219Z",
          "2023-10-21T09:35:03.587985Z",
          "2023-10-21T09:35:03.587740Z",
          "2023-10-21T09:35:03.587487Z",
          "2023-10-21T09:35:03.587175Z",
          "2023-10-21T09:35:03.586932Z",
          "2023-10-21T09:35:03.586666Z",
          "2023-10-21T09:35:03.586295Z",
          "2023-10-06T22:21:09.200641Z",
          "2023-10-06T22:21:09.199791Z",
          "2023-10-06T22:21:09.190591Z",
          "2023-09-23T08:39:54.062560Z",
          "2023-09-23T08:39:54.062100Z",
          "2023-09-23T08:39:54.055263Z",
          "2023-09-16T08:27:16.896320Z",
          "2023-09-16T08:24:55.154168Z",
          "2023-09-16T08:24:55.146543Z",
          "2023-08-24T21:26:02.799441Z",
          "2023-08-24T21:26:02.792796Z"
         ],
         "xaxis": "x",
         "y": [
          "Mason Gardener",
          "Mason Gardener",
          "Mason Gardener",
          "Mason Gardener",
          "Mason Gardener",
          "Mason Gardener",
          "Mason Gardener",
          "Mason Gardener",
          "Mason Gardener",
          "Mason Gardener",
          "Mason Gardener",
          "Mason Gardener",
          "Mason Gardener",
          "Mason Gardener",
          "Mason Gardener",
          "Mason Gardener",
          "Mason Gardener",
          "Mason Gardener",
          "Mason Gardener",
          "Mason Gardener",
          "Mason Gardener",
          "Mason Gardener",
          "Mason Gardener",
          "Mason Gardener",
          "Mason Gardener",
          "Mason Gardener",
          "Mason Gardener",
          "Mason Gardener",
          "Mason Gardener",
          "Mason Gardener",
          "Mason Gardener",
          "Mason Gardener",
          "Mason Gardener",
          "Mason Gardener",
          "Mason Gardener",
          "Mason Gardener",
          "Mason Gardener",
          "Mason Gardener",
          "Mason Gardener",
          "Mason Gardener"
         ],
         "yaxis": "y"
        },
        {
         "customdata": [
          [
           "Mateta",
           "4.9M",
           "João Pedro",
           "5.4M",
           23
          ],
          [
           "Turner",
           "3.9M",
           "Altay",
           "4.0M",
           23
          ],
          [
           "Pedro Porro",
           "5.9M",
           "Gusto",
           "4.2M",
           22
          ],
          [
           "Haaland",
           "13.9M",
           "Watkins",
           "8.9M",
           22
          ],
          [
           "Diogo J.",
           "7.8M",
           "Ødegaard",
           "8.4M",
           21
          ],
          [
           "Toney",
           "7.9M",
           "Haaland",
           "13.9M",
           21
          ],
          [
           "Ødegaard",
           "8.4M",
           "Diogo J.",
           "7.8M",
           21
          ],
          [
           "Udogie",
           "4.8M",
           "Saliba",
           "5.4M",
           21
          ],
          [
           "João Pedro",
           "5.4M",
           "Darwin",
           "7.4M",
           21
          ],
          [
           "Diogo J.",
           "7.8M",
           "Olise",
           "5.8M",
           21
          ],
          [
           "Altay",
           "4.0M",
           "Turner",
           "3.9M",
           21
          ],
          [
           "Emerson",
           "4.5M",
           "Colwill",
           "4.6M",
           21
          ],
          [
           "Estupiñan",
           "4.9M",
           "Dalot",
           "5.1M",
           21
          ],
          [
           "Gusto",
           "4.2M",
           "C.Richards",
           "3.9M",
           21
          ],
          [
           "Olise",
           "5.8M",
           "L.Paquetá",
           "6.0M",
           21
          ],
          [
           "C.Richards",
           "3.9M",
           "Van Hecke",
           "4.0M",
           21
          ],
          [
           "Van Hecke",
           "4.0M",
           "C.Richards",
           "3.9M",
           21
          ],
          [
           "Areola",
           "4.2M",
           "Dubravka",
           "4.0M",
           21
          ],
          [
           "Dalot",
           "5.1M",
           "Aké",
           "5.0M",
           21
          ],
          [
           "Darwin",
           "7.4M",
           "J.Alvarez",
           "6.8M",
           21
          ],
          [
           "Haaland",
           "13.9M",
           "G.Jesus",
           "8.0M",
           21
          ],
          [
           "Watkins",
           "8.9M",
           "Solanke",
           "6.9M",
           21
          ],
          [
           "Virgil",
           "6.3M",
           "Senesi",
           "4.4M",
           21
          ],
          [
           "Foden",
           "7.8M",
           "Son",
           "9.7M",
           21
          ],
          [
           "De Bruyne",
           "10.2M",
           "Salah",
           "13.0M",
           21
          ],
          [
           "G.Jesus",
           "8.0M",
           "Haaland",
           "13.9M",
           20
          ],
          [
           "L.Paquetá",
           "6.0M",
           "Gordon",
           "6.0M",
           20
          ],
          [
           "Aké",
           "5.0M",
           "Digne",
           "4.6M",
           20
          ],
          [
           "Turner",
           "3.9M",
           "Sanchez",
           "4.5M",
           19
          ],
          [
           "Solanke",
           "6.8M",
           "Archer",
           "4.5M",
           18
          ],
          [
           "C.Richards",
           "3.9M",
           "Virgil",
           "6.1M",
           18
          ],
          [
           "Son",
           "9.5M",
           "Ødegaard",
           "8.3M",
           17
          ],
          [
           "Senesi",
           "4.3M",
           "Andersen",
           "4.9M",
           17
          ],
          [
           "Colwill",
           "4.5M",
           "Gusto",
           "4.1M",
           16
          ],
          [
           "Dubravka",
           "3.9M",
           "Martinez",
           "4.9M",
           15
          ],
          [
           "Gordon",
           "5.9M",
           "Jensen",
           "5.4M",
           15
          ],
          [
           "Virgil",
           "6.1M",
           "Romero",
           "4.7M",
           14
          ],
          [
           "Palmer",
           "5.1M",
           "Gordon",
           "5.7M",
           13
          ],
          [
           "Gordon",
           "5.7M",
           "Kulusevski",
           "7.0M",
           12
          ],
          [
           "Jensen",
           "5.4M",
           "J.Murphy",
           "4.8M",
           12
          ],
          [
           "Archer",
           "4.5M",
           "Broja",
           "4.9M",
           11
          ],
          [
           "Saliba",
           "5.2M",
           "Trippier",
           "6.7M",
           10
          ],
          [
           "J.Murphy",
           "4.8M",
           "Szoboszlai",
           "7.0M",
           10
          ],
          [
           "Salah",
           "12.7M",
           "Son",
           "9.2M",
           10
          ],
          [
           "Martinez",
           "4.9M",
           "Flekken",
           "4.5M",
           9
          ],
          [
           "Broja",
           "4.9M",
           "Morris",
           "5.5M",
           9
          ],
          [
           "Szoboszlai",
           "7.0M",
           "Mbeumo",
           "6.6M",
           9
          ],
          [
           "Andersen",
           "4.8M",
           "Estupiñan",
           "5.1M",
           8
          ],
          [
           "Digne",
           "4.6M",
           "Kaboré",
           "4.0M",
           8
          ],
          [
           "Kulusevski",
           "7.0M",
           "Barnes",
           "6.3M",
           8
          ],
          [
           "Trippier",
           "6.6M",
           "Chilwell",
           "5.5M",
           7
          ],
          [
           "Morris",
           "5.5M",
           "Isak",
           "7.6M",
           7
          ],
          [
           "Barnes",
           "6.4M",
           "Rodrigo",
           "5.7M",
           7
          ],
          [
           "Kaboré",
           "4.0M",
           "Andersen",
           "4.0M",
           7
          ],
          [
           "Rodrigo",
           "5.7M",
           "Eze",
           "6.3M",
           6
          ],
          [
           "Sanchez",
           "4.5M",
           "Verbruggen",
           "4.4M",
           5
          ],
          [
           "Flekken",
           "4.5M",
           "Ramsdale",
           "5.0M",
           5
          ],
          [
           "Verbruggen",
           "4.4M",
           "Areola",
           "4.0M",
           5
          ],
          [
           "Andersen",
           "4.0M",
           "Sergio Gómez",
           "3.9M",
           5
          ],
          [
           "Sergio Gómez",
           "3.9M",
           "Burn",
           "4.5M",
           5
          ],
          [
           "Ramsdale",
           "5.0M",
           "Onana",
           "5.0M",
           5
          ],
          [
           "Son",
           "9.0M",
           "Rashford",
           "8.9M",
           5
          ],
          [
           "Gusto",
           "4.1M",
           "Disasi",
           "5.1M",
           5
          ],
          [
           "Isak",
           "7.7M",
           "Morris",
           "5.5M",
           5
          ],
          [
           "J.Alvarez",
           "6.6M",
           "N.Jackson",
           "7.1M",
           5
          ],
          [
           "Morris",
           "5.5M",
           "João Pedro",
           "5.5M",
           5
          ],
          [
           "Disasi",
           "5.1M",
           "Maguire",
           "4.4M",
           4
          ],
          [
           "N.Jackson",
           "7.0M",
           "Darwin",
           "7.4M",
           3
          ],
          [
           "Romero",
           "4.5M",
           "Gabriel",
           "5.0M",
           3
          ],
          [
           "Chilwell",
           "5.5M",
           "Stones",
           "5.5M",
           2
          ],
          [
           "Mbeumo",
           "6.5M",
           "Richarlison",
           "7.0M",
           2
          ]
         ],
         "hovertemplate": "Manager=%{y}<br>element_in=%{customdata[0]}<br>element_in_cost=%{customdata[1]}<br>element_out=%{customdata[2]}<br>element_out_cost=%{customdata[3]}<extra></extra>",
         "legendgroup": "Dan Pratlett",
         "marker": {
          "color": "#FF97FF",
          "symbol": "circle"
         },
         "mode": "markers",
         "name": "Dan Pratlett",
         "orientation": "v",
         "showlegend": true,
         "type": "scatter",
         "x": [
          "2024-02-01T20:24:50.917608Z",
          "2024-01-31T21:57:20.845303Z",
          "2024-01-28T08:45:09.916509Z",
          "2024-01-28T08:45:09.911220Z",
          "2024-01-12T16:37:16.215221Z",
          "2024-01-12T15:18:50.276007Z",
          "2024-01-10T23:18:22.858306Z",
          "2024-01-10T23:18:22.857924Z",
          "2024-01-08T23:23:37.423977Z",
          "2024-01-08T23:23:37.423555Z",
          "2024-01-05T14:03:21.215821Z",
          "2024-01-05T14:00:20.457645Z",
          "2024-01-05T13:55:10.414128Z",
          "2024-01-01T21:43:05.895162Z",
          "2024-01-01T21:43:05.894852Z",
          "2024-01-01T09:25:33.286719Z",
          "2024-01-01T09:25:05.997087Z",
          "2024-01-01T09:24:12.967204Z",
          "2024-01-01T09:24:12.966948Z",
          "2024-01-01T09:24:12.966651Z",
          "2024-01-01T09:24:12.966407Z",
          "2024-01-01T09:24:12.966157Z",
          "2024-01-01T09:24:12.965856Z",
          "2024-01-01T09:24:12.965404Z",
          "2024-01-01T09:24:12.964811Z",
          "2023-12-30T09:44:02.571036Z",
          "2023-12-27T19:59:37.982317Z",
          "2023-12-26T21:39:30.133202Z",
          "2023-12-23T14:11:40.490797Z",
          "2023-12-17T18:03:51.179337Z",
          "2023-12-17T18:03:51.174406Z",
          "2023-12-11T08:01:39.808681Z",
          "2023-12-09T17:46:28.198160Z",
          "2023-12-06T20:07:25.773598Z",
          "2023-12-04T22:54:51.947434Z",
          "2023-12-02T20:32:02.156808Z",
          "2023-11-25T17:02:46.155516Z",
          "2023-11-12T18:34:13.808011Z",
          "2023-11-06T20:48:24.603799Z",
          "2023-11-04T19:12:57.739292Z",
          "2023-10-28T16:53:07.935851Z",
          "2023-10-21T21:09:13.389867Z",
          "2023-10-21T21:09:13.389389Z",
          "2023-10-21T21:09:13.382014Z",
          "2023-10-19T11:31:17.834387Z",
          "2023-10-08T13:59:42.989500Z",
          "2023-10-08T13:59:42.978361Z",
          "2023-10-05T11:43:25.450317Z",
          "2023-10-02T21:59:57.750187Z",
          "2023-10-01T15:21:58.553876Z",
          "2023-09-28T18:36:44.492492Z",
          "2023-09-24T17:03:07.326692Z",
          "2023-09-23T16:37:17.646346Z",
          "2023-09-23T13:29:04.304600Z",
          "2023-09-19T20:33:01.702273Z",
          "2023-09-14T19:03:16.243652Z",
          "2023-09-14T19:03:16.243151Z",
          "2023-09-14T18:56:10.521828Z",
          "2023-09-03T15:07:00.647022Z",
          "2023-09-03T15:05:38.037778Z",
          "2023-09-03T15:05:38.037391Z",
          "2023-09-03T15:05:38.037158Z",
          "2023-09-03T15:05:38.036863Z",
          "2023-09-03T15:05:38.036620Z",
          "2023-09-03T15:05:38.036315Z",
          "2023-09-03T08:54:55.825359Z",
          "2023-08-26T14:33:44.514232Z",
          "2023-08-24T13:00:09.157482Z",
          "2023-08-21T19:03:05.587987Z",
          "2023-08-13T21:52:11.734724Z",
          "2023-08-13T16:48:51.057611Z"
         ],
         "xaxis": "x",
         "y": [
          "Dan Pratlett",
          "Dan Pratlett",
          "Dan Pratlett",
          "Dan Pratlett",
          "Dan Pratlett",
          "Dan Pratlett",
          "Dan Pratlett",
          "Dan Pratlett",
          "Dan Pratlett",
          "Dan Pratlett",
          "Dan Pratlett",
          "Dan Pratlett",
          "Dan Pratlett",
          "Dan Pratlett",
          "Dan Pratlett",
          "Dan Pratlett",
          "Dan Pratlett",
          "Dan Pratlett",
          "Dan Pratlett",
          "Dan Pratlett",
          "Dan Pratlett",
          "Dan Pratlett",
          "Dan Pratlett",
          "Dan Pratlett",
          "Dan Pratlett",
          "Dan Pratlett",
          "Dan Pratlett",
          "Dan Pratlett",
          "Dan Pratlett",
          "Dan Pratlett",
          "Dan Pratlett",
          "Dan Pratlett",
          "Dan Pratlett",
          "Dan Pratlett",
          "Dan Pratlett",
          "Dan Pratlett",
          "Dan Pratlett",
          "Dan Pratlett",
          "Dan Pratlett",
          "Dan Pratlett",
          "Dan Pratlett",
          "Dan Pratlett",
          "Dan Pratlett",
          "Dan Pratlett",
          "Dan Pratlett",
          "Dan Pratlett",
          "Dan Pratlett",
          "Dan Pratlett",
          "Dan Pratlett",
          "Dan Pratlett",
          "Dan Pratlett",
          "Dan Pratlett",
          "Dan Pratlett",
          "Dan Pratlett",
          "Dan Pratlett",
          "Dan Pratlett",
          "Dan Pratlett",
          "Dan Pratlett",
          "Dan Pratlett",
          "Dan Pratlett",
          "Dan Pratlett",
          "Dan Pratlett",
          "Dan Pratlett",
          "Dan Pratlett",
          "Dan Pratlett",
          "Dan Pratlett",
          "Dan Pratlett",
          "Dan Pratlett",
          "Dan Pratlett",
          "Dan Pratlett",
          "Dan Pratlett"
         ],
         "yaxis": "y"
        },
        {
         "customdata": [
          [
           "Isak",
           "7.6M",
           "Haaland",
           "13.9M",
           22
          ],
          [
           "De Bruyne",
           "10.5M",
           "Bowen",
           "8.1M",
           22
          ],
          [
           "Saka",
           "9.1M",
           "Gordon",
           "6.0M",
           22
          ],
          [
           "Foden",
           "8.0M",
           "Bernardo",
           "6.5M",
           22
          ],
          [
           "Doughty",
           "4.5M",
           "Colwill",
           "4.7M",
           22
          ],
          [
           "Darwin",
           "7.4M",
           "Isak",
           "7.6M",
           22
          ],
          [
           "Toney",
           "8.0M",
           "Wilson",
           "7.8M",
           22
          ],
          [
           "Isak",
           "7.6M",
           "João Pedro",
           "5.4M",
           22
          ],
          [
           "Bernardo",
           "6.5M",
           "Hee Chan",
           "5.6M",
           22
          ],
          [
           "Palmer",
           "5.8M",
           "Salah",
           "12.9M",
           22
          ],
          [
           "Bowen",
           "8.1M",
           "Douglas Luiz",
           "5.6M",
           22
          ],
          [
           "Colwill",
           "4.7M",
           "Udogie",
           "4.7M",
           22
          ],
          [
           "Pedro Porro",
           "5.8M",
           "Trippier",
           "6.7M",
           22
          ],
          [
           "Virgil",
           "6.3M",
           "Cash",
           "4.7M",
           22
          ],
          [
           "Areola",
           "4.2M",
           "Neto",
           "4.5M",
           22
          ],
          [
           "João Pedro",
           "5.4M",
           "Adebayo",
           "4.8M",
           20
          ],
          [
           "Hee Chan",
           "5.7M",
           "Palmer",
           "5.6M",
           19
          ],
          [
           "Wilson",
           "7.8M",
           "Isak",
           "7.5M",
           18
          ],
          [
           "Adebayo",
           "4.8M",
           "J.Alvarez",
           "6.9M",
           18
          ],
          [
           "Palmer",
           "5.6M",
           "Nakamba",
           "4.4M",
           18
          ],
          [
           "Isak",
           "7.5M",
           "Darwin",
           "7.6M",
           15
          ],
          [
           "Gordon",
           "5.9M",
           "Bowen",
           "7.6M",
           14
          ],
          [
           "Trippier",
           "7.0M",
           "Van de Ven",
           "4.6M",
           14
          ],
          [
           "Darwin",
           "7.6M",
           "Wilson",
           "7.8M",
           13
          ],
          [
           "Bowen",
           "7.6M",
           "Maddison",
           "7.8M",
           12
          ],
          [
           "Wilson",
           "7.8M",
           "Isak",
           "7.4M",
           11
          ],
          [
           "Douglas Luiz",
           "5.6M",
           "March",
           "6.2M",
           11
          ],
          [
           "Nakamba",
           "4.4M",
           "Mbeumo",
           "6.7M",
           9
          ],
          [
           "Salah",
           "12.7M",
           "Saka",
           "8.5M",
           9
          ],
          [
           "Van de Ven",
           "4.6M",
           "Robertson",
           "6.6M",
           9
          ],
          [
           "March",
           "6.4M",
           "Eze",
           "6.2M",
           8
          ],
          [
           "Cash",
           "4.9M",
           "Estupiñan",
           "5.1M",
           8
          ],
          [
           "J.Alvarez",
           "6.9M",
           "Wissa",
           "6.0M",
           6
          ],
          [
           "Ward-Prowse",
           "6.2M",
           "B.Fernandes",
           "8.4M",
           6
          ],
          [
           "Mbeumo",
           "6.9M",
           "Martinelli",
           "7.8M",
           6
          ],
          [
           "Andersen",
           "4.6M",
           "Baldock",
           "3.9M",
           6
          ],
          [
           "Robertson",
           "6.6M",
           "Aké",
           "5.0M",
           6
          ],
          [
           "Neto",
           "4.5M",
           "Steele",
           "4.4M",
           6
          ],
          [
           "Isak",
           "7.7M",
           "João Pedro",
           "5.5M",
           4
          ],
          [
           "Maddison",
           "7.7M",
           "Rashford",
           "9.0M",
           4
          ],
          [
           "Udogie",
           "4.6M",
           "Shaw",
           "5.4M",
           4
          ],
          [
           "Saliba",
           "5.1M",
           "Gabriel",
           "5.0M",
           3
          ],
          [
           "Aké",
           "5.0M",
           "Stones",
           "5.4M",
           2
          ]
         ],
         "hovertemplate": "Manager=%{y}<br>element_in=%{customdata[0]}<br>element_in_cost=%{customdata[1]}<br>element_out=%{customdata[2]}<br>element_out_cost=%{customdata[3]}<extra></extra>",
         "legendgroup": "Ben Wilson",
         "marker": {
          "color": "#FECB52",
          "symbol": "circle"
         },
         "mode": "markers",
         "name": "Ben Wilson",
         "orientation": "v",
         "showlegend": true,
         "type": "scatter",
         "x": [
          "2024-01-23T15:56:12.333587Z",
          "2024-01-23T15:56:12.333155Z",
          "2024-01-23T15:56:12.332644Z",
          "2024-01-23T15:56:12.332158Z",
          "2024-01-23T15:56:12.331609Z",
          "2024-01-22T20:18:25.237717Z",
          "2024-01-22T19:59:17.019970Z",
          "2024-01-22T19:59:17.019737Z",
          "2024-01-22T19:59:17.019495Z",
          "2024-01-22T19:59:17.019240Z",
          "2024-01-22T19:59:17.018866Z",
          "2024-01-22T19:59:17.018431Z",
          "2024-01-22T19:59:17.017945Z",
          "2024-01-22T19:59:17.017563Z",
          "2024-01-22T19:59:17.017240Z",
          "2023-12-30T08:38:07.249919Z",
          "2023-12-26T09:23:44.115967Z",
          "2023-12-18T10:38:48.823350Z",
          "2023-12-18T10:38:48.822859Z",
          "2023-12-18T10:38:48.816206Z",
          "2023-12-03T21:38:48.488812Z",
          "2023-11-27T13:53:56.476438Z",
          "2023-11-27T13:53:56.468266Z",
          "2023-11-25T08:36:57.918947Z",
          "2023-11-11T08:01:33.956044Z",
          "2023-11-04T09:18:56.398103Z",
          "2023-11-04T09:18:56.389805Z",
          "2023-10-20T20:17:04.245685Z",
          "2023-10-20T20:17:04.245187Z",
          "2023-10-20T20:17:04.238646Z",
          "2023-10-07T09:28:21.474546Z",
          "2023-10-06T06:48:37.417605Z",
          "2023-09-23T08:36:17.000426Z",
          "2023-09-23T08:36:17.000186Z",
          "2023-09-23T08:36:16.999956Z",
          "2023-09-23T08:36:16.999714Z",
          "2023-09-23T08:36:16.999435Z",
          "2023-09-23T08:36:16.999113Z",
          "2023-08-30T14:15:50.828671Z",
          "2023-08-30T14:15:50.828269Z",
          "2023-08-30T14:15:50.822966Z",
          "2023-08-22T09:39:36.860241Z",
          "2023-08-17T17:14:32.365659Z"
         ],
         "xaxis": "x",
         "y": [
          "Ben Wilson",
          "Ben Wilson",
          "Ben Wilson",
          "Ben Wilson",
          "Ben Wilson",
          "Ben Wilson",
          "Ben Wilson",
          "Ben Wilson",
          "Ben Wilson",
          "Ben Wilson",
          "Ben Wilson",
          "Ben Wilson",
          "Ben Wilson",
          "Ben Wilson",
          "Ben Wilson",
          "Ben Wilson",
          "Ben Wilson",
          "Ben Wilson",
          "Ben Wilson",
          "Ben Wilson",
          "Ben Wilson",
          "Ben Wilson",
          "Ben Wilson",
          "Ben Wilson",
          "Ben Wilson",
          "Ben Wilson",
          "Ben Wilson",
          "Ben Wilson",
          "Ben Wilson",
          "Ben Wilson",
          "Ben Wilson",
          "Ben Wilson",
          "Ben Wilson",
          "Ben Wilson",
          "Ben Wilson",
          "Ben Wilson",
          "Ben Wilson",
          "Ben Wilson",
          "Ben Wilson",
          "Ben Wilson",
          "Ben Wilson",
          "Ben Wilson",
          "Ben Wilson"
         ],
         "yaxis": "y"
        },
        {
         "customdata": [
          [
           "Isak",
           "7.6M",
           "Solanke",
           "6.9M",
           23
          ],
          [
           "Gordon",
           "6.1M",
           "Bernardo",
           "6.4M",
           23
          ],
          [
           "De Bruyne",
           "10.5M",
           "Bailey",
           "5.6M",
           22
          ],
          [
           "Diogo J.",
           "7.7M",
           "Salah",
           "12.9M",
           21
          ],
          [
           "Darwin",
           "7.5M",
           "Semenyo",
           "4.6M",
           21
          ],
          [
           "Branthwaite",
           "4.1M",
           "Trippier",
           "6.8M",
           21
          ],
          [
           "Bernardo",
           "6.4M",
           "Hee Chan",
           "5.7M",
           20
          ],
          [
           "Gusto",
           "4.1M",
           "Digne",
           "4.7M",
           20
          ],
          [
           "Turner",
           "3.9M",
           "Dubravka",
           "4.1M",
           20
          ],
          [
           "Bailey",
           "5.6M",
           "Palmer",
           "5.3M",
           19
          ],
          [
           "Digne",
           "4.7M",
           "Livramento",
           "4.4M",
           19
          ],
          [
           "Livramento",
           "4.4M",
           "Udogie",
           "4.8M",
           18
          ],
          [
           "Solanke",
           "6.8M",
           "J.Alvarez",
           "6.9M",
           18
          ],
          [
           "Udogie",
           "4.8M",
           "Mitchell",
           "4.6M",
           17
          ],
          [
           "Pedro Porro",
           "5.4M",
           "James",
           "5.4M",
           17
          ],
          [
           "Dubravka",
           "4.0M",
           "Turner",
           "4.0M",
           16
          ],
          [
           "Hee Chan",
           "5.7M",
           "Doku",
           "6.7M",
           16
          ],
          [
           "James",
           "5.4M",
           "Cash",
           "4.7M",
           16
          ],
          [
           "Semenyo",
           "4.6M",
           "Darwin",
           "7.5M",
           15
          ],
          [
           "Saka",
           "8.8M",
           "B.Fernandes",
           "8.3M",
           15
          ],
          [
           "Trippier",
           "7.0M",
           "Guéhi",
           "4.6M",
           15
          ],
          [
           "J.Alvarez",
           "7.1M",
           "N.Jackson",
           "6.8M",
           14
          ],
          [
           "Garnacho",
           "4.7M",
           "Martinelli",
           "7.7M",
           14
          ],
          [
           "Alexander-Arnold",
           "7.9M",
           "Tsimikas",
           "4.5M",
           14
          ],
          [
           "N.Jackson",
           "6.8M",
           "Højlund",
           "7.1M",
           13
          ],
          [
           "Højlund",
           "7.1M",
           "Watkins",
           "8.3M",
           12
          ],
          [
           "Doku",
           "6.6M",
           "Diaby",
           "6.7M",
           12
          ],
          [
           "B.Fernandes",
           "8.3M",
           "Bowen",
           "7.4M",
           12
          ],
          [
           "Martinelli",
           "7.7M",
           "Neto",
           "5.8M",
           11
          ],
          [
           "Watkins",
           "8.3M",
           "J.Alvarez",
           "6.8M",
           10
          ],
          [
           "Palmer",
           "5.0M",
           "Ødegaard",
           "8.5M",
           10
          ],
          [
           "Tsimikas",
           "4.4M",
           "Gusto",
           "4.1M",
           9
          ],
          [
           "Bowen",
           "7.3M",
           "Mitoma",
           "6.5M",
           9
          ],
          [
           "Darwin",
           "7.4M",
           "Ferguson",
           "5.9M",
           9
          ],
          [
           "Neto",
           "5.8M",
           "Son",
           "9.3M",
           9
          ],
          [
           "Ødegaard",
           "8.5M",
           "Maddison",
           "8.0M",
           9
          ],
          [
           "Diaby",
           "6.7M",
           "Foden",
           "7.5M",
           9
          ],
          [
           "Mitchell",
           "4.5M",
           "Al-Dakhil",
           "4.0M",
           9
          ],
          [
           "Guéhi",
           "4.5M",
           "Lamptey",
           "3.9M",
           9
          ],
          [
           "Son",
           "9.2M",
           "B.Fernandes",
           "8.4M",
           8
          ],
          [
           "Maddison",
           "7.9M",
           "Saka",
           "8.7M",
           8
          ],
          [
           "Saka",
           "8.7M",
           "Ward-Prowse",
           "6.1M",
           7
          ],
          [
           "Lamptey",
           "3.9M",
           "Chilwell",
           "5.7M",
           7
          ],
          [
           "Ward-Prowse",
           "6.1M",
           "Sarr",
           "4.5M",
           6
          ],
          [
           "Zinchenko",
           "4.9M",
           "Baldock",
           "4.0M",
           6
          ],
          [
           "Ferguson",
           "5.9M",
           "N.Jackson",
           "7.1M",
           5
          ],
          [
           "Areola",
           "4.1M",
           "Steele",
           "4.5M",
           5
          ],
          [
           "N.Jackson",
           "7.1M",
           "João Pedro",
           "5.5M",
           4
          ],
          [
           "Sarr",
           "4.5M",
           "Trossard",
           "6.8M",
           4
          ],
          [
           "Gusto",
           "4.1M",
           "Wan-Bissaka",
           "4.5M",
           4
          ],
          [
           "J.Alvarez",
           "6.5M",
           "Darwin",
           "7.4M",
           3
          ],
          [
           "Wan-Bissaka",
           "4.5M",
           "Maguire",
           "4.4M",
           3
          ],
          [
           "Chilwell",
           "5.7M",
           "R.Lewis",
           "4.5M",
           3
          ],
          [
           "Al-Dakhil",
           "4.0M",
           "J.Timber",
           "5.0M",
           2
          ],
          [
           "R.Lewis",
           "4.5M",
           "Colwill",
           "4.5M",
           2
          ]
         ],
         "hovertemplate": "Manager=%{y}<br>element_in=%{customdata[0]}<br>element_in_cost=%{customdata[1]}<br>element_out=%{customdata[2]}<br>element_out_cost=%{customdata[3]}<extra></extra>",
         "legendgroup": "Ben Anderson",
         "marker": {
          "color": "#636efa",
          "symbol": "circle"
         },
         "mode": "markers",
         "name": "Ben Anderson",
         "orientation": "v",
         "showlegend": true,
         "type": "scatter",
         "x": [
          "2024-02-02T15:21:11.945345Z",
          "2024-02-02T15:21:11.938843Z",
          "2024-01-22T10:17:35.224232Z",
          "2023-12-30T18:16:33.775816Z",
          "2023-12-30T18:14:04.391399Z",
          "2023-12-30T18:14:04.381374Z",
          "2023-12-27T22:02:50.501062Z",
          "2023-12-27T22:02:50.493955Z",
          "2023-12-26T15:00:54.000550Z",
          "2023-12-24T22:43:26.353224Z",
          "2023-12-24T22:43:26.346630Z",
          "2023-12-17T18:44:36.284539Z",
          "2023-12-17T18:43:37.878198Z",
          "2023-12-12T09:06:50.870764Z",
          "2023-12-12T09:06:50.861638Z",
          "2023-12-07T19:20:08.178866Z",
          "2023-12-06T22:19:35.886441Z",
          "2023-12-06T22:19:35.876163Z",
          "2023-12-03T16:52:23.932016Z",
          "2023-12-03T16:52:23.931557Z",
          "2023-12-03T16:52:23.924340Z",
          "2023-11-26T16:51:15.099934Z",
          "2023-11-26T16:49:41.932190Z",
          "2023-11-26T16:49:41.919990Z",
          "2023-11-22T11:51:55.286577Z",
          "2023-11-09T19:53:25.814126Z",
          "2023-11-09T19:53:25.813650Z",
          "2023-11-09T19:53:25.805859Z",
          "2023-10-28T18:52:37.188433Z",
          "2023-10-26T17:18:57.845936Z",
          "2023-10-26T17:18:57.837495Z",
          "2023-10-21T08:59:28.511639Z",
          "2023-10-20T10:40:43.155017Z",
          "2023-10-20T08:22:57.519062Z",
          "2023-10-20T08:22:57.518733Z",
          "2023-10-20T08:22:57.518262Z",
          "2023-10-20T08:22:57.517826Z",
          "2023-10-20T08:22:57.517445Z",
          "2023-10-20T08:22:57.516868Z",
          "2023-09-30T21:23:11.131213Z",
          "2023-09-30T21:23:11.121958Z",
          "2023-09-24T14:55:11.967229Z",
          "2023-09-24T14:55:11.953736Z",
          "2023-09-17T17:30:02.835227Z",
          "2023-09-17T17:30:02.824975Z",
          "2023-09-03T17:57:44.000378Z",
          "2023-09-03T17:57:43.994840Z",
          "2023-08-26T17:52:58.329882Z",
          "2023-08-26T17:52:58.321446Z",
          "2023-08-26T15:35:10.833608Z",
          "2023-08-20T09:45:24.482081Z",
          "2023-08-20T09:45:24.481601Z",
          "2023-08-20T09:45:24.473163Z",
          "2023-08-12T13:12:10.427853Z",
          "2023-08-12T07:17:38.755427Z"
         ],
         "xaxis": "x",
         "y": [
          "Ben Anderson",
          "Ben Anderson",
          "Ben Anderson",
          "Ben Anderson",
          "Ben Anderson",
          "Ben Anderson",
          "Ben Anderson",
          "Ben Anderson",
          "Ben Anderson",
          "Ben Anderson",
          "Ben Anderson",
          "Ben Anderson",
          "Ben Anderson",
          "Ben Anderson",
          "Ben Anderson",
          "Ben Anderson",
          "Ben Anderson",
          "Ben Anderson",
          "Ben Anderson",
          "Ben Anderson",
          "Ben Anderson",
          "Ben Anderson",
          "Ben Anderson",
          "Ben Anderson",
          "Ben Anderson",
          "Ben Anderson",
          "Ben Anderson",
          "Ben Anderson",
          "Ben Anderson",
          "Ben Anderson",
          "Ben Anderson",
          "Ben Anderson",
          "Ben Anderson",
          "Ben Anderson",
          "Ben Anderson",
          "Ben Anderson",
          "Ben Anderson",
          "Ben Anderson",
          "Ben Anderson",
          "Ben Anderson",
          "Ben Anderson",
          "Ben Anderson",
          "Ben Anderson",
          "Ben Anderson",
          "Ben Anderson",
          "Ben Anderson",
          "Ben Anderson",
          "Ben Anderson",
          "Ben Anderson",
          "Ben Anderson",
          "Ben Anderson",
          "Ben Anderson",
          "Ben Anderson",
          "Ben Anderson",
          "Ben Anderson"
         ],
         "yaxis": "y"
        }
       ],
       "layout": {
        "annotations": [
         {
          "showarrow": false,
          "text": "Gameweek 1 Deadline",
          "x": 1691742600000,
          "xanchor": "center",
          "xref": "x",
          "y": 1,
          "yanchor": "bottom",
          "yref": "y domain"
         },
         {
          "showarrow": false,
          "text": "Gameweek 2 Deadline",
          "x": 1692346500000,
          "xanchor": "center",
          "xref": "x",
          "y": 1,
          "yanchor": "bottom",
          "yref": "y domain"
         },
         {
          "showarrow": false,
          "text": "Gameweek 3 Deadline",
          "x": 1692952200000,
          "xanchor": "center",
          "xref": "x",
          "y": 1,
          "yanchor": "bottom",
          "yref": "y domain"
         },
         {
          "showarrow": false,
          "text": "Gameweek 4 Deadline",
          "x": 1693557000000,
          "xanchor": "center",
          "xref": "x",
          "y": 1,
          "yanchor": "bottom",
          "yref": "y domain"
         },
         {
          "showarrow": false,
          "text": "Gameweek 5 Deadline",
          "x": 1694826000000,
          "xanchor": "center",
          "xref": "x",
          "y": 1,
          "yanchor": "bottom",
          "yref": "y domain"
         },
         {
          "showarrow": false,
          "text": "Gameweek 6 Deadline",
          "x": 1695439800000,
          "xanchor": "center",
          "xref": "x",
          "y": 1,
          "yanchor": "bottom",
          "yref": "y domain"
         },
         {
          "showarrow": false,
          "text": "Gameweek 7 Deadline",
          "x": 1696035600000,
          "xanchor": "center",
          "xref": "x",
          "y": 1,
          "yanchor": "bottom",
          "yref": "y domain"
         },
         {
          "showarrow": false,
          "text": "Gameweek 8 Deadline",
          "x": 1696640400000,
          "xanchor": "center",
          "xref": "x",
          "y": 1,
          "yanchor": "bottom",
          "yref": "y domain"
         },
         {
          "showarrow": false,
          "text": "Gameweek 9 Deadline",
          "x": 1697850000000,
          "xanchor": "center",
          "xref": "x",
          "y": 1,
          "yanchor": "bottom",
          "yref": "y domain"
         },
         {
          "showarrow": false,
          "text": "Gameweek 10 Deadline",
          "x": 1698395400000,
          "xanchor": "center",
          "xref": "x",
          "y": 1,
          "yanchor": "bottom",
          "yref": "y domain"
         },
         {
          "showarrow": false,
          "text": "Gameweek 11 Deadline",
          "x": 1699063200000,
          "xanchor": "center",
          "xref": "x",
          "y": 1,
          "yanchor": "bottom",
          "yref": "y domain"
         },
         {
          "showarrow": false,
          "text": "Gameweek 12 Deadline",
          "x": 1699668000000,
          "xanchor": "center",
          "xref": "x",
          "y": 1,
          "yanchor": "bottom",
          "yref": "y domain"
         },
         {
          "showarrow": false,
          "text": "Gameweek 13 Deadline",
          "x": 1700877600000,
          "xanchor": "center",
          "xref": "x",
          "y": 1,
          "yanchor": "bottom",
          "yref": "y domain"
         },
         {
          "showarrow": false,
          "text": "Gameweek 14 Deadline",
          "x": 1701491400000,
          "xanchor": "center",
          "xref": "x",
          "y": 1,
          "yanchor": "bottom",
          "yref": "y domain"
         },
         {
          "showarrow": false,
          "text": "Gameweek 15 Deadline",
          "x": 1701766800000,
          "xanchor": "center",
          "xref": "x",
          "y": 1,
          "yanchor": "bottom",
          "yref": "y domain"
         },
         {
          "showarrow": false,
          "text": "Gameweek 16 Deadline",
          "x": 1702087200000,
          "xanchor": "center",
          "xref": "x",
          "y": 1,
          "yanchor": "bottom",
          "yref": "y domain"
         },
         {
          "showarrow": false,
          "text": "Gameweek 17 Deadline",
          "x": 1702632600000,
          "xanchor": "center",
          "xref": "x",
          "y": 1,
          "yanchor": "bottom",
          "yref": "y domain"
         },
         {
          "showarrow": false,
          "text": "Gameweek 18 Deadline",
          "x": 1703151000000,
          "xanchor": "center",
          "xref": "x",
          "y": 1,
          "yanchor": "bottom",
          "yref": "y domain"
         },
         {
          "showarrow": false,
          "text": "Gameweek 19 Deadline",
          "x": 1703556000000,
          "xanchor": "center",
          "xref": "x",
          "y": 1,
          "yanchor": "bottom",
          "yref": "y domain"
         },
         {
          "showarrow": false,
          "text": "Gameweek 20 Deadline",
          "x": 1703901600000,
          "xanchor": "center",
          "xref": "x",
          "y": 1,
          "yanchor": "bottom",
          "yref": "y domain"
         },
         {
          "showarrow": false,
          "text": "Gameweek 21 Deadline",
          "x": 1705050900000,
          "xanchor": "center",
          "xref": "x",
          "y": 1,
          "yanchor": "bottom",
          "yref": "y domain"
         },
         {
          "showarrow": false,
          "text": "Gameweek 22 Deadline",
          "x": 1706605200000,
          "xanchor": "center",
          "xref": "x",
          "y": 1,
          "yanchor": "bottom",
          "yref": "y domain"
         },
         {
          "showarrow": false,
          "text": "Gameweek 23 Deadline",
          "x": 1706925600000,
          "xanchor": "center",
          "xref": "x",
          "y": 1,
          "yanchor": "bottom",
          "yref": "y domain"
         },
         {
          "showarrow": false,
          "text": "Gameweek 24 Deadline",
          "x": 1707530400000,
          "xanchor": "center",
          "xref": "x",
          "y": 1,
          "yanchor": "bottom",
          "yref": "y domain"
         },
         {
          "showarrow": false,
          "text": "Gameweek 25 Deadline",
          "x": 1708135200000,
          "xanchor": "center",
          "xref": "x",
          "y": 1,
          "yanchor": "bottom",
          "yref": "y domain"
         },
         {
          "showarrow": false,
          "text": "Gameweek 26 Deadline",
          "x": 1708749000000,
          "xanchor": "center",
          "xref": "x",
          "y": 1,
          "yanchor": "bottom",
          "yref": "y domain"
         },
         {
          "showarrow": false,
          "text": "Gameweek 27 Deadline",
          "x": 1709353800000,
          "xanchor": "center",
          "xref": "x",
          "y": 1,
          "yanchor": "bottom",
          "yref": "y domain"
         },
         {
          "showarrow": false,
          "text": "Gameweek 28 Deadline",
          "x": 1709958600000,
          "xanchor": "center",
          "xref": "x",
          "y": 1,
          "yanchor": "bottom",
          "yref": "y domain"
         },
         {
          "showarrow": false,
          "text": "Gameweek 29 Deadline",
          "x": 1710563400000,
          "xanchor": "center",
          "xref": "x",
          "y": 1,
          "yanchor": "bottom",
          "yref": "y domain"
         },
         {
          "showarrow": false,
          "text": "Gameweek 30 Deadline",
          "x": 1711773000000,
          "xanchor": "center",
          "xref": "x",
          "y": 1,
          "yanchor": "bottom",
          "yref": "y domain"
         },
         {
          "showarrow": false,
          "text": "Gameweek 31 Deadline",
          "x": 1712045700000,
          "xanchor": "center",
          "xref": "x",
          "y": 1,
          "yanchor": "bottom",
          "yref": "y domain"
         },
         {
          "showarrow": false,
          "text": "Gameweek 32 Deadline",
          "x": 1712374200000,
          "xanchor": "center",
          "xref": "x",
          "y": 1,
          "yanchor": "bottom",
          "yref": "y domain"
         },
         {
          "showarrow": false,
          "text": "Gameweek 33 Deadline",
          "x": 1712979000000,
          "xanchor": "center",
          "xref": "x",
          "y": 1,
          "yanchor": "bottom",
          "yref": "y domain"
         },
         {
          "showarrow": false,
          "text": "Gameweek 34 Deadline",
          "x": 1713583800000,
          "xanchor": "center",
          "xref": "x",
          "y": 1,
          "yanchor": "bottom",
          "yref": "y domain"
         },
         {
          "showarrow": false,
          "text": "Gameweek 35 Deadline",
          "x": 1714188600000,
          "xanchor": "center",
          "xref": "x",
          "y": 1,
          "yanchor": "bottom",
          "yref": "y domain"
         },
         {
          "showarrow": false,
          "text": "Gameweek 36 Deadline",
          "x": 1714793400000,
          "xanchor": "center",
          "xref": "x",
          "y": 1,
          "yanchor": "bottom",
          "yref": "y domain"
         },
         {
          "showarrow": false,
          "text": "Gameweek 37 Deadline",
          "x": 1715398200000,
          "xanchor": "center",
          "xref": "x",
          "y": 1,
          "yanchor": "bottom",
          "yref": "y domain"
         },
         {
          "showarrow": false,
          "text": "Gameweek 38 Deadline",
          "x": 1716093000000,
          "xanchor": "center",
          "xref": "x",
          "y": 1,
          "yanchor": "bottom",
          "yref": "y domain"
         }
        ],
        "hovermode": "x unified",
        "legend": {
         "title": {
          "text": "Manager"
         },
         "tracegroupgap": 0
        },
        "margin": {
         "t": 60
        },
        "shapes": [
         {
          "line": {
           "color": "red",
           "dash": "dash",
           "width": 1
          },
          "type": "line",
          "x0": 1691742600000,
          "x1": 1691742600000,
          "xref": "x",
          "y0": 0,
          "y1": 1,
          "yref": "y domain"
         },
         {
          "line": {
           "color": "red",
           "dash": "dash",
           "width": 1
          },
          "type": "line",
          "x0": 1692346500000,
          "x1": 1692346500000,
          "xref": "x",
          "y0": 0,
          "y1": 1,
          "yref": "y domain"
         },
         {
          "line": {
           "color": "red",
           "dash": "dash",
           "width": 1
          },
          "type": "line",
          "x0": 1692952200000,
          "x1": 1692952200000,
          "xref": "x",
          "y0": 0,
          "y1": 1,
          "yref": "y domain"
         },
         {
          "line": {
           "color": "red",
           "dash": "dash",
           "width": 1
          },
          "type": "line",
          "x0": 1693557000000,
          "x1": 1693557000000,
          "xref": "x",
          "y0": 0,
          "y1": 1,
          "yref": "y domain"
         },
         {
          "line": {
           "color": "red",
           "dash": "dash",
           "width": 1
          },
          "type": "line",
          "x0": 1694826000000,
          "x1": 1694826000000,
          "xref": "x",
          "y0": 0,
          "y1": 1,
          "yref": "y domain"
         },
         {
          "line": {
           "color": "red",
           "dash": "dash",
           "width": 1
          },
          "type": "line",
          "x0": 1695439800000,
          "x1": 1695439800000,
          "xref": "x",
          "y0": 0,
          "y1": 1,
          "yref": "y domain"
         },
         {
          "line": {
           "color": "red",
           "dash": "dash",
           "width": 1
          },
          "type": "line",
          "x0": 1696035600000,
          "x1": 1696035600000,
          "xref": "x",
          "y0": 0,
          "y1": 1,
          "yref": "y domain"
         },
         {
          "line": {
           "color": "red",
           "dash": "dash",
           "width": 1
          },
          "type": "line",
          "x0": 1696640400000,
          "x1": 1696640400000,
          "xref": "x",
          "y0": 0,
          "y1": 1,
          "yref": "y domain"
         },
         {
          "line": {
           "color": "red",
           "dash": "dash",
           "width": 1
          },
          "type": "line",
          "x0": 1697850000000,
          "x1": 1697850000000,
          "xref": "x",
          "y0": 0,
          "y1": 1,
          "yref": "y domain"
         },
         {
          "line": {
           "color": "red",
           "dash": "dash",
           "width": 1
          },
          "type": "line",
          "x0": 1698395400000,
          "x1": 1698395400000,
          "xref": "x",
          "y0": 0,
          "y1": 1,
          "yref": "y domain"
         },
         {
          "line": {
           "color": "red",
           "dash": "dash",
           "width": 1
          },
          "type": "line",
          "x0": 1699063200000,
          "x1": 1699063200000,
          "xref": "x",
          "y0": 0,
          "y1": 1,
          "yref": "y domain"
         },
         {
          "line": {
           "color": "red",
           "dash": "dash",
           "width": 1
          },
          "type": "line",
          "x0": 1699668000000,
          "x1": 1699668000000,
          "xref": "x",
          "y0": 0,
          "y1": 1,
          "yref": "y domain"
         },
         {
          "line": {
           "color": "red",
           "dash": "dash",
           "width": 1
          },
          "type": "line",
          "x0": 1700877600000,
          "x1": 1700877600000,
          "xref": "x",
          "y0": 0,
          "y1": 1,
          "yref": "y domain"
         },
         {
          "line": {
           "color": "red",
           "dash": "dash",
           "width": 1
          },
          "type": "line",
          "x0": 1701491400000,
          "x1": 1701491400000,
          "xref": "x",
          "y0": 0,
          "y1": 1,
          "yref": "y domain"
         },
         {
          "line": {
           "color": "red",
           "dash": "dash",
           "width": 1
          },
          "type": "line",
          "x0": 1701766800000,
          "x1": 1701766800000,
          "xref": "x",
          "y0": 0,
          "y1": 1,
          "yref": "y domain"
         },
         {
          "line": {
           "color": "red",
           "dash": "dash",
           "width": 1
          },
          "type": "line",
          "x0": 1702087200000,
          "x1": 1702087200000,
          "xref": "x",
          "y0": 0,
          "y1": 1,
          "yref": "y domain"
         },
         {
          "line": {
           "color": "red",
           "dash": "dash",
           "width": 1
          },
          "type": "line",
          "x0": 1702632600000,
          "x1": 1702632600000,
          "xref": "x",
          "y0": 0,
          "y1": 1,
          "yref": "y domain"
         },
         {
          "line": {
           "color": "red",
           "dash": "dash",
           "width": 1
          },
          "type": "line",
          "x0": 1703151000000,
          "x1": 1703151000000,
          "xref": "x",
          "y0": 0,
          "y1": 1,
          "yref": "y domain"
         },
         {
          "line": {
           "color": "red",
           "dash": "dash",
           "width": 1
          },
          "type": "line",
          "x0": 1703556000000,
          "x1": 1703556000000,
          "xref": "x",
          "y0": 0,
          "y1": 1,
          "yref": "y domain"
         },
         {
          "line": {
           "color": "red",
           "dash": "dash",
           "width": 1
          },
          "type": "line",
          "x0": 1703901600000,
          "x1": 1703901600000,
          "xref": "x",
          "y0": 0,
          "y1": 1,
          "yref": "y domain"
         },
         {
          "line": {
           "color": "red",
           "dash": "dash",
           "width": 1
          },
          "type": "line",
          "x0": 1705050900000,
          "x1": 1705050900000,
          "xref": "x",
          "y0": 0,
          "y1": 1,
          "yref": "y domain"
         },
         {
          "line": {
           "color": "red",
           "dash": "dash",
           "width": 1
          },
          "type": "line",
          "x0": 1706605200000,
          "x1": 1706605200000,
          "xref": "x",
          "y0": 0,
          "y1": 1,
          "yref": "y domain"
         },
         {
          "line": {
           "color": "red",
           "dash": "dash",
           "width": 1
          },
          "type": "line",
          "x0": 1706925600000,
          "x1": 1706925600000,
          "xref": "x",
          "y0": 0,
          "y1": 1,
          "yref": "y domain"
         },
         {
          "line": {
           "color": "red",
           "dash": "dash",
           "width": 1
          },
          "type": "line",
          "x0": 1707530400000,
          "x1": 1707530400000,
          "xref": "x",
          "y0": 0,
          "y1": 1,
          "yref": "y domain"
         },
         {
          "line": {
           "color": "red",
           "dash": "dash",
           "width": 1
          },
          "type": "line",
          "x0": 1708135200000,
          "x1": 1708135200000,
          "xref": "x",
          "y0": 0,
          "y1": 1,
          "yref": "y domain"
         },
         {
          "line": {
           "color": "red",
           "dash": "dash",
           "width": 1
          },
          "type": "line",
          "x0": 1708749000000,
          "x1": 1708749000000,
          "xref": "x",
          "y0": 0,
          "y1": 1,
          "yref": "y domain"
         },
         {
          "line": {
           "color": "red",
           "dash": "dash",
           "width": 1
          },
          "type": "line",
          "x0": 1709353800000,
          "x1": 1709353800000,
          "xref": "x",
          "y0": 0,
          "y1": 1,
          "yref": "y domain"
         },
         {
          "line": {
           "color": "red",
           "dash": "dash",
           "width": 1
          },
          "type": "line",
          "x0": 1709958600000,
          "x1": 1709958600000,
          "xref": "x",
          "y0": 0,
          "y1": 1,
          "yref": "y domain"
         },
         {
          "line": {
           "color": "red",
           "dash": "dash",
           "width": 1
          },
          "type": "line",
          "x0": 1710563400000,
          "x1": 1710563400000,
          "xref": "x",
          "y0": 0,
          "y1": 1,
          "yref": "y domain"
         },
         {
          "line": {
           "color": "red",
           "dash": "dash",
           "width": 1
          },
          "type": "line",
          "x0": 1711773000000,
          "x1": 1711773000000,
          "xref": "x",
          "y0": 0,
          "y1": 1,
          "yref": "y domain"
         },
         {
          "line": {
           "color": "red",
           "dash": "dash",
           "width": 1
          },
          "type": "line",
          "x0": 1712045700000,
          "x1": 1712045700000,
          "xref": "x",
          "y0": 0,
          "y1": 1,
          "yref": "y domain"
         },
         {
          "line": {
           "color": "red",
           "dash": "dash",
           "width": 1
          },
          "type": "line",
          "x0": 1712374200000,
          "x1": 1712374200000,
          "xref": "x",
          "y0": 0,
          "y1": 1,
          "yref": "y domain"
         },
         {
          "line": {
           "color": "red",
           "dash": "dash",
           "width": 1
          },
          "type": "line",
          "x0": 1712979000000,
          "x1": 1712979000000,
          "xref": "x",
          "y0": 0,
          "y1": 1,
          "yref": "y domain"
         },
         {
          "line": {
           "color": "red",
           "dash": "dash",
           "width": 1
          },
          "type": "line",
          "x0": 1713583800000,
          "x1": 1713583800000,
          "xref": "x",
          "y0": 0,
          "y1": 1,
          "yref": "y domain"
         },
         {
          "line": {
           "color": "red",
           "dash": "dash",
           "width": 1
          },
          "type": "line",
          "x0": 1714188600000,
          "x1": 1714188600000,
          "xref": "x",
          "y0": 0,
          "y1": 1,
          "yref": "y domain"
         },
         {
          "line": {
           "color": "red",
           "dash": "dash",
           "width": 1
          },
          "type": "line",
          "x0": 1714793400000,
          "x1": 1714793400000,
          "xref": "x",
          "y0": 0,
          "y1": 1,
          "yref": "y domain"
         },
         {
          "line": {
           "color": "red",
           "dash": "dash",
           "width": 1
          },
          "type": "line",
          "x0": 1715398200000,
          "x1": 1715398200000,
          "xref": "x",
          "y0": 0,
          "y1": 1,
          "yref": "y domain"
         },
         {
          "line": {
           "color": "red",
           "dash": "dash",
           "width": 1
          },
          "type": "line",
          "x0": 1716093000000,
          "x1": 1716093000000,
          "xref": "x",
          "y0": 0,
          "y1": 1,
          "yref": "y domain"
         }
        ],
        "showlegend": true,
        "template": {
         "data": {
          "bar": [
           {
            "error_x": {
             "color": "#2a3f5f"
            },
            "error_y": {
             "color": "#2a3f5f"
            },
            "marker": {
             "line": {
              "color": "#E5ECF6",
              "width": 0.5
             },
             "pattern": {
              "fillmode": "overlay",
              "size": 10,
              "solidity": 0.2
             }
            },
            "type": "bar"
           }
          ],
          "barpolar": [
           {
            "marker": {
             "line": {
              "color": "#E5ECF6",
              "width": 0.5
             },
             "pattern": {
              "fillmode": "overlay",
              "size": 10,
              "solidity": 0.2
             }
            },
            "type": "barpolar"
           }
          ],
          "carpet": [
           {
            "aaxis": {
             "endlinecolor": "#2a3f5f",
             "gridcolor": "white",
             "linecolor": "white",
             "minorgridcolor": "white",
             "startlinecolor": "#2a3f5f"
            },
            "baxis": {
             "endlinecolor": "#2a3f5f",
             "gridcolor": "white",
             "linecolor": "white",
             "minorgridcolor": "white",
             "startlinecolor": "#2a3f5f"
            },
            "type": "carpet"
           }
          ],
          "choropleth": [
           {
            "colorbar": {
             "outlinewidth": 0,
             "ticks": ""
            },
            "type": "choropleth"
           }
          ],
          "contour": [
           {
            "colorbar": {
             "outlinewidth": 0,
             "ticks": ""
            },
            "colorscale": [
             [
              0,
              "#0d0887"
             ],
             [
              0.1111111111111111,
              "#46039f"
             ],
             [
              0.2222222222222222,
              "#7201a8"
             ],
             [
              0.3333333333333333,
              "#9c179e"
             ],
             [
              0.4444444444444444,
              "#bd3786"
             ],
             [
              0.5555555555555556,
              "#d8576b"
             ],
             [
              0.6666666666666666,
              "#ed7953"
             ],
             [
              0.7777777777777778,
              "#fb9f3a"
             ],
             [
              0.8888888888888888,
              "#fdca26"
             ],
             [
              1,
              "#f0f921"
             ]
            ],
            "type": "contour"
           }
          ],
          "contourcarpet": [
           {
            "colorbar": {
             "outlinewidth": 0,
             "ticks": ""
            },
            "type": "contourcarpet"
           }
          ],
          "heatmap": [
           {
            "colorbar": {
             "outlinewidth": 0,
             "ticks": ""
            },
            "colorscale": [
             [
              0,
              "#0d0887"
             ],
             [
              0.1111111111111111,
              "#46039f"
             ],
             [
              0.2222222222222222,
              "#7201a8"
             ],
             [
              0.3333333333333333,
              "#9c179e"
             ],
             [
              0.4444444444444444,
              "#bd3786"
             ],
             [
              0.5555555555555556,
              "#d8576b"
             ],
             [
              0.6666666666666666,
              "#ed7953"
             ],
             [
              0.7777777777777778,
              "#fb9f3a"
             ],
             [
              0.8888888888888888,
              "#fdca26"
             ],
             [
              1,
              "#f0f921"
             ]
            ],
            "type": "heatmap"
           }
          ],
          "heatmapgl": [
           {
            "colorbar": {
             "outlinewidth": 0,
             "ticks": ""
            },
            "colorscale": [
             [
              0,
              "#0d0887"
             ],
             [
              0.1111111111111111,
              "#46039f"
             ],
             [
              0.2222222222222222,
              "#7201a8"
             ],
             [
              0.3333333333333333,
              "#9c179e"
             ],
             [
              0.4444444444444444,
              "#bd3786"
             ],
             [
              0.5555555555555556,
              "#d8576b"
             ],
             [
              0.6666666666666666,
              "#ed7953"
             ],
             [
              0.7777777777777778,
              "#fb9f3a"
             ],
             [
              0.8888888888888888,
              "#fdca26"
             ],
             [
              1,
              "#f0f921"
             ]
            ],
            "type": "heatmapgl"
           }
          ],
          "histogram": [
           {
            "marker": {
             "pattern": {
              "fillmode": "overlay",
              "size": 10,
              "solidity": 0.2
             }
            },
            "type": "histogram"
           }
          ],
          "histogram2d": [
           {
            "colorbar": {
             "outlinewidth": 0,
             "ticks": ""
            },
            "colorscale": [
             [
              0,
              "#0d0887"
             ],
             [
              0.1111111111111111,
              "#46039f"
             ],
             [
              0.2222222222222222,
              "#7201a8"
             ],
             [
              0.3333333333333333,
              "#9c179e"
             ],
             [
              0.4444444444444444,
              "#bd3786"
             ],
             [
              0.5555555555555556,
              "#d8576b"
             ],
             [
              0.6666666666666666,
              "#ed7953"
             ],
             [
              0.7777777777777778,
              "#fb9f3a"
             ],
             [
              0.8888888888888888,
              "#fdca26"
             ],
             [
              1,
              "#f0f921"
             ]
            ],
            "type": "histogram2d"
           }
          ],
          "histogram2dcontour": [
           {
            "colorbar": {
             "outlinewidth": 0,
             "ticks": ""
            },
            "colorscale": [
             [
              0,
              "#0d0887"
             ],
             [
              0.1111111111111111,
              "#46039f"
             ],
             [
              0.2222222222222222,
              "#7201a8"
             ],
             [
              0.3333333333333333,
              "#9c179e"
             ],
             [
              0.4444444444444444,
              "#bd3786"
             ],
             [
              0.5555555555555556,
              "#d8576b"
             ],
             [
              0.6666666666666666,
              "#ed7953"
             ],
             [
              0.7777777777777778,
              "#fb9f3a"
             ],
             [
              0.8888888888888888,
              "#fdca26"
             ],
             [
              1,
              "#f0f921"
             ]
            ],
            "type": "histogram2dcontour"
           }
          ],
          "mesh3d": [
           {
            "colorbar": {
             "outlinewidth": 0,
             "ticks": ""
            },
            "type": "mesh3d"
           }
          ],
          "parcoords": [
           {
            "line": {
             "colorbar": {
              "outlinewidth": 0,
              "ticks": ""
             }
            },
            "type": "parcoords"
           }
          ],
          "pie": [
           {
            "automargin": true,
            "type": "pie"
           }
          ],
          "scatter": [
           {
            "fillpattern": {
             "fillmode": "overlay",
             "size": 10,
             "solidity": 0.2
            },
            "type": "scatter"
           }
          ],
          "scatter3d": [
           {
            "line": {
             "colorbar": {
              "outlinewidth": 0,
              "ticks": ""
             }
            },
            "marker": {
             "colorbar": {
              "outlinewidth": 0,
              "ticks": ""
             }
            },
            "type": "scatter3d"
           }
          ],
          "scattercarpet": [
           {
            "marker": {
             "colorbar": {
              "outlinewidth": 0,
              "ticks": ""
             }
            },
            "type": "scattercarpet"
           }
          ],
          "scattergeo": [
           {
            "marker": {
             "colorbar": {
              "outlinewidth": 0,
              "ticks": ""
             }
            },
            "type": "scattergeo"
           }
          ],
          "scattergl": [
           {
            "marker": {
             "colorbar": {
              "outlinewidth": 0,
              "ticks": ""
             }
            },
            "type": "scattergl"
           }
          ],
          "scattermapbox": [
           {
            "marker": {
             "colorbar": {
              "outlinewidth": 0,
              "ticks": ""
             }
            },
            "type": "scattermapbox"
           }
          ],
          "scatterpolar": [
           {
            "marker": {
             "colorbar": {
              "outlinewidth": 0,
              "ticks": ""
             }
            },
            "type": "scatterpolar"
           }
          ],
          "scatterpolargl": [
           {
            "marker": {
             "colorbar": {
              "outlinewidth": 0,
              "ticks": ""
             }
            },
            "type": "scatterpolargl"
           }
          ],
          "scatterternary": [
           {
            "marker": {
             "colorbar": {
              "outlinewidth": 0,
              "ticks": ""
             }
            },
            "type": "scatterternary"
           }
          ],
          "surface": [
           {
            "colorbar": {
             "outlinewidth": 0,
             "ticks": ""
            },
            "colorscale": [
             [
              0,
              "#0d0887"
             ],
             [
              0.1111111111111111,
              "#46039f"
             ],
             [
              0.2222222222222222,
              "#7201a8"
             ],
             [
              0.3333333333333333,
              "#9c179e"
             ],
             [
              0.4444444444444444,
              "#bd3786"
             ],
             [
              0.5555555555555556,
              "#d8576b"
             ],
             [
              0.6666666666666666,
              "#ed7953"
             ],
             [
              0.7777777777777778,
              "#fb9f3a"
             ],
             [
              0.8888888888888888,
              "#fdca26"
             ],
             [
              1,
              "#f0f921"
             ]
            ],
            "type": "surface"
           }
          ],
          "table": [
           {
            "cells": {
             "fill": {
              "color": "#EBF0F8"
             },
             "line": {
              "color": "white"
             }
            },
            "header": {
             "fill": {
              "color": "#C8D4E3"
             },
             "line": {
              "color": "white"
             }
            },
            "type": "table"
           }
          ]
         },
         "layout": {
          "annotationdefaults": {
           "arrowcolor": "#2a3f5f",
           "arrowhead": 0,
           "arrowwidth": 1
          },
          "autotypenumbers": "strict",
          "coloraxis": {
           "colorbar": {
            "outlinewidth": 0,
            "ticks": ""
           }
          },
          "colorscale": {
           "diverging": [
            [
             0,
             "#8e0152"
            ],
            [
             0.1,
             "#c51b7d"
            ],
            [
             0.2,
             "#de77ae"
            ],
            [
             0.3,
             "#f1b6da"
            ],
            [
             0.4,
             "#fde0ef"
            ],
            [
             0.5,
             "#f7f7f7"
            ],
            [
             0.6,
             "#e6f5d0"
            ],
            [
             0.7,
             "#b8e186"
            ],
            [
             0.8,
             "#7fbc41"
            ],
            [
             0.9,
             "#4d9221"
            ],
            [
             1,
             "#276419"
            ]
           ],
           "sequential": [
            [
             0,
             "#0d0887"
            ],
            [
             0.1111111111111111,
             "#46039f"
            ],
            [
             0.2222222222222222,
             "#7201a8"
            ],
            [
             0.3333333333333333,
             "#9c179e"
            ],
            [
             0.4444444444444444,
             "#bd3786"
            ],
            [
             0.5555555555555556,
             "#d8576b"
            ],
            [
             0.6666666666666666,
             "#ed7953"
            ],
            [
             0.7777777777777778,
             "#fb9f3a"
            ],
            [
             0.8888888888888888,
             "#fdca26"
            ],
            [
             1,
             "#f0f921"
            ]
           ],
           "sequentialminus": [
            [
             0,
             "#0d0887"
            ],
            [
             0.1111111111111111,
             "#46039f"
            ],
            [
             0.2222222222222222,
             "#7201a8"
            ],
            [
             0.3333333333333333,
             "#9c179e"
            ],
            [
             0.4444444444444444,
             "#bd3786"
            ],
            [
             0.5555555555555556,
             "#d8576b"
            ],
            [
             0.6666666666666666,
             "#ed7953"
            ],
            [
             0.7777777777777778,
             "#fb9f3a"
            ],
            [
             0.8888888888888888,
             "#fdca26"
            ],
            [
             1,
             "#f0f921"
            ]
           ]
          },
          "colorway": [
           "#636efa",
           "#EF553B",
           "#00cc96",
           "#ab63fa",
           "#FFA15A",
           "#19d3f3",
           "#FF6692",
           "#B6E880",
           "#FF97FF",
           "#FECB52"
          ],
          "font": {
           "color": "#2a3f5f"
          },
          "geo": {
           "bgcolor": "white",
           "lakecolor": "white",
           "landcolor": "#E5ECF6",
           "showlakes": true,
           "showland": true,
           "subunitcolor": "white"
          },
          "hoverlabel": {
           "align": "left"
          },
          "hovermode": "closest",
          "mapbox": {
           "style": "light"
          },
          "paper_bgcolor": "white",
          "plot_bgcolor": "#E5ECF6",
          "polar": {
           "angularaxis": {
            "gridcolor": "white",
            "linecolor": "white",
            "ticks": ""
           },
           "bgcolor": "#E5ECF6",
           "radialaxis": {
            "gridcolor": "white",
            "linecolor": "white",
            "ticks": ""
           }
          },
          "scene": {
           "xaxis": {
            "backgroundcolor": "#E5ECF6",
            "gridcolor": "white",
            "gridwidth": 2,
            "linecolor": "white",
            "showbackground": true,
            "ticks": "",
            "zerolinecolor": "white"
           },
           "yaxis": {
            "backgroundcolor": "#E5ECF6",
            "gridcolor": "white",
            "gridwidth": 2,
            "linecolor": "white",
            "showbackground": true,
            "ticks": "",
            "zerolinecolor": "white"
           },
           "zaxis": {
            "backgroundcolor": "#E5ECF6",
            "gridcolor": "white",
            "gridwidth": 2,
            "linecolor": "white",
            "showbackground": true,
            "ticks": "",
            "zerolinecolor": "white"
           }
          },
          "shapedefaults": {
           "line": {
            "color": "#2a3f5f"
           }
          },
          "ternary": {
           "aaxis": {
            "gridcolor": "white",
            "linecolor": "white",
            "ticks": ""
           },
           "baxis": {
            "gridcolor": "white",
            "linecolor": "white",
            "ticks": ""
           },
           "bgcolor": "#E5ECF6",
           "caxis": {
            "gridcolor": "white",
            "linecolor": "white",
            "ticks": ""
           }
          },
          "title": {
           "x": 0.05
          },
          "xaxis": {
           "automargin": true,
           "gridcolor": "white",
           "linecolor": "white",
           "ticks": "",
           "title": {
            "standoff": 15
           },
           "zerolinecolor": "white",
           "zerolinewidth": 2
          },
          "yaxis": {
           "automargin": true,
           "gridcolor": "white",
           "linecolor": "white",
           "ticks": "",
           "title": {
            "standoff": 15
           },
           "zerolinecolor": "white",
           "zerolinewidth": 2
          }
         }
        },
        "xaxis": {
         "anchor": "y",
         "domain": [
          0,
          1
         ],
         "range": [
          "2024-01-29",
          "2024-02-05"
         ],
         "rangeslider": {
          "visible": true
         },
         "title": {
          "text": "time"
         }
        },
        "yaxis": {
         "anchor": "x",
         "categoryarray": [
          "Ben Anderson",
          "Ben Wilson",
          "Dan Pratlett",
          "Mason Gardener",
          "Jacob Pickles",
          "Richard Collins",
          "Joseph Parsons",
          "Ben Melhuish",
          "Seb Winn",
          "Alex Winn",
          "James Parfitt"
         ],
         "categoryorder": "array",
         "domain": [
          0,
          1
         ],
         "title": {
          "text": "Manager"
         },
         "type": "category"
        }
       }
      }
     },
     "metadata": {},
     "output_type": "display_data"
    }
   ],
   "source": [
    "fig = (\n",
    "    px.scatter(\n",
    "        all_managers_transfers_df,\n",
    "        x=\"time\",\n",
    "        y=\"Manager\",\n",
    "        color=\"Manager\",\n",
    "        hover_name=None,\n",
    "        hover_data={\n",
    "            \"Manager\": True,\n",
    "            \"time\": False,\n",
    "            \"element_in\": True,\n",
    "            \"element_in_cost\": True,\n",
    "            \"element_out\": True,\n",
    "            \"element_out_cost\": True,\n",
    "            \"event\": False,\n",
    "        },\n",
    "    )\n",
    "    .update_xaxes(rangeslider_visible=True, range=[\"2024-01-29\", \"2024-02-05\"])\n",
    "    .update_layout(showlegend=True, yaxis_type=\"category\", hovermode=\"x unified\")\n",
    ")\n",
    "for gw in range(1, 39):\n",
    "    fig.add_vline(\n",
    "        x=datetime.datetime.strptime(\n",
    "            bootstrap_static_df.loc[gw - 1, \"deadline_time\"], \"%Y-%m-%dT%H:%M:%SZ\" # type: ignore\n",
    "        ).timestamp()\n",
    "        * 1000,\n",
    "        line_width=1,\n",
    "        line_dash=\"dash\",\n",
    "        line_color=\"red\",\n",
    "        annotation_text=f\"Gameweek {gw} Deadline\",\n",
    "        annotation_position=\"top\",\n",
    "    )\n",
    "fig.show()"
   ]
  },
  {
   "cell_type": "code",
   "execution_count": null,
   "metadata": {},
   "outputs": [],
   "source": []
  }
 ],
 "metadata": {
  "kernelspec": {
   "display_name": "fpl-dashboard-deploy-env",
   "language": "python",
   "name": "python3"
  },
  "language_info": {
   "codemirror_mode": {
    "name": "ipython",
    "version": 3
   },
   "file_extension": ".py",
   "mimetype": "text/x-python",
   "name": "python",
   "nbconvert_exporter": "python",
   "pygments_lexer": "ipython3",
   "version": "3.11.5"
  }
 },
 "nbformat": 4,
 "nbformat_minor": 2
}
