{
 "cells": [
  {
   "cell_type": "markdown",
   "metadata": {},
   "source": [
    "# Imports"
   ]
  },
  {
   "cell_type": "code",
   "execution_count": 1,
   "metadata": {},
   "outputs": [
    {
     "name": "stderr",
     "output_type": "stream",
     "text": [
      "/Users/richardcollins/miniconda3/envs/fpl-f-o-env/lib/python3.11/site-packages/tqdm/auto.py:21: TqdmWarning: IProgress not found. Please update jupyter and ipywidgets. See https://ipywidgets.readthedocs.io/en/stable/user_install.html\n",
      "  from .autonotebook import tqdm as notebook_tqdm\n"
     ]
    }
   ],
   "source": [
    "from autogluon.tabular import TabularDataset, TabularPredictor\n",
    "import os\n",
    "import numpy as np\n",
    "import pandas as pd"
   ]
  },
  {
   "cell_type": "markdown",
   "metadata": {},
   "source": [
    "# Open data, edit, merge, and split"
   ]
  },
  {
   "cell_type": "code",
   "execution_count": 2,
   "metadata": {},
   "outputs": [],
   "source": [
    "cwd = os.getcwd()\n",
    "red_data_dir = cwd + \"/../data/external/wine_quality/winequality-red.csv\"\n",
    "white_data_dir = cwd + \"/../data/external/wine_quality/winequality-white.csv\"\n",
    "\n",
    "### Open\n",
    "red_df = pd.read_csv(red_data_dir, sep=\";\")\n",
    "white_df = pd.read_csv(white_data_dir, sep=\";\")\n",
    "\n",
    "### Add red and white ID columns\n",
    "red_df.insert(0, \"colour\", \"red\")\n",
    "white_df.insert(0, \"colour\", \"white\")\n",
    "\n",
    "### Merge\n",
    "wine_df = pd.concat([red_df, white_df])\n",
    "\n",
    "### Split\n",
    "mask = np.random.rand(len(wine_df)) < 0.8\n",
    "train_df = wine_df[mask]\n",
    "test_df = wine_df[~mask]"
   ]
  },
  {
   "cell_type": "markdown",
   "metadata": {},
   "source": [
    "# Create Tabular object"
   ]
  },
  {
   "cell_type": "code",
   "execution_count": 3,
   "metadata": {},
   "outputs": [
    {
     "data": {
      "text/plain": [
       "count    5212.000000\n",
       "mean        5.806408\n",
       "std         0.863742\n",
       "min         3.000000\n",
       "25%         5.000000\n",
       "50%         6.000000\n",
       "75%         6.000000\n",
       "max         9.000000\n",
       "Name: quality, dtype: float64"
      ]
     },
     "execution_count": 3,
     "metadata": {},
     "output_type": "execute_result"
    }
   ],
   "source": [
    "train_data = TabularDataset(train_df)\n",
    "label = \"quality\"\n",
    "train_data[label].describe()"
   ]
  },
  {
   "cell_type": "markdown",
   "metadata": {},
   "source": [
    "# Training"
   ]
  },
  {
   "cell_type": "code",
   "execution_count": 4,
   "metadata": {},
   "outputs": [
    {
     "name": "stderr",
     "output_type": "stream",
     "text": [
      "No path specified. Models will be saved in: \"AutogluonModels/ag-20231206_091513\"\n",
      "Presets specified: ['medium_quality']\n",
      "Beginning AutoGluon training ...\n",
      "AutoGluon will save models to \"AutogluonModels/ag-20231206_091513\"\n",
      "=================== System Info ===================\n",
      "AutoGluon Version:  1.0.0\n",
      "Python Version:     3.11.5\n",
      "Operating System:   Darwin\n",
      "Platform Machine:   x86_64\n",
      "Platform Version:   Darwin Kernel Version 22.6.0: Wed Oct  4 21:25:26 PDT 2023; root:xnu-8796.141.3.701.17~4/RELEASE_X86_64\n",
      "CPU Count:          4\n",
      "Memory Avail:       2.84 GB / 8.00 GB (35.5%)\n",
      "Disk Space Avail:   82.22 GB / 233.47 GB (35.2%)\n",
      "===================================================\n",
      "Train Data Rows:    5212\n",
      "Train Data Columns: 12\n",
      "Label Column:       quality\n",
      "Problem Type:       regression\n",
      "Preprocessing data ...\n",
      "Using Feature Generators to preprocess the data ...\n",
      "Fitting AutoMLPipelineFeatureGenerator...\n",
      "\tAvailable Memory:                    2908.26 MB\n",
      "\tTrain Data (Original)  Memory Usage: 0.74 MB (0.0% of available memory)\n",
      "\tInferring data type of each feature based on column values. Set feature_metadata_in to manually specify special dtypes of the features.\n",
      "\tStage 1 Generators:\n",
      "\t\tFitting AsTypeFeatureGenerator...\n",
      "\t\t\tNote: Converting 1 features to boolean dtype as they only contain 2 unique values.\n",
      "\tStage 2 Generators:\n",
      "\t\tFitting FillNaFeatureGenerator...\n",
      "\tStage 3 Generators:\n",
      "\t\tFitting IdentityFeatureGenerator...\n",
      "\tStage 4 Generators:\n",
      "\t\tFitting DropUniqueFeatureGenerator...\n",
      "\tStage 5 Generators:\n",
      "\t\tFitting DropDuplicatesFeatureGenerator...\n",
      "\tTypes of features in original data (raw dtype, special dtypes):\n",
      "\t\t('float', [])  : 11 | ['fixed acidity', 'volatile acidity', 'citric acid', 'residual sugar', 'chlorides', ...]\n",
      "\t\t('object', []) :  1 | ['colour']\n",
      "\tTypes of features in processed data (raw dtype, special dtypes):\n",
      "\t\t('float', [])     : 11 | ['fixed acidity', 'volatile acidity', 'citric acid', 'residual sugar', 'chlorides', ...]\n",
      "\t\t('int', ['bool']) :  1 | ['colour']\n",
      "\t0.1s = Fit runtime\n",
      "\t12 features in original data used to generate 12 features in processed data.\n",
      "\tTrain Data (Processed) Memory Usage: 0.44 MB (0.0% of available memory)\n",
      "Data preprocessing and feature engineering runtime = 0.11s ...\n",
      "AutoGluon will gauge predictive performance using evaluation metric: 'root_mean_squared_error'\n",
      "\tThis metric's sign has been flipped to adhere to being higher_is_better. The metric score can be multiplied by -1 to get the metric value.\n",
      "\tTo change this, specify the eval_metric parameter of Predictor()\n",
      "Automatically generating train/validation split with holdout_frac=0.1, Train Rows: 4690, Val Rows: 522\n",
      "User-specified model hyperparameters to be fit:\n",
      "{\n",
      "\t'NN_TORCH': {},\n",
      "\t'GBM': [{'extra_trees': True, 'ag_args': {'name_suffix': 'XT'}}, {}, 'GBMLarge'],\n",
      "\t'CAT': {},\n",
      "\t'XGB': {},\n",
      "\t'FASTAI': {},\n",
      "\t'RF': [{'criterion': 'gini', 'ag_args': {'name_suffix': 'Gini', 'problem_types': ['binary', 'multiclass']}}, {'criterion': 'entropy', 'ag_args': {'name_suffix': 'Entr', 'problem_types': ['binary', 'multiclass']}}, {'criterion': 'squared_error', 'ag_args': {'name_suffix': 'MSE', 'problem_types': ['regression', 'quantile']}}],\n",
      "\t'XT': [{'criterion': 'gini', 'ag_args': {'name_suffix': 'Gini', 'problem_types': ['binary', 'multiclass']}}, {'criterion': 'entropy', 'ag_args': {'name_suffix': 'Entr', 'problem_types': ['binary', 'multiclass']}}, {'criterion': 'squared_error', 'ag_args': {'name_suffix': 'MSE', 'problem_types': ['regression', 'quantile']}}],\n",
      "\t'KNN': [{'weights': 'uniform', 'ag_args': {'name_suffix': 'Unif'}}, {'weights': 'distance', 'ag_args': {'name_suffix': 'Dist'}}],\n",
      "}\n",
      "Fitting 11 L1 models ...\n",
      "Fitting model: KNeighborsUnif ...\n",
      "\t-0.8716\t = Validation score   (-root_mean_squared_error)\n",
      "\t2.54s\t = Training   runtime\n",
      "\t0.03s\t = Validation runtime\n",
      "Fitting model: KNeighborsDist ...\n",
      "\t-0.8079\t = Validation score   (-root_mean_squared_error)\n",
      "\t0.01s\t = Training   runtime\n",
      "\t0.02s\t = Validation runtime\n",
      "Fitting model: LightGBMXT ...\n",
      "\tWarning: Exception caused LightGBMXT to fail during training (ImportError)... Skipping this model.\n",
      "\t\t`import lightgbm` failed. If you are using Mac OSX, Please try 'brew install libomp'. Detailed info: dlopen(/Users/richardcollins/miniconda3/envs/fpl-f-o-env/lib/python3.11/site-packages/lightgbm/lib/lib_lightgbm.so, 0x0006): Library not loaded: /usr/local/opt/libomp/lib/libomp.dylib\n",
      "  Referenced from: <3AF1EF0C-311C-31EC-BCE3-679F37ABEE16> /Users/richardcollins/miniconda3/envs/fpl-f-o-env/lib/python3.11/site-packages/lightgbm/lib/lib_lightgbm.so\n",
      "  Reason: tried: '/usr/local/opt/libomp/lib/libomp.dylib' (no such file), '/System/Volumes/Preboot/Cryptexes/OS/usr/local/opt/libomp/lib/libomp.dylib' (no such file), '/usr/local/opt/libomp/lib/libomp.dylib' (no such file), '/usr/local/lib/libomp.dylib' (no such file), '/usr/lib/libomp.dylib' (no such file, not in dyld cache)\n",
      "Fitting model: LightGBM ...\n",
      "\tWarning: Exception caused LightGBM to fail during training (ImportError)... Skipping this model.\n",
      "\t\t`import lightgbm` failed. If you are using Mac OSX, Please try 'brew install libomp'. Detailed info: dlopen(/Users/richardcollins/miniconda3/envs/fpl-f-o-env/lib/python3.11/site-packages/lightgbm/lib/lib_lightgbm.so, 0x0006): Library not loaded: /usr/local/opt/libomp/lib/libomp.dylib\n",
      "  Referenced from: <3AF1EF0C-311C-31EC-BCE3-679F37ABEE16> /Users/richardcollins/miniconda3/envs/fpl-f-o-env/lib/python3.11/site-packages/lightgbm/lib/lib_lightgbm.so\n",
      "  Reason: tried: '/usr/local/opt/libomp/lib/libomp.dylib' (no such file), '/System/Volumes/Preboot/Cryptexes/OS/usr/local/opt/libomp/lib/libomp.dylib' (no such file), '/usr/local/opt/libomp/lib/libomp.dylib' (no such file), '/usr/local/lib/libomp.dylib' (no such file), '/usr/lib/libomp.dylib' (no such file, not in dyld cache)\n",
      "Fitting model: RandomForestMSE ...\n",
      "\t-0.6403\t = Validation score   (-root_mean_squared_error)\n",
      "\t3.18s\t = Training   runtime\n",
      "\t0.06s\t = Validation runtime\n",
      "Fitting model: CatBoost ...\n",
      "\tWarning: Exception caused CatBoost to fail during training (ImportError)... Skipping this model.\n",
      "\t\t\n",
      "Fitting model: ExtraTreesMSE ...\n",
      "\t-0.6325\t = Validation score   (-root_mean_squared_error)\n",
      "\t1.26s\t = Training   runtime\n",
      "\t0.06s\t = Validation runtime\n",
      "Fitting model: NeuralNetFastAI ...\n",
      "\t-0.6768\t = Validation score   (-root_mean_squared_error)\n",
      "\t5.03s\t = Training   runtime\n",
      "\t0.01s\t = Validation runtime\n",
      "Fitting model: XGBoost ...\n",
      "\t-0.6185\t = Validation score   (-root_mean_squared_error)\n",
      "\t2.14s\t = Training   runtime\n",
      "\t0.01s\t = Validation runtime\n",
      "Fitting model: NeuralNetTorch ...\n",
      "\t-0.7148\t = Validation score   (-root_mean_squared_error)\n",
      "\t4.31s\t = Training   runtime\n",
      "\t0.01s\t = Validation runtime\n",
      "Fitting model: LightGBMLarge ...\n",
      "\tWarning: Exception caused LightGBMLarge to fail during training (ImportError)... Skipping this model.\n",
      "\t\t`import lightgbm` failed. If you are using Mac OSX, Please try 'brew install libomp'. Detailed info: dlopen(/Users/richardcollins/miniconda3/envs/fpl-f-o-env/lib/python3.11/site-packages/lightgbm/lib/lib_lightgbm.so, 0x0006): Library not loaded: /usr/local/opt/libomp/lib/libomp.dylib\n",
      "  Referenced from: <3AF1EF0C-311C-31EC-BCE3-679F37ABEE16> /Users/richardcollins/miniconda3/envs/fpl-f-o-env/lib/python3.11/site-packages/lightgbm/lib/lib_lightgbm.so\n",
      "  Reason: tried: '/usr/local/opt/libomp/lib/libomp.dylib' (no such file), '/System/Volumes/Preboot/Cryptexes/OS/usr/local/opt/libomp/lib/libomp.dylib' (no such file), '/usr/local/opt/libomp/lib/libomp.dylib' (no such file), '/usr/local/lib/libomp.dylib' (no such file), '/usr/lib/libomp.dylib' (no such file, not in dyld cache)\n",
      "Fitting model: WeightedEnsemble_L2 ...\n",
      "\tEnsemble Weights: {'XGBoost': 0.659, 'ExtraTreesMSE': 0.231, 'NeuralNetFastAI': 0.099, 'NeuralNetTorch': 0.011}\n",
      "\t-0.6131\t = Validation score   (-root_mean_squared_error)\n",
      "\t0.15s\t = Training   runtime\n",
      "\t0.0s\t = Validation runtime\n",
      "AutoGluon training complete, total runtime = 20.0s ... Best model: \"WeightedEnsemble_L2\"\n",
      "TabularPredictor saved. To load, use: predictor = TabularPredictor.load(\"AutogluonModels/ag-20231206_091513\")\n"
     ]
    }
   ],
   "source": [
    "predictor = TabularPredictor(label=label, problem_type=\"regression\").fit(train_data, presets=\"medium_quality\")"
   ]
  },
  {
   "cell_type": "markdown",
   "metadata": {},
   "source": [
    "# Prediction"
   ]
  },
  {
   "cell_type": "code",
   "execution_count": 5,
   "metadata": {},
   "outputs": [
    {
     "data": {
      "text/plain": [
       "3     5.383248\n",
       "8     5.923350\n",
       "10    5.151501\n",
       "14    5.017485\n",
       "16    5.836979\n",
       "Name: quality, dtype: float32"
      ]
     },
     "execution_count": 5,
     "metadata": {},
     "output_type": "execute_result"
    }
   ],
   "source": [
    "test_data = TabularDataset(test_df)\n",
    "\n",
    "y_pred = predictor.predict(test_data.drop(columns=[label]))\n",
    "y_pred.head()"
   ]
  },
  {
   "cell_type": "markdown",
   "metadata": {},
   "source": [
    "# Evaluation"
   ]
  },
  {
   "cell_type": "code",
   "execution_count": 6,
   "metadata": {},
   "outputs": [
    {
     "data": {
      "text/plain": [
       "{'root_mean_squared_error': -0.6494975548026399,\n",
       " 'mean_squared_error': -0.4218470736946083,\n",
       " 'mean_absolute_error': -0.46064129432351675,\n",
       " 'r2': 0.4896904035055506,\n",
       " 'pearsonr': 0.7003293029597065,\n",
       " 'median_absolute_error': -0.3126258850097656}"
      ]
     },
     "execution_count": 6,
     "metadata": {},
     "output_type": "execute_result"
    }
   ],
   "source": [
    "predictor.evaluate(test_data, silent=True)"
   ]
  },
  {
   "cell_type": "code",
   "execution_count": 7,
   "metadata": {},
   "outputs": [
    {
     "data": {
      "text/html": [
       "<div>\n",
       "<style scoped>\n",
       "    .dataframe tbody tr th:only-of-type {\n",
       "        vertical-align: middle;\n",
       "    }\n",
       "\n",
       "    .dataframe tbody tr th {\n",
       "        vertical-align: top;\n",
       "    }\n",
       "\n",
       "    .dataframe thead th {\n",
       "        text-align: right;\n",
       "    }\n",
       "</style>\n",
       "<table border=\"1\" class=\"dataframe\">\n",
       "  <thead>\n",
       "    <tr style=\"text-align: right;\">\n",
       "      <th></th>\n",
       "      <th>model</th>\n",
       "      <th>score_test</th>\n",
       "      <th>score_val</th>\n",
       "      <th>eval_metric</th>\n",
       "      <th>pred_time_test</th>\n",
       "      <th>pred_time_val</th>\n",
       "      <th>fit_time</th>\n",
       "      <th>pred_time_test_marginal</th>\n",
       "      <th>pred_time_val_marginal</th>\n",
       "      <th>fit_time_marginal</th>\n",
       "      <th>stack_level</th>\n",
       "      <th>can_infer</th>\n",
       "      <th>fit_order</th>\n",
       "    </tr>\n",
       "  </thead>\n",
       "  <tbody>\n",
       "    <tr>\n",
       "      <th>0</th>\n",
       "      <td>ExtraTreesMSE</td>\n",
       "      <td>-0.646353</td>\n",
       "      <td>-0.632514</td>\n",
       "      <td>root_mean_squared_error</td>\n",
       "      <td>0.161858</td>\n",
       "      <td>0.062093</td>\n",
       "      <td>1.258153</td>\n",
       "      <td>0.161858</td>\n",
       "      <td>0.062093</td>\n",
       "      <td>1.258153</td>\n",
       "      <td>1</td>\n",
       "      <td>True</td>\n",
       "      <td>4</td>\n",
       "    </tr>\n",
       "    <tr>\n",
       "      <th>1</th>\n",
       "      <td>RandomForestMSE</td>\n",
       "      <td>-0.648951</td>\n",
       "      <td>-0.640256</td>\n",
       "      <td>root_mean_squared_error</td>\n",
       "      <td>0.140786</td>\n",
       "      <td>0.056891</td>\n",
       "      <td>3.184291</td>\n",
       "      <td>0.140786</td>\n",
       "      <td>0.056891</td>\n",
       "      <td>3.184291</td>\n",
       "      <td>1</td>\n",
       "      <td>True</td>\n",
       "      <td>3</td>\n",
       "    </tr>\n",
       "    <tr>\n",
       "      <th>2</th>\n",
       "      <td>WeightedEnsemble_L2</td>\n",
       "      <td>-0.649498</td>\n",
       "      <td>-0.613095</td>\n",
       "      <td>root_mean_squared_error</td>\n",
       "      <td>0.251028</td>\n",
       "      <td>0.093534</td>\n",
       "      <td>12.888216</td>\n",
       "      <td>0.002473</td>\n",
       "      <td>0.000299</td>\n",
       "      <td>0.151806</td>\n",
       "      <td>2</td>\n",
       "      <td>True</td>\n",
       "      <td>8</td>\n",
       "    </tr>\n",
       "    <tr>\n",
       "      <th>3</th>\n",
       "      <td>XGBoost</td>\n",
       "      <td>-0.663104</td>\n",
       "      <td>-0.618476</td>\n",
       "      <td>root_mean_squared_error</td>\n",
       "      <td>0.035449</td>\n",
       "      <td>0.010730</td>\n",
       "      <td>2.135424</td>\n",
       "      <td>0.035449</td>\n",
       "      <td>0.010730</td>\n",
       "      <td>2.135424</td>\n",
       "      <td>1</td>\n",
       "      <td>True</td>\n",
       "      <td>6</td>\n",
       "    </tr>\n",
       "    <tr>\n",
       "      <th>4</th>\n",
       "      <td>NeuralNetFastAI</td>\n",
       "      <td>-0.708740</td>\n",
       "      <td>-0.676803</td>\n",
       "      <td>root_mean_squared_error</td>\n",
       "      <td>0.033689</td>\n",
       "      <td>0.011305</td>\n",
       "      <td>5.030684</td>\n",
       "      <td>0.033689</td>\n",
       "      <td>0.011305</td>\n",
       "      <td>5.030684</td>\n",
       "      <td>1</td>\n",
       "      <td>True</td>\n",
       "      <td>5</td>\n",
       "    </tr>\n",
       "    <tr>\n",
       "      <th>5</th>\n",
       "      <td>NeuralNetTorch</td>\n",
       "      <td>-0.755813</td>\n",
       "      <td>-0.714768</td>\n",
       "      <td>root_mean_squared_error</td>\n",
       "      <td>0.017559</td>\n",
       "      <td>0.009107</td>\n",
       "      <td>4.312149</td>\n",
       "      <td>0.017559</td>\n",
       "      <td>0.009107</td>\n",
       "      <td>4.312149</td>\n",
       "      <td>1</td>\n",
       "      <td>True</td>\n",
       "      <td>7</td>\n",
       "    </tr>\n",
       "    <tr>\n",
       "      <th>6</th>\n",
       "      <td>KNeighborsDist</td>\n",
       "      <td>-0.769562</td>\n",
       "      <td>-0.807940</td>\n",
       "      <td>root_mean_squared_error</td>\n",
       "      <td>0.020912</td>\n",
       "      <td>0.018355</td>\n",
       "      <td>0.012854</td>\n",
       "      <td>0.020912</td>\n",
       "      <td>0.018355</td>\n",
       "      <td>0.012854</td>\n",
       "      <td>1</td>\n",
       "      <td>True</td>\n",
       "      <td>2</td>\n",
       "    </tr>\n",
       "    <tr>\n",
       "      <th>7</th>\n",
       "      <td>KNeighborsUnif</td>\n",
       "      <td>-0.833762</td>\n",
       "      <td>-0.871604</td>\n",
       "      <td>root_mean_squared_error</td>\n",
       "      <td>0.025099</td>\n",
       "      <td>0.026550</td>\n",
       "      <td>2.535976</td>\n",
       "      <td>0.025099</td>\n",
       "      <td>0.026550</td>\n",
       "      <td>2.535976</td>\n",
       "      <td>1</td>\n",
       "      <td>True</td>\n",
       "      <td>1</td>\n",
       "    </tr>\n",
       "  </tbody>\n",
       "</table>\n",
       "</div>"
      ],
      "text/plain": [
       "                 model  score_test  score_val              eval_metric  \\\n",
       "0        ExtraTreesMSE   -0.646353  -0.632514  root_mean_squared_error   \n",
       "1      RandomForestMSE   -0.648951  -0.640256  root_mean_squared_error   \n",
       "2  WeightedEnsemble_L2   -0.649498  -0.613095  root_mean_squared_error   \n",
       "3              XGBoost   -0.663104  -0.618476  root_mean_squared_error   \n",
       "4      NeuralNetFastAI   -0.708740  -0.676803  root_mean_squared_error   \n",
       "5       NeuralNetTorch   -0.755813  -0.714768  root_mean_squared_error   \n",
       "6       KNeighborsDist   -0.769562  -0.807940  root_mean_squared_error   \n",
       "7       KNeighborsUnif   -0.833762  -0.871604  root_mean_squared_error   \n",
       "\n",
       "   pred_time_test  pred_time_val   fit_time  pred_time_test_marginal  \\\n",
       "0        0.161858       0.062093   1.258153                 0.161858   \n",
       "1        0.140786       0.056891   3.184291                 0.140786   \n",
       "2        0.251028       0.093534  12.888216                 0.002473   \n",
       "3        0.035449       0.010730   2.135424                 0.035449   \n",
       "4        0.033689       0.011305   5.030684                 0.033689   \n",
       "5        0.017559       0.009107   4.312149                 0.017559   \n",
       "6        0.020912       0.018355   0.012854                 0.020912   \n",
       "7        0.025099       0.026550   2.535976                 0.025099   \n",
       "\n",
       "   pred_time_val_marginal  fit_time_marginal  stack_level  can_infer  \\\n",
       "0                0.062093           1.258153            1       True   \n",
       "1                0.056891           3.184291            1       True   \n",
       "2                0.000299           0.151806            2       True   \n",
       "3                0.010730           2.135424            1       True   \n",
       "4                0.011305           5.030684            1       True   \n",
       "5                0.009107           4.312149            1       True   \n",
       "6                0.018355           0.012854            1       True   \n",
       "7                0.026550           2.535976            1       True   \n",
       "\n",
       "   fit_order  \n",
       "0          4  \n",
       "1          3  \n",
       "2          8  \n",
       "3          6  \n",
       "4          5  \n",
       "5          7  \n",
       "6          2  \n",
       "7          1  "
      ]
     },
     "execution_count": 7,
     "metadata": {},
     "output_type": "execute_result"
    }
   ],
   "source": [
    "predictor.leaderboard(test_data)"
   ]
  },
  {
   "cell_type": "code",
   "execution_count": null,
   "metadata": {},
   "outputs": [],
   "source": []
  }
 ],
 "metadata": {
  "kernelspec": {
   "display_name": "fpl-f-o-env",
   "language": "python",
   "name": "python3"
  },
  "language_info": {
   "codemirror_mode": {
    "name": "ipython",
    "version": 3
   },
   "file_extension": ".py",
   "mimetype": "text/x-python",
   "name": "python",
   "nbconvert_exporter": "python",
   "pygments_lexer": "ipython3",
   "version": "3.11.5"
  }
 },
 "nbformat": 4,
 "nbformat_minor": 2
}
