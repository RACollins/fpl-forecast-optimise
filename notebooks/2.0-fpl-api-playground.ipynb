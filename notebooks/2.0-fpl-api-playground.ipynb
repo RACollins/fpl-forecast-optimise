{
 "cells": [
  {
   "cell_type": "markdown",
   "metadata": {},
   "source": [
    "# Imports"
   ]
  },
  {
   "cell_type": "code",
   "execution_count": 1,
   "metadata": {},
   "outputs": [],
   "source": [
    "import requests\n",
    "import json\n",
    "import numpy as np\n",
    "import pandas as pd\n",
    "import plotly.express as px\n",
    "import os\n",
    "from tqdm import tqdm\n",
    "from scipy.spatial import distance"
   ]
  },
  {
   "cell_type": "markdown",
   "metadata": {},
   "source": [
    "# Definitions"
   ]
  },
  {
   "cell_type": "code",
   "execution_count": 2,
   "metadata": {},
   "outputs": [],
   "source": [
    "cwd = os.getcwd()\n",
    "leagueID = \"1041760\"\n",
    "fpl_league_url = (\n",
    "    f\"https://fantasy.premierleague.com/api/leagues-classic/{leagueID}/standings/\"\n",
    ")\n",
    "all_gws_url_template = (\n",
    "    \"https://fantasy.premierleague.com/api/entry/{manager_id}/history/\"\n",
    ")\n",
    "team_picks_template = (\n",
    "    \"https://fantasy.premierleague.com/api/entry/{manager_id}/event/{gw}/picks/\"\n",
    ")"
   ]
  },
  {
   "cell_type": "markdown",
   "metadata": {},
   "source": [
    "# Functions"
   ]
  },
  {
   "cell_type": "code",
   "execution_count": 3,
   "metadata": {},
   "outputs": [],
   "source": [
    "def jaccard_sim(df):\n",
    "    columns = df.columns\n",
    "    jaccard_matrix = np.empty([len(columns), len(columns)])\n",
    "    for i, row in enumerate(columns):\n",
    "        for j, col in enumerate(columns):\n",
    "            jaccard_sim = len(set(df[row]).intersection(set(df[col]))) / len(\n",
    "                set(df[row]).union(set(df[col]))\n",
    "            )\n",
    "            jaccard_matrix[i, j] = jaccard_sim\n",
    "    jaccard_sim_df = pd.DataFrame(index=columns, columns=columns, data=jaccard_matrix)\n",
    "    return jaccard_sim_df"
   ]
  },
  {
   "cell_type": "markdown",
   "metadata": {},
   "source": [
    "# Testing"
   ]
  },
  {
   "cell_type": "markdown",
   "metadata": {},
   "source": [
    "## Connect"
   ]
  },
  {
   "cell_type": "code",
   "execution_count": 4,
   "metadata": {},
   "outputs": [
    {
     "name": "stdout",
     "output_type": "stream",
     "text": [
      "The API request was successful.\n"
     ]
    }
   ],
   "source": [
    "respose = requests.get(fpl_league_url)\n",
    "if respose.status_code == 200:\n",
    "    print(\"The API request was successful.\")\n",
    "    fpl_league_respose_json = respose.json()\n",
    "else:\n",
    "    print(f\"Error: The API request failed with status code {respose.status_code}.\")"
   ]
  },
  {
   "cell_type": "markdown",
   "metadata": {},
   "source": [
    "## Parse respose_json"
   ]
  },
  {
   "cell_type": "code",
   "execution_count": 5,
   "metadata": {},
   "outputs": [
    {
     "data": {
      "text/plain": [
       "{'new_entries': {'has_next': False, 'page': 1, 'results': []},\n",
       " 'last_updated_data': '2024-01-20T20:51:58Z',\n",
       " 'league': {'id': 1041760,\n",
       "  'name': 'MNF',\n",
       "  'created': '2023-08-07T09:06:50.015343Z',\n",
       "  'closed': False,\n",
       "  'max_entries': None,\n",
       "  'league_type': 'x',\n",
       "  'scoring': 'c',\n",
       "  'admin_entry': 4651100,\n",
       "  'start_event': 1,\n",
       "  'code_privacy': 'p',\n",
       "  'has_cup': True,\n",
       "  'cup_league': None,\n",
       "  'rank': None},\n",
       " 'standings': {'has_next': False,\n",
       "  'page': 1,\n",
       "  'results': [{'id': 35832424,\n",
       "    'event_total': 52,\n",
       "    'player_name': 'James Parfitt',\n",
       "    'rank': 1,\n",
       "    'last_rank': 2,\n",
       "    'rank_sort': 1,\n",
       "    'total': 1221,\n",
       "    'entry': 4651100,\n",
       "    'entry_name': 'Where you been?'},\n",
       "   {'id': 58581266,\n",
       "    'event_total': 71,\n",
       "    'player_name': 'Seb Winn',\n",
       "    'rank': 2,\n",
       "    'last_rank': 3,\n",
       "    'rank_sort': 2,\n",
       "    'total': 1219,\n",
       "    'entry': 7052472,\n",
       "    'entry_name': 'Gangsters Allardyce'},\n",
       "   {'id': 35939248,\n",
       "    'event_total': 44,\n",
       "    'player_name': 'Alex Winn',\n",
       "    'rank': 3,\n",
       "    'last_rank': 1,\n",
       "    'rank_sort': 3,\n",
       "    'total': 1216,\n",
       "    'entry': 3794145,\n",
       "    'entry_name': 'Al-Winn'},\n",
       "   {'id': 35832439,\n",
       "    'event_total': 64,\n",
       "    'player_name': 'Jacob Pickles',\n",
       "    'rank': 4,\n",
       "    'last_rank': 5,\n",
       "    'rank_sort': 4,\n",
       "    'total': 1174,\n",
       "    'entry': 3148659,\n",
       "    'entry_name': 'Gobblebox'},\n",
       "   {'id': 57395169,\n",
       "    'event_total': 31,\n",
       "    'player_name': 'Mason Gardener',\n",
       "    'rank': 5,\n",
       "    'last_rank': 4,\n",
       "    'rank_sort': 5,\n",
       "    'total': 1167,\n",
       "    'entry': 6963106,\n",
       "    'entry_name': 'nice to Michu'},\n",
       "   {'id': 35832433,\n",
       "    'event_total': 68,\n",
       "    'player_name': 'Ben Melhuish',\n",
       "    'rank': 6,\n",
       "    'last_rank': 8,\n",
       "    'rank_sort': 6,\n",
       "    'total': 1138,\n",
       "    'entry': 4075412,\n",
       "    'entry_name': 'Melshys Mediocres'},\n",
       "   {'id': 35879230,\n",
       "    'event_total': 55,\n",
       "    'player_name': 'Joseph Parsons',\n",
       "    'rank': 7,\n",
       "    'last_rank': 7,\n",
       "    'rank_sort': 7,\n",
       "    'total': 1133,\n",
       "    'entry': 4656770,\n",
       "    'entry_name': 'AFC Great Name UTD'},\n",
       "   {'id': 56846765,\n",
       "    'event_total': 41,\n",
       "    'player_name': 'Richard Collins',\n",
       "    'rank': 8,\n",
       "    'last_rank': 6,\n",
       "    'rank_sort': 8,\n",
       "    'total': 1126,\n",
       "    'entry': 6911033,\n",
       "    'entry_name': 'Eze-er said than Son'},\n",
       "   {'id': 35832437,\n",
       "    'event_total': 53,\n",
       "    'player_name': 'Dan Pratlett',\n",
       "    'rank': 9,\n",
       "    'last_rank': 9,\n",
       "    'rank_sort': 9,\n",
       "    'total': 1119,\n",
       "    'entry': 3194123,\n",
       "    'entry_name': 'Onana what’s my name'},\n",
       "   {'id': 48472859,\n",
       "    'event_total': 28,\n",
       "    'player_name': 'Ben Wilson',\n",
       "    'rank': 10,\n",
       "    'last_rank': 10,\n",
       "    'rank_sort': 10,\n",
       "    'total': 1040,\n",
       "    'entry': 6083206,\n",
       "    'entry_name': 'Kloppenheimer'},\n",
       "   {'id': 35832436,\n",
       "    'event_total': 33,\n",
       "    'player_name': 'Ben Anderson',\n",
       "    'rank': 11,\n",
       "    'last_rank': 11,\n",
       "    'rank_sort': 11,\n",
       "    'total': 1014,\n",
       "    'entry': 2709514,\n",
       "    'entry_name': 'Henry not Harry'},\n",
       "   {'id': 35843947,\n",
       "    'event_total': 16,\n",
       "    'player_name': 'Luke Counsell',\n",
       "    'rank': 12,\n",
       "    'last_rank': 12,\n",
       "    'rank_sort': 12,\n",
       "    'total': 936,\n",
       "    'entry': 4371621,\n",
       "    'entry_name': 'RareChonk'}]}}"
      ]
     },
     "execution_count": 5,
     "metadata": {},
     "output_type": "execute_result"
    }
   ],
   "source": [
    "fpl_league_respose_json"
   ]
  },
  {
   "cell_type": "code",
   "execution_count": 6,
   "metadata": {},
   "outputs": [
    {
     "data": {
      "text/html": [
       "<div>\n",
       "<style scoped>\n",
       "    .dataframe tbody tr th:only-of-type {\n",
       "        vertical-align: middle;\n",
       "    }\n",
       "\n",
       "    .dataframe tbody tr th {\n",
       "        vertical-align: top;\n",
       "    }\n",
       "\n",
       "    .dataframe thead th {\n",
       "        text-align: right;\n",
       "    }\n",
       "</style>\n",
       "<table border=\"1\" class=\"dataframe\">\n",
       "  <thead>\n",
       "    <tr style=\"text-align: right;\">\n",
       "      <th></th>\n",
       "      <th>id</th>\n",
       "      <th>event_total</th>\n",
       "      <th>player_name</th>\n",
       "      <th>rank</th>\n",
       "      <th>last_rank</th>\n",
       "      <th>rank_sort</th>\n",
       "      <th>total</th>\n",
       "      <th>entry</th>\n",
       "      <th>entry_name</th>\n",
       "    </tr>\n",
       "  </thead>\n",
       "  <tbody>\n",
       "    <tr>\n",
       "      <th>0</th>\n",
       "      <td>35832424</td>\n",
       "      <td>52</td>\n",
       "      <td>James Parfitt</td>\n",
       "      <td>1</td>\n",
       "      <td>2</td>\n",
       "      <td>1</td>\n",
       "      <td>1221</td>\n",
       "      <td>4651100</td>\n",
       "      <td>Where you been?</td>\n",
       "    </tr>\n",
       "    <tr>\n",
       "      <th>1</th>\n",
       "      <td>58581266</td>\n",
       "      <td>71</td>\n",
       "      <td>Seb Winn</td>\n",
       "      <td>2</td>\n",
       "      <td>3</td>\n",
       "      <td>2</td>\n",
       "      <td>1219</td>\n",
       "      <td>7052472</td>\n",
       "      <td>Gangsters Allardyce</td>\n",
       "    </tr>\n",
       "    <tr>\n",
       "      <th>2</th>\n",
       "      <td>35939248</td>\n",
       "      <td>44</td>\n",
       "      <td>Alex Winn</td>\n",
       "      <td>3</td>\n",
       "      <td>1</td>\n",
       "      <td>3</td>\n",
       "      <td>1216</td>\n",
       "      <td>3794145</td>\n",
       "      <td>Al-Winn</td>\n",
       "    </tr>\n",
       "    <tr>\n",
       "      <th>3</th>\n",
       "      <td>35832439</td>\n",
       "      <td>64</td>\n",
       "      <td>Jacob Pickles</td>\n",
       "      <td>4</td>\n",
       "      <td>5</td>\n",
       "      <td>4</td>\n",
       "      <td>1174</td>\n",
       "      <td>3148659</td>\n",
       "      <td>Gobblebox</td>\n",
       "    </tr>\n",
       "    <tr>\n",
       "      <th>4</th>\n",
       "      <td>57395169</td>\n",
       "      <td>31</td>\n",
       "      <td>Mason Gardener</td>\n",
       "      <td>5</td>\n",
       "      <td>4</td>\n",
       "      <td>5</td>\n",
       "      <td>1167</td>\n",
       "      <td>6963106</td>\n",
       "      <td>nice to Michu</td>\n",
       "    </tr>\n",
       "    <tr>\n",
       "      <th>5</th>\n",
       "      <td>35832433</td>\n",
       "      <td>68</td>\n",
       "      <td>Ben Melhuish</td>\n",
       "      <td>6</td>\n",
       "      <td>8</td>\n",
       "      <td>6</td>\n",
       "      <td>1138</td>\n",
       "      <td>4075412</td>\n",
       "      <td>Melshys Mediocres</td>\n",
       "    </tr>\n",
       "    <tr>\n",
       "      <th>6</th>\n",
       "      <td>35879230</td>\n",
       "      <td>55</td>\n",
       "      <td>Joseph Parsons</td>\n",
       "      <td>7</td>\n",
       "      <td>7</td>\n",
       "      <td>7</td>\n",
       "      <td>1133</td>\n",
       "      <td>4656770</td>\n",
       "      <td>AFC Great Name UTD</td>\n",
       "    </tr>\n",
       "    <tr>\n",
       "      <th>7</th>\n",
       "      <td>56846765</td>\n",
       "      <td>41</td>\n",
       "      <td>Richard Collins</td>\n",
       "      <td>8</td>\n",
       "      <td>6</td>\n",
       "      <td>8</td>\n",
       "      <td>1126</td>\n",
       "      <td>6911033</td>\n",
       "      <td>Eze-er said than Son</td>\n",
       "    </tr>\n",
       "    <tr>\n",
       "      <th>8</th>\n",
       "      <td>35832437</td>\n",
       "      <td>53</td>\n",
       "      <td>Dan Pratlett</td>\n",
       "      <td>9</td>\n",
       "      <td>9</td>\n",
       "      <td>9</td>\n",
       "      <td>1119</td>\n",
       "      <td>3194123</td>\n",
       "      <td>Onana what’s my name</td>\n",
       "    </tr>\n",
       "    <tr>\n",
       "      <th>9</th>\n",
       "      <td>48472859</td>\n",
       "      <td>28</td>\n",
       "      <td>Ben Wilson</td>\n",
       "      <td>10</td>\n",
       "      <td>10</td>\n",
       "      <td>10</td>\n",
       "      <td>1040</td>\n",
       "      <td>6083206</td>\n",
       "      <td>Kloppenheimer</td>\n",
       "    </tr>\n",
       "    <tr>\n",
       "      <th>10</th>\n",
       "      <td>35832436</td>\n",
       "      <td>33</td>\n",
       "      <td>Ben Anderson</td>\n",
       "      <td>11</td>\n",
       "      <td>11</td>\n",
       "      <td>11</td>\n",
       "      <td>1014</td>\n",
       "      <td>2709514</td>\n",
       "      <td>Henry not Harry</td>\n",
       "    </tr>\n",
       "    <tr>\n",
       "      <th>11</th>\n",
       "      <td>35843947</td>\n",
       "      <td>16</td>\n",
       "      <td>Luke Counsell</td>\n",
       "      <td>12</td>\n",
       "      <td>12</td>\n",
       "      <td>12</td>\n",
       "      <td>936</td>\n",
       "      <td>4371621</td>\n",
       "      <td>RareChonk</td>\n",
       "    </tr>\n",
       "  </tbody>\n",
       "</table>\n",
       "</div>"
      ],
      "text/plain": [
       "          id  event_total      player_name  rank  last_rank  rank_sort  total  \\\n",
       "0   35832424           52    James Parfitt     1          2          1   1221   \n",
       "1   58581266           71         Seb Winn     2          3          2   1219   \n",
       "2   35939248           44        Alex Winn     3          1          3   1216   \n",
       "3   35832439           64    Jacob Pickles     4          5          4   1174   \n",
       "4   57395169           31   Mason Gardener     5          4          5   1167   \n",
       "5   35832433           68     Ben Melhuish     6          8          6   1138   \n",
       "6   35879230           55   Joseph Parsons     7          7          7   1133   \n",
       "7   56846765           41  Richard Collins     8          6          8   1126   \n",
       "8   35832437           53     Dan Pratlett     9          9          9   1119   \n",
       "9   48472859           28       Ben Wilson    10         10         10   1040   \n",
       "10  35832436           33     Ben Anderson    11         11         11   1014   \n",
       "11  35843947           16    Luke Counsell    12         12         12    936   \n",
       "\n",
       "      entry            entry_name  \n",
       "0   4651100       Where you been?  \n",
       "1   7052472   Gangsters Allardyce  \n",
       "2   3794145               Al-Winn  \n",
       "3   3148659             Gobblebox  \n",
       "4   6963106         nice to Michu  \n",
       "5   4075412     Melshys Mediocres  \n",
       "6   4656770    AFC Great Name UTD  \n",
       "7   6911033  Eze-er said than Son  \n",
       "8   3194123  Onana what’s my name  \n",
       "9   6083206         Kloppenheimer  \n",
       "10  2709514       Henry not Harry  \n",
       "11  4371621             RareChonk  "
      ]
     },
     "execution_count": 6,
     "metadata": {},
     "output_type": "execute_result"
    }
   ],
   "source": [
    "league_df = pd.DataFrame(fpl_league_respose_json[\"standings\"][\"results\"])\n",
    "league_df"
   ]
  },
  {
   "cell_type": "code",
   "execution_count": 7,
   "metadata": {},
   "outputs": [
    {
     "data": {
      "text/html": [
       "<div>\n",
       "<style scoped>\n",
       "    .dataframe tbody tr th:only-of-type {\n",
       "        vertical-align: middle;\n",
       "    }\n",
       "\n",
       "    .dataframe tbody tr th {\n",
       "        vertical-align: top;\n",
       "    }\n",
       "\n",
       "    .dataframe thead th {\n",
       "        text-align: right;\n",
       "    }\n",
       "</style>\n",
       "<table border=\"1\" class=\"dataframe\">\n",
       "  <thead>\n",
       "    <tr style=\"text-align: right;\">\n",
       "      <th></th>\n",
       "      <th>event</th>\n",
       "      <th>points</th>\n",
       "      <th>total_points</th>\n",
       "      <th>rank</th>\n",
       "      <th>rank_sort</th>\n",
       "      <th>overall_rank</th>\n",
       "      <th>percentile_rank</th>\n",
       "      <th>bank</th>\n",
       "      <th>value</th>\n",
       "      <th>event_transfers</th>\n",
       "      <th>event_transfers_cost</th>\n",
       "      <th>points_on_bench</th>\n",
       "      <th>entry</th>\n",
       "      <th>entry_name</th>\n",
       "      <th>player_name</th>\n",
       "    </tr>\n",
       "  </thead>\n",
       "  <tbody>\n",
       "    <tr>\n",
       "      <th>0</th>\n",
       "      <td>1</td>\n",
       "      <td>74</td>\n",
       "      <td>74</td>\n",
       "      <td>1871592</td>\n",
       "      <td>2034068</td>\n",
       "      <td>1871592</td>\n",
       "      <td>NaN</td>\n",
       "      <td>5</td>\n",
       "      <td>1000</td>\n",
       "      <td>0</td>\n",
       "      <td>0</td>\n",
       "      <td>10</td>\n",
       "      <td>4651100</td>\n",
       "      <td>Where you been?</td>\n",
       "      <td>James Parfitt</td>\n",
       "    </tr>\n",
       "    <tr>\n",
       "      <th>1</th>\n",
       "      <td>2</td>\n",
       "      <td>27</td>\n",
       "      <td>101</td>\n",
       "      <td>8484460</td>\n",
       "      <td>8503187</td>\n",
       "      <td>5170440</td>\n",
       "      <td>NaN</td>\n",
       "      <td>5</td>\n",
       "      <td>1003</td>\n",
       "      <td>0</td>\n",
       "      <td>0</td>\n",
       "      <td>11</td>\n",
       "      <td>4651100</td>\n",
       "      <td>Where you been?</td>\n",
       "      <td>James Parfitt</td>\n",
       "    </tr>\n",
       "    <tr>\n",
       "      <th>2</th>\n",
       "      <td>3</td>\n",
       "      <td>71</td>\n",
       "      <td>172</td>\n",
       "      <td>134889</td>\n",
       "      <td>139110</td>\n",
       "      <td>1591518</td>\n",
       "      <td>NaN</td>\n",
       "      <td>0</td>\n",
       "      <td>1007</td>\n",
       "      <td>2</td>\n",
       "      <td>0</td>\n",
       "      <td>3</td>\n",
       "      <td>4651100</td>\n",
       "      <td>Where you been?</td>\n",
       "      <td>James Parfitt</td>\n",
       "    </tr>\n",
       "    <tr>\n",
       "      <th>3</th>\n",
       "      <td>4</td>\n",
       "      <td>73</td>\n",
       "      <td>245</td>\n",
       "      <td>4888836</td>\n",
       "      <td>4977811</td>\n",
       "      <td>1845039</td>\n",
       "      <td>NaN</td>\n",
       "      <td>10</td>\n",
       "      <td>1011</td>\n",
       "      <td>1</td>\n",
       "      <td>0</td>\n",
       "      <td>8</td>\n",
       "      <td>4651100</td>\n",
       "      <td>Where you been?</td>\n",
       "      <td>James Parfitt</td>\n",
       "    </tr>\n",
       "    <tr>\n",
       "      <th>4</th>\n",
       "      <td>5</td>\n",
       "      <td>35</td>\n",
       "      <td>280</td>\n",
       "      <td>8386418</td>\n",
       "      <td>8449853</td>\n",
       "      <td>2866783</td>\n",
       "      <td>NaN</td>\n",
       "      <td>10</td>\n",
       "      <td>1010</td>\n",
       "      <td>0</td>\n",
       "      <td>0</td>\n",
       "      <td>4</td>\n",
       "      <td>4651100</td>\n",
       "      <td>Where you been?</td>\n",
       "      <td>James Parfitt</td>\n",
       "    </tr>\n",
       "    <tr>\n",
       "      <th>...</th>\n",
       "      <td>...</td>\n",
       "      <td>...</td>\n",
       "      <td>...</td>\n",
       "      <td>...</td>\n",
       "      <td>...</td>\n",
       "      <td>...</td>\n",
       "      <td>...</td>\n",
       "      <td>...</td>\n",
       "      <td>...</td>\n",
       "      <td>...</td>\n",
       "      <td>...</td>\n",
       "      <td>...</td>\n",
       "      <td>...</td>\n",
       "      <td>...</td>\n",
       "      <td>...</td>\n",
       "    </tr>\n",
       "    <tr>\n",
       "      <th>16</th>\n",
       "      <td>17</td>\n",
       "      <td>10</td>\n",
       "      <td>813</td>\n",
       "      <td>10375115</td>\n",
       "      <td>10377111</td>\n",
       "      <td>6742122</td>\n",
       "      <td>NaN</td>\n",
       "      <td>0</td>\n",
       "      <td>993</td>\n",
       "      <td>0</td>\n",
       "      <td>0</td>\n",
       "      <td>0</td>\n",
       "      <td>4371621</td>\n",
       "      <td>RareChonk</td>\n",
       "      <td>Luke Counsell</td>\n",
       "    </tr>\n",
       "    <tr>\n",
       "      <th>17</th>\n",
       "      <td>18</td>\n",
       "      <td>33</td>\n",
       "      <td>846</td>\n",
       "      <td>5996426</td>\n",
       "      <td>6060550</td>\n",
       "      <td>6708743</td>\n",
       "      <td>NaN</td>\n",
       "      <td>0</td>\n",
       "      <td>990</td>\n",
       "      <td>0</td>\n",
       "      <td>0</td>\n",
       "      <td>0</td>\n",
       "      <td>4371621</td>\n",
       "      <td>RareChonk</td>\n",
       "      <td>Luke Counsell</td>\n",
       "    </tr>\n",
       "    <tr>\n",
       "      <th>18</th>\n",
       "      <td>19</td>\n",
       "      <td>26</td>\n",
       "      <td>872</td>\n",
       "      <td>9130007</td>\n",
       "      <td>9186272</td>\n",
       "      <td>6970904</td>\n",
       "      <td>NaN</td>\n",
       "      <td>0</td>\n",
       "      <td>988</td>\n",
       "      <td>0</td>\n",
       "      <td>0</td>\n",
       "      <td>12</td>\n",
       "      <td>4371621</td>\n",
       "      <td>RareChonk</td>\n",
       "      <td>Luke Counsell</td>\n",
       "    </tr>\n",
       "    <tr>\n",
       "      <th>19</th>\n",
       "      <td>20</td>\n",
       "      <td>48</td>\n",
       "      <td>920</td>\n",
       "      <td>7304889</td>\n",
       "      <td>7343092</td>\n",
       "      <td>7021339</td>\n",
       "      <td>NaN</td>\n",
       "      <td>0</td>\n",
       "      <td>987</td>\n",
       "      <td>0</td>\n",
       "      <td>0</td>\n",
       "      <td>11</td>\n",
       "      <td>4371621</td>\n",
       "      <td>RareChonk</td>\n",
       "      <td>Luke Counsell</td>\n",
       "    </tr>\n",
       "    <tr>\n",
       "      <th>20</th>\n",
       "      <td>21</td>\n",
       "      <td>16</td>\n",
       "      <td>936</td>\n",
       "      <td>9106050</td>\n",
       "      <td>9157205</td>\n",
       "      <td>7230514</td>\n",
       "      <td>90.0</td>\n",
       "      <td>0</td>\n",
       "      <td>990</td>\n",
       "      <td>0</td>\n",
       "      <td>0</td>\n",
       "      <td>4</td>\n",
       "      <td>4371621</td>\n",
       "      <td>RareChonk</td>\n",
       "      <td>Luke Counsell</td>\n",
       "    </tr>\n",
       "  </tbody>\n",
       "</table>\n",
       "<p>252 rows × 15 columns</p>\n",
       "</div>"
      ],
      "text/plain": [
       "    event  points  total_points      rank  rank_sort  overall_rank  \\\n",
       "0       1      74            74   1871592    2034068       1871592   \n",
       "1       2      27           101   8484460    8503187       5170440   \n",
       "2       3      71           172    134889     139110       1591518   \n",
       "3       4      73           245   4888836    4977811       1845039   \n",
       "4       5      35           280   8386418    8449853       2866783   \n",
       "..    ...     ...           ...       ...        ...           ...   \n",
       "16     17      10           813  10375115   10377111       6742122   \n",
       "17     18      33           846   5996426    6060550       6708743   \n",
       "18     19      26           872   9130007    9186272       6970904   \n",
       "19     20      48           920   7304889    7343092       7021339   \n",
       "20     21      16           936   9106050    9157205       7230514   \n",
       "\n",
       "    percentile_rank  bank  value  event_transfers  event_transfers_cost  \\\n",
       "0               NaN     5   1000                0                     0   \n",
       "1               NaN     5   1003                0                     0   \n",
       "2               NaN     0   1007                2                     0   \n",
       "3               NaN    10   1011                1                     0   \n",
       "4               NaN    10   1010                0                     0   \n",
       "..              ...   ...    ...              ...                   ...   \n",
       "16              NaN     0    993                0                     0   \n",
       "17              NaN     0    990                0                     0   \n",
       "18              NaN     0    988                0                     0   \n",
       "19              NaN     0    987                0                     0   \n",
       "20             90.0     0    990                0                     0   \n",
       "\n",
       "    points_on_bench    entry       entry_name    player_name  \n",
       "0                10  4651100  Where you been?  James Parfitt  \n",
       "1                11  4651100  Where you been?  James Parfitt  \n",
       "2                 3  4651100  Where you been?  James Parfitt  \n",
       "3                 8  4651100  Where you been?  James Parfitt  \n",
       "4                 4  4651100  Where you been?  James Parfitt  \n",
       "..              ...      ...              ...            ...  \n",
       "16                0  4371621        RareChonk  Luke Counsell  \n",
       "17                0  4371621        RareChonk  Luke Counsell  \n",
       "18               12  4371621        RareChonk  Luke Counsell  \n",
       "19               11  4371621        RareChonk  Luke Counsell  \n",
       "20                4  4371621        RareChonk  Luke Counsell  \n",
       "\n",
       "[252 rows x 15 columns]"
      ]
     },
     "execution_count": 7,
     "metadata": {},
     "output_type": "execute_result"
    }
   ],
   "source": [
    "colours_list = [\n",
    "    \"tab:blue\",\n",
    "    \"tab:orange\",\n",
    "    \"tab:green\",\n",
    "    \"tab:red\",\n",
    "    \"tab:purple\",\n",
    "    \"tab:brown\",\n",
    "    \"tab:pink\",\n",
    "    \"tabb:grey\",\n",
    "    \"tab:olive\",\n",
    "    \"tab:cyan\",\n",
    "    \"m\",\n",
    "    \"y\",\n",
    "]\n",
    "colours_map = {}\n",
    "all_gws_df_list = []\n",
    "for i, manager_id in enumerate(league_df[\"entry\"]):\n",
    "    respose = requests.get(all_gws_url_template.format(manager_id=manager_id))\n",
    "    all_gws_respose_json = respose.json()\n",
    "    all_gws_df = pd.DataFrame(all_gws_respose_json[\"current\"])\n",
    "    all_gws_df[\"entry\"] = manager_id\n",
    "    all_gws_df[\"entry_name\"] = league_df.loc[i, \"entry_name\"]\n",
    "    all_gws_df[\"player_name\"] = league_df.loc[i, \"player_name\"]\n",
    "    # colours_map[league_df.loc[i, \"player_name\"]] = colours_list[i]\n",
    "    all_gws_df_list.append(all_gws_df)\n",
    "all_managers_all_gws_df = pd.concat(all_gws_df_list)\n",
    "all_managers_all_gws_df"
   ]
  },
  {
   "cell_type": "code",
   "execution_count": 8,
   "metadata": {},
   "outputs": [
    {
     "data": {
      "text/plain": [
       "<Axes: xlabel='event'>"
      ]
     },
     "execution_count": 8,
     "metadata": {},
     "output_type": "execute_result"
    },
    {
     "data": {
      "image/png": "[encoded data removed]",
      "text/plain": [
       "<Figure size 640x480 with 1 Axes>"
      ]
     },
     "metadata": {},
     "output_type": "display_data"
    }
   ],
   "source": [
    "pivot_amagw_df = all_managers_all_gws_df.pivot_table(\n",
    "    values=\"total_points\", index=\"event\", columns=\"player_name\"\n",
    ")\n",
    "pivot_amagw_df.plot()"
   ]
  },
  {
   "cell_type": "code",
   "execution_count": 9,
   "metadata": {},
   "outputs": [
    {
     "data": {
      "application/vnd.plotly.v1+json": {
       "config": {
        "plotlyServerURL": "https://plot.ly"
       },
       "data": [
        {
         "hovertemplate": "player_name=James Parfitt<br>event=%{x}<br>total_points=%{y}<extra></extra>",
         "legendgroup": "James Parfitt",
         "line": {
          "color": "#636efa",
          "dash": "solid"
         },
         "marker": {
          "symbol": "circle"
         },
         "mode": "markers+lines",
         "name": "James Parfitt",
         "orientation": "v",
         "showlegend": true,
         "type": "scatter",
         "x": [
          1,
          2,
          3,
          4,
          5,
          6,
          7,
          8,
          9,
          10,
          11,
          12,
          13,
          14,
          15,
          16,
          17,
          18,
          19,
          20,
          21
         ],
         "xaxis": "x",
         "y": [
          74,
          101,
          172,
          245,
          280,
          342,
          403,
          473,
          556,
          637,
          667,
          726,
          785,
          856,
          885,
          925,
          987,
          1028,
          1070,
          1169,
          1221
         ],
         "yaxis": "y"
        },
        {
         "hovertemplate": "player_name=Seb Winn<br>event=%{x}<br>total_points=%{y}<extra></extra>",
         "legendgroup": "Seb Winn",
         "line": {
          "color": "#EF553B",
          "dash": "solid"
         },
         "marker": {
          "symbol": "circle"
         },
         "mode": "markers+lines",
         "name": "Seb Winn",
         "orientation": "v",
         "showlegend": true,
         "type": "scatter",
         "x": [
          1,
          2,
          3,
          4,
          5,
          6,
          7,
          8,
          9,
          10,
          11,
          12,
          13,
          14,
          15,
          16,
          17,
          18,
          19,
          20,
          21
         ],
         "xaxis": "x",
         "y": [
          81,
          126,
          178,
          251,
          286,
          353,
          393,
          437,
          521,
          592,
          628,
          701,
          756,
          815,
          852,
          911,
          974,
          1021,
          1060,
          1148,
          1219
         ],
         "yaxis": "y"
        },
        {
         "hovertemplate": "player_name=Alex Winn<br>event=%{x}<br>total_points=%{y}<extra></extra>",
         "legendgroup": "Alex Winn",
         "line": {
          "color": "#00cc96",
          "dash": "solid"
         },
         "marker": {
          "symbol": "circle"
         },
         "mode": "markers+lines",
         "name": "Alex Winn",
         "orientation": "v",
         "showlegend": true,
         "type": "scatter",
         "x": [
          1,
          2,
          3,
          4,
          5,
          6,
          7,
          8,
          9,
          10,
          11,
          12,
          13,
          14,
          15,
          16,
          17,
          18,
          19,
          20,
          21
         ],
         "xaxis": "x",
         "y": [
          67,
          108,
          154,
          221,
          261,
          346,
          397,
          459,
          563,
          617,
          644,
          735,
          777,
          838,
          872,
          927,
          995,
          1032,
          1075,
          1172,
          1216
         ],
         "yaxis": "y"
        },
        {
         "hovertemplate": "player_name=Jacob Pickles<br>event=%{x}<br>total_points=%{y}<extra></extra>",
         "legendgroup": "Jacob Pickles",
         "line": {
          "color": "#ab63fa",
          "dash": "solid"
         },
         "marker": {
          "symbol": "circle"
         },
         "mode": "markers+lines",
         "name": "Jacob Pickles",
         "orientation": "v",
         "showlegend": true,
         "type": "scatter",
         "x": [
          1,
          2,
          3,
          4,
          5,
          6,
          7,
          8,
          9,
          10,
          11,
          12,
          13,
          14,
          15,
          16,
          17,
          18,
          19,
          20,
          21
         ],
         "xaxis": "x",
         "y": [
          68,
          105,
          128,
          182,
          233,
          302,
          360,
          434,
          516,
          566,
          597,
          668,
          711,
          765,
          799,
          860,
          923,
          977,
          1024,
          1110,
          1174
         ],
         "yaxis": "y"
        },
        {
         "hovertemplate": "player_name=Mason Gardener<br>event=%{x}<br>total_points=%{y}<extra></extra>",
         "legendgroup": "Mason Gardener",
         "line": {
          "color": "#FFA15A",
          "dash": "solid"
         },
         "marker": {
          "symbol": "circle"
         },
         "mode": "markers+lines",
         "name": "Mason Gardener",
         "orientation": "v",
         "showlegend": true,
         "type": "scatter",
         "x": [
          1,
          2,
          3,
          4,
          5,
          6,
          7,
          8,
          9,
          10,
          11,
          12,
          13,
          14,
          15,
          16,
          17,
          18,
          19,
          20,
          21
         ],
         "xaxis": "x",
         "y": [
          67,
          133,
          172,
          244,
          280,
          364,
          418,
          468,
          557,
          625,
          661,
          728,
          773,
          837,
          861,
          934,
          977,
          1019,
          1065,
          1136,
          1167
         ],
         "yaxis": "y"
        },
        {
         "hovertemplate": "player_name=Ben Melhuish<br>event=%{x}<br>total_points=%{y}<extra></extra>",
         "legendgroup": "Ben Melhuish",
         "line": {
          "color": "#19d3f3",
          "dash": "solid"
         },
         "marker": {
          "symbol": "circle"
         },
         "mode": "markers+lines",
         "name": "Ben Melhuish",
         "orientation": "v",
         "showlegend": true,
         "type": "scatter",
         "x": [
          1,
          2,
          3,
          4,
          5,
          6,
          7,
          8,
          9,
          10,
          11,
          12,
          13,
          14,
          15,
          16,
          17,
          18,
          19,
          20,
          21
         ],
         "xaxis": "x",
         "y": [
          84,
          115,
          165,
          251,
          291,
          364,
          403,
          428,
          501,
          561,
          578,
          657,
          722,
          778,
          809,
          852,
          925,
          971,
          1000,
          1074,
          1138
         ],
         "yaxis": "y"
        },
        {
         "hovertemplate": "player_name=Joseph Parsons<br>event=%{x}<br>total_points=%{y}<extra></extra>",
         "legendgroup": "Joseph Parsons",
         "line": {
          "color": "#FF6692",
          "dash": "solid"
         },
         "marker": {
          "symbol": "circle"
         },
         "mode": "markers+lines",
         "name": "Joseph Parsons",
         "orientation": "v",
         "showlegend": true,
         "type": "scatter",
         "x": [
          1,
          2,
          3,
          4,
          5,
          6,
          7,
          8,
          9,
          10,
          11,
          12,
          13,
          14,
          15,
          16,
          17,
          18,
          19,
          20,
          21
         ],
         "xaxis": "x",
         "y": [
          75,
          124,
          157,
          220,
          258,
          346,
          386,
          442,
          506,
          572,
          591,
          666,
          719,
          773,
          806,
          860,
          907,
          958,
          997,
          1082,
          1133
         ],
         "yaxis": "y"
        },
        {
         "hovertemplate": "player_name=Richard Collins<br>event=%{x}<br>total_points=%{y}<extra></extra>",
         "legendgroup": "Richard Collins",
         "line": {
          "color": "#B6E880",
          "dash": "solid"
         },
         "marker": {
          "symbol": "circle"
         },
         "mode": "markers+lines",
         "name": "Richard Collins",
         "orientation": "v",
         "showlegend": true,
         "type": "scatter",
         "x": [
          1,
          2,
          3,
          4,
          5,
          6,
          7,
          8,
          9,
          10,
          11,
          12,
          13,
          14,
          15,
          16,
          17,
          18,
          19,
          20,
          21
         ],
         "xaxis": "x",
         "y": [
          73,
          118,
          154,
          245,
          286,
          352,
          398,
          458,
          545,
          611,
          643,
          710,
          751,
          809,
          835,
          896,
          930,
          981,
          1020,
          1085,
          1126
         ],
         "yaxis": "y"
        },
        {
         "hovertemplate": "player_name=Dan Pratlett<br>event=%{x}<br>total_points=%{y}<extra></extra>",
         "legendgroup": "Dan Pratlett",
         "line": {
          "color": "#FF97FF",
          "dash": "solid"
         },
         "marker": {
          "symbol": "circle"
         },
         "mode": "markers+lines",
         "name": "Dan Pratlett",
         "orientation": "v",
         "showlegend": true,
         "type": "scatter",
         "x": [
          1,
          2,
          3,
          4,
          5,
          6,
          7,
          8,
          9,
          10,
          11,
          12,
          13,
          14,
          15,
          16,
          17,
          18,
          19,
          20,
          21
         ],
         "xaxis": "x",
         "y": [
          72,
          121,
          167,
          247,
          297,
          343,
          403,
          436,
          503,
          554,
          583,
          658,
          708,
          757,
          800,
          837,
          893,
          949,
          988,
          1066,
          1119
         ],
         "yaxis": "y"
        },
        {
         "hovertemplate": "player_name=Ben Wilson<br>event=%{x}<br>total_points=%{y}<extra></extra>",
         "legendgroup": "Ben Wilson",
         "line": {
          "color": "#FECB52",
          "dash": "solid"
         },
         "marker": {
          "symbol": "circle"
         },
         "mode": "markers+lines",
         "name": "Ben Wilson",
         "orientation": "v",
         "showlegend": true,
         "type": "scatter",
         "x": [
          1,
          2,
          3,
          4,
          5,
          6,
          7,
          8,
          9,
          10,
          11,
          12,
          13,
          14,
          15,
          16,
          17,
          18,
          19,
          20,
          21
         ],
         "xaxis": "x",
         "y": [
          62,
          102,
          148,
          221,
          256,
          310,
          354,
          412,
          477,
          543,
          565,
          655,
          694,
          745,
          779,
          835,
          872,
          906,
          948,
          1012,
          1040
         ],
         "yaxis": "y"
        },
        {
         "hovertemplate": "player_name=Ben Anderson<br>event=%{x}<br>total_points=%{y}<extra></extra>",
         "legendgroup": "Ben Anderson",
         "line": {
          "color": "#636efa",
          "dash": "solid"
         },
         "marker": {
          "symbol": "circle"
         },
         "mode": "markers+lines",
         "name": "Ben Anderson",
         "orientation": "v",
         "showlegend": true,
         "type": "scatter",
         "x": [
          1,
          2,
          3,
          4,
          5,
          6,
          7,
          8,
          9,
          10,
          11,
          12,
          13,
          14,
          15,
          16,
          17,
          18,
          19,
          20,
          21
         ],
         "xaxis": "x",
         "y": [
          56,
          96,
          147,
          221,
          263,
          319,
          363,
          408,
          481,
          554,
          577,
          631,
          673,
          716,
          749,
          786,
          855,
          896,
          940,
          989,
          1014
         ],
         "yaxis": "y"
        },
        {
         "hovertemplate": "player_name=Luke Counsell<br>event=%{x}<br>total_points=%{y}<extra></extra>",
         "legendgroup": "Luke Counsell",
         "line": {
          "color": "#EF553B",
          "dash": "solid"
         },
         "marker": {
          "symbol": "circle"
         },
         "mode": "markers+lines",
         "name": "Luke Counsell",
         "orientation": "v",
         "showlegend": true,
         "type": "scatter",
         "x": [
          1,
          2,
          3,
          4,
          5,
          6,
          7,
          8,
          9,
          10,
          11,
          12,
          13,
          14,
          15,
          16,
          17,
          18,
          19,
          20,
          21
         ],
         "xaxis": "x",
         "y": [
          72,
          124,
          173,
          260,
          297,
          354,
          400,
          420,
          477,
          554,
          597,
          647,
          705,
          751,
          781,
          803,
          813,
          846,
          872,
          920,
          936
         ],
         "yaxis": "y"
        }
       ],
       "layout": {
        "legend": {
         "title": {
          "text": "player_name"
         },
         "tracegroupgap": 0
        },
        "margin": {
         "t": 60
        },
        "template": {
         "data": {
          "bar": [
           {
            "error_x": {
             "color": "#2a3f5f"
            },
            "error_y": {
             "color": "#2a3f5f"
            },
            "marker": {
             "line": {
              "color": "#E5ECF6",
              "width": 0.5
             },
             "pattern": {
              "fillmode": "overlay",
              "size": 10,
              "solidity": 0.2
             }
            },
            "type": "bar"
           }
          ],
          "barpolar": [
           {
            "marker": {
             "line": {
              "color": "#E5ECF6",
              "width": 0.5
             },
             "pattern": {
              "fillmode": "overlay",
              "size": 10,
              "solidity": 0.2
             }
            },
            "type": "barpolar"
           }
          ],
          "carpet": [
           {
            "aaxis": {
             "endlinecolor": "#2a3f5f",
             "gridcolor": "white",
             "linecolor": "white",
             "minorgridcolor": "white",
             "startlinecolor": "#2a3f5f"
            },
            "baxis": {
             "endlinecolor": "#2a3f5f",
             "gridcolor": "white",
             "linecolor": "white",
             "minorgridcolor": "white",
             "startlinecolor": "#2a3f5f"
            },
            "type": "carpet"
           }
          ],
          "choropleth": [
           {
            "colorbar": {
             "outlinewidth": 0,
             "ticks": ""
            },
            "type": "choropleth"
           }
          ],
          "contour": [
           {
            "colorbar": {
             "outlinewidth": 0,
             "ticks": ""
            },
            "colorscale": [
             [
              0,
              "#0d0887"
             ],
             [
              0.1111111111111111,
              "#46039f"
             ],
             [
              0.2222222222222222,
              "#7201a8"
             ],
             [
              0.3333333333333333,
              "#9c179e"
             ],
             [
              0.4444444444444444,
              "#bd3786"
             ],
             [
              0.5555555555555556,
              "#d8576b"
             ],
             [
              0.6666666666666666,
              "#ed7953"
             ],
             [
              0.7777777777777778,
              "#fb9f3a"
             ],
             [
              0.8888888888888888,
              "#fdca26"
             ],
             [
              1,
              "#f0f921"
             ]
            ],
            "type": "contour"
           }
          ],
          "contourcarpet": [
           {
            "colorbar": {
             "outlinewidth": 0,
             "ticks": ""
            },
            "type": "contourcarpet"
           }
          ],
          "heatmap": [
           {
            "colorbar": {
             "outlinewidth": 0,
             "ticks": ""
            },
            "colorscale": [
             [
              0,
              "#0d0887"
             ],
             [
              0.1111111111111111,
              "#46039f"
             ],
             [
              0.2222222222222222,
              "#7201a8"
             ],
             [
              0.3333333333333333,
              "#9c179e"
             ],
             [
              0.4444444444444444,
              "#bd3786"
             ],
             [
              0.5555555555555556,
              "#d8576b"
             ],
             [
              0.6666666666666666,
              "#ed7953"
             ],
             [
              0.7777777777777778,
              "#fb9f3a"
             ],
             [
              0.8888888888888888,
              "#fdca26"
             ],
             [
              1,
              "#f0f921"
             ]
            ],
            "type": "heatmap"
           }
          ],
          "heatmapgl": [
           {
            "colorbar": {
             "outlinewidth": 0,
             "ticks": ""
            },
            "colorscale": [
             [
              0,
              "#0d0887"
             ],
             [
              0.1111111111111111,
              "#46039f"
             ],
             [
              0.2222222222222222,
              "#7201a8"
             ],
             [
              0.3333333333333333,
              "#9c179e"
             ],
             [
              0.4444444444444444,
              "#bd3786"
             ],
             [
              0.5555555555555556,
              "#d8576b"
             ],
             [
              0.6666666666666666,
              "#ed7953"
             ],
             [
              0.7777777777777778,
              "#fb9f3a"
             ],
             [
              0.8888888888888888,
              "#fdca26"
             ],
             [
              1,
              "#f0f921"
             ]
            ],
            "type": "heatmapgl"
           }
          ],
          "histogram": [
           {
            "marker": {
             "pattern": {
              "fillmode": "overlay",
              "size": 10,
              "solidity": 0.2
             }
            },
            "type": "histogram"
           }
          ],
          "histogram2d": [
           {
            "colorbar": {
             "outlinewidth": 0,
             "ticks": ""
            },
            "colorscale": [
             [
              0,
              "#0d0887"
             ],
             [
              0.1111111111111111,
              "#46039f"
             ],
             [
              0.2222222222222222,
              "#7201a8"
             ],
             [
              0.3333333333333333,
              "#9c179e"
             ],
             [
              0.4444444444444444,
              "#bd3786"
             ],
             [
              0.5555555555555556,
              "#d8576b"
             ],
             [
              0.6666666666666666,
              "#ed7953"
             ],
             [
              0.7777777777777778,
              "#fb9f3a"
             ],
             [
              0.8888888888888888,
              "#fdca26"
             ],
             [
              1,
              "#f0f921"
             ]
            ],
            "type": "histogram2d"
           }
          ],
          "histogram2dcontour": [
           {
            "colorbar": {
             "outlinewidth": 0,
             "ticks": ""
            },
            "colorscale": [
             [
              0,
              "#0d0887"
             ],
             [
              0.1111111111111111,
              "#46039f"
             ],
             [
              0.2222222222222222,
              "#7201a8"
             ],
             [
              0.3333333333333333,
              "#9c179e"
             ],
             [
              0.4444444444444444,
              "#bd3786"
             ],
             [
              0.5555555555555556,
              "#d8576b"
             ],
             [
              0.6666666666666666,
              "#ed7953"
             ],
             [
              0.7777777777777778,
              "#fb9f3a"
             ],
             [
              0.8888888888888888,
              "#fdca26"
             ],
             [
              1,
              "#f0f921"
             ]
            ],
            "type": "histogram2dcontour"
           }
          ],
          "mesh3d": [
           {
            "colorbar": {
             "outlinewidth": 0,
             "ticks": ""
            },
            "type": "mesh3d"
           }
          ],
          "parcoords": [
           {
            "line": {
             "colorbar": {
              "outlinewidth": 0,
              "ticks": ""
             }
            },
            "type": "parcoords"
           }
          ],
          "pie": [
           {
            "automargin": true,
            "type": "pie"
           }
          ],
          "scatter": [
           {
            "fillpattern": {
             "fillmode": "overlay",
             "size": 10,
             "solidity": 0.2
            },
            "type": "scatter"
           }
          ],
          "scatter3d": [
           {
            "line": {
             "colorbar": {
              "outlinewidth": 0,
              "ticks": ""
             }
            },
            "marker": {
             "colorbar": {
              "outlinewidth": 0,
              "ticks": ""
             }
            },
            "type": "scatter3d"
           }
          ],
          "scattercarpet": [
           {
            "marker": {
             "colorbar": {
              "outlinewidth": 0,
              "ticks": ""
             }
            },
            "type": "scattercarpet"
           }
          ],
          "scattergeo": [
           {
            "marker": {
             "colorbar": {
              "outlinewidth": 0,
              "ticks": ""
             }
            },
            "type": "scattergeo"
           }
          ],
          "scattergl": [
           {
            "marker": {
             "colorbar": {
              "outlinewidth": 0,
              "ticks": ""
             }
            },
            "type": "scattergl"
           }
          ],
          "scattermapbox": [
           {
            "marker": {
             "colorbar": {
              "outlinewidth": 0,
              "ticks": ""
             }
            },
            "type": "scattermapbox"
           }
          ],
          "scatterpolar": [
           {
            "marker": {
             "colorbar": {
              "outlinewidth": 0,
              "ticks": ""
             }
            },
            "type": "scatterpolar"
           }
          ],
          "scatterpolargl": [
           {
            "marker": {
             "colorbar": {
              "outlinewidth": 0,
              "ticks": ""
             }
            },
            "type": "scatterpolargl"
           }
          ],
          "scatterternary": [
           {
            "marker": {
             "colorbar": {
              "outlinewidth": 0,
              "ticks": ""
             }
            },
            "type": "scatterternary"
           }
          ],
          "surface": [
           {
            "colorbar": {
             "outlinewidth": 0,
             "ticks": ""
            },
            "colorscale": [
             [
              0,
              "#0d0887"
             ],
             [
              0.1111111111111111,
              "#46039f"
             ],
             [
              0.2222222222222222,
              "#7201a8"
             ],
             [
              0.3333333333333333,
              "#9c179e"
             ],
             [
              0.4444444444444444,
              "#bd3786"
             ],
             [
              0.5555555555555556,
              "#d8576b"
             ],
             [
              0.6666666666666666,
              "#ed7953"
             ],
             [
              0.7777777777777778,
              "#fb9f3a"
             ],
             [
              0.8888888888888888,
              "#fdca26"
             ],
             [
              1,
              "#f0f921"
             ]
            ],
            "type": "surface"
           }
          ],
          "table": [
           {
            "cells": {
             "fill": {
              "color": "#EBF0F8"
             },
             "line": {
              "color": "white"
             }
            },
            "header": {
             "fill": {
              "color": "#C8D4E3"
             },
             "line": {
              "color": "white"
             }
            },
            "type": "table"
           }
          ]
         },
         "layout": {
          "annotationdefaults": {
           "arrowcolor": "#2a3f5f",
           "arrowhead": 0,
           "arrowwidth": 1
          },
          "autotypenumbers": "strict",
          "coloraxis": {
           "colorbar": {
            "outlinewidth": 0,
            "ticks": ""
           }
          },
          "colorscale": {
           "diverging": [
            [
             0,
             "#8e0152"
            ],
            [
             0.1,
             "#c51b7d"
            ],
            [
             0.2,
             "#de77ae"
            ],
            [
             0.3,
             "#f1b6da"
            ],
            [
             0.4,
             "#fde0ef"
            ],
            [
             0.5,
             "#f7f7f7"
            ],
            [
             0.6,
             "#e6f5d0"
            ],
            [
             0.7,
             "#b8e186"
            ],
            [
             0.8,
             "#7fbc41"
            ],
            [
             0.9,
             "#4d9221"
            ],
            [
             1,
             "#276419"
            ]
           ],
           "sequential": [
            [
             0,
             "#0d0887"
            ],
            [
             0.1111111111111111,
             "#46039f"
            ],
            [
             0.2222222222222222,
             "#7201a8"
            ],
            [
             0.3333333333333333,
             "#9c179e"
            ],
            [
             0.4444444444444444,
             "#bd3786"
            ],
            [
             0.5555555555555556,
             "#d8576b"
            ],
            [
             0.6666666666666666,
             "#ed7953"
            ],
            [
             0.7777777777777778,
             "#fb9f3a"
            ],
            [
             0.8888888888888888,
             "#fdca26"
            ],
            [
             1,
             "#f0f921"
            ]
           ],
           "sequentialminus": [
            [
             0,
             "#0d0887"
            ],
            [
             0.1111111111111111,
             "#46039f"
            ],
            [
             0.2222222222222222,
             "#7201a8"
            ],
            [
             0.3333333333333333,
             "#9c179e"
            ],
            [
             0.4444444444444444,
             "#bd3786"
            ],
            [
             0.5555555555555556,
             "#d8576b"
            ],
            [
             0.6666666666666666,
             "#ed7953"
            ],
            [
             0.7777777777777778,
             "#fb9f3a"
            ],
            [
             0.8888888888888888,
             "#fdca26"
            ],
            [
             1,
             "#f0f921"
            ]
           ]
          },
          "colorway": [
           "#636efa",
           "#EF553B",
           "#00cc96",
           "#ab63fa",
           "#FFA15A",
           "#19d3f3",
           "#FF6692",
           "#B6E880",
           "#FF97FF",
           "#FECB52"
          ],
          "font": {
           "color": "#2a3f5f"
          },
          "geo": {
           "bgcolor": "white",
           "lakecolor": "white",
           "landcolor": "#E5ECF6",
           "showlakes": true,
           "showland": true,
           "subunitcolor": "white"
          },
          "hoverlabel": {
           "align": "left"
          },
          "hovermode": "closest",
          "mapbox": {
           "style": "light"
          },
          "paper_bgcolor": "white",
          "plot_bgcolor": "#E5ECF6",
          "polar": {
           "angularaxis": {
            "gridcolor": "white",
            "linecolor": "white",
            "ticks": ""
           },
           "bgcolor": "#E5ECF6",
           "radialaxis": {
            "gridcolor": "white",
            "linecolor": "white",
            "ticks": ""
           }
          },
          "scene": {
           "xaxis": {
            "backgroundcolor": "#E5ECF6",
            "gridcolor": "white",
            "gridwidth": 2,
            "linecolor": "white",
            "showbackground": true,
            "ticks": "",
            "zerolinecolor": "white"
           },
           "yaxis": {
            "backgroundcolor": "#E5ECF6",
            "gridcolor": "white",
            "gridwidth": 2,
            "linecolor": "white",
            "showbackground": true,
            "ticks": "",
            "zerolinecolor": "white"
           },
           "zaxis": {
            "backgroundcolor": "#E5ECF6",
            "gridcolor": "white",
            "gridwidth": 2,
            "linecolor": "white",
            "showbackground": true,
            "ticks": "",
            "zerolinecolor": "white"
           }
          },
          "shapedefaults": {
           "line": {
            "color": "#2a3f5f"
           }
          },
          "ternary": {
           "aaxis": {
            "gridcolor": "white",
            "linecolor": "white",
            "ticks": ""
           },
           "baxis": {
            "gridcolor": "white",
            "linecolor": "white",
            "ticks": ""
           },
           "bgcolor": "#E5ECF6",
           "caxis": {
            "gridcolor": "white",
            "linecolor": "white",
            "ticks": ""
           }
          },
          "title": {
           "x": 0.05
          },
          "xaxis": {
           "automargin": true,
           "gridcolor": "white",
           "linecolor": "white",
           "ticks": "",
           "title": {
            "standoff": 15
           },
           "zerolinecolor": "white",
           "zerolinewidth": 2
          },
          "yaxis": {
           "automargin": true,
           "gridcolor": "white",
           "linecolor": "white",
           "ticks": "",
           "title": {
            "standoff": 15
           },
           "zerolinecolor": "white",
           "zerolinewidth": 2
          }
         }
        },
        "xaxis": {
         "anchor": "y",
         "domain": [
          0,
          1
         ],
         "title": {
          "text": "event"
         }
        },
        "yaxis": {
         "anchor": "x",
         "domain": [
          0,
          1
         ],
         "title": {
          "text": "total_points"
         }
        }
       }
      }
     },
     "metadata": {},
     "output_type": "display_data"
    }
   ],
   "source": [
    "fig = px.line(\n",
    "    all_managers_all_gws_df,\n",
    "    x=\"event\",\n",
    "    y=\"total_points\",\n",
    "    color=\"player_name\",\n",
    "    markers=True,\n",
    ")\n",
    "fig.show()"
   ]
  },
  {
   "cell_type": "markdown",
   "metadata": {},
   "source": [
    "## Make team selection matrix"
   ]
  },
  {
   "cell_type": "markdown",
   "metadata": {},
   "source": [
    "### Open player data and make ID map"
   ]
  },
  {
   "cell_type": "code",
   "execution_count": 10,
   "metadata": {},
   "outputs": [
    {
     "data": {
      "text/plain": [
       "{1: 'Balogun',\n",
       " 2: 'Cédric',\n",
       " 3: 'M.Elneny',\n",
       " 4: 'Fábio Vieira',\n",
       " 5: 'Gabriel',\n",
       " 6: 'Havertz',\n",
       " 8: 'G.Jesus',\n",
       " 9: 'Jorginho',\n",
       " 10: 'Kiwior',\n",
       " 11: 'Marquinhos',\n",
       " 12: 'Martinelli',\n",
       " 13: 'Nketiah',\n",
       " 14: 'Ødegaard',\n",
       " 15: 'Thomas',\n",
       " 16: 'Pepe',\n",
       " 17: 'Ramsdale',\n",
       " 18: 'Rúnarsson',\n",
       " 19: 'Saka',\n",
       " 20: 'Saliba',\n",
       " 22: 'Smith Rowe',\n",
       " 24: 'Tierney',\n",
       " 25: 'Tomiyasu',\n",
       " 26: 'Trossard',\n",
       " 29: 'White',\n",
       " 30: 'Xhaka',\n",
       " 31: 'Zinchenko',\n",
       " 113: 'Raya',\n",
       " 540: 'Rice',\n",
       " 578: 'Nelson',\n",
       " 585: 'J.Timber',\n",
       " 646: 'Hein',\n",
       " 735: 'Sagoe',\n",
       " 736: 'Walters',\n",
       " 737: 'Ibrahim',\n",
       " 764: 'Lewis-Skelly',\n",
       " 772: 'Nwaneri',\n",
       " 32: 'Alex Moreno',\n",
       " 34: 'Bailey',\n",
       " 35: 'Buendia',\n",
       " 36: 'Cash',\n",
       " 37: 'Chambers',\n",
       " 38: 'Coutinho',\n",
       " 39: 'Davis',\n",
       " 40: 'Dendoncker',\n",
       " 41: 'Diego Carlos',\n",
       " 42: 'Digne',\n",
       " 43: 'Douglas Luiz',\n",
       " 44: 'Duran',\n",
       " 45: 'Hause',\n",
       " 46: 'Iroegbunam',\n",
       " 47: 'Kamara',\n",
       " 48: 'Konsa',\n",
       " 49: 'Martinez',\n",
       " 50: 'McGinn',\n",
       " 51: 'Mings',\n",
       " 53: 'Olsen',\n",
       " 54: 'Philogene',\n",
       " 55: 'J.Ramsey',\n",
       " 56: 'Sanson',\n",
       " 57: 'Sinisalo',\n",
       " 58: 'Tielemans',\n",
       " 59: 'Bertrand Traoré',\n",
       " 60: 'Watkins',\n",
       " 61: 'Wesley',\n",
       " 584: 'Pau',\n",
       " 599: 'Diaby',\n",
       " 618: 'Kellyman',\n",
       " 670: 'Marschall',\n",
       " 672: 'Zaniolo',\n",
       " 686: 'Zych',\n",
       " 699: 'Lenglet',\n",
       " 765: 'Proctor',\n",
       " 767: \"O'Reilly\",\n",
       " 62: 'Anthony',\n",
       " 63: 'Billing',\n",
       " 64: 'Brooks',\n",
       " 65: 'Christie',\n",
       " 66: 'L.Cook',\n",
       " 67: 'Siriki',\n",
       " 68: 'Fredericks',\n",
       " 69: 'Hill',\n",
       " 70: 'Kelly',\n",
       " 71: 'Kilkenny',\n",
       " 72: 'Kluivert',\n",
       " 73: 'Lowe',\n",
       " 74: 'Marcondes',\n",
       " 75: 'Mepham',\n",
       " 76: 'Moore',\n",
       " 77: 'Neto',\n",
       " 78: 'O.Dango',\n",
       " 79: 'Pearson',\n",
       " 80: 'Randolph',\n",
       " 81: 'Rothwell',\n",
       " 82: 'Semenyo',\n",
       " 83: 'Senesi',\n",
       " 84: 'Smith',\n",
       " 85: 'Solanke',\n",
       " 86: 'Tavernier',\n",
       " 87: 'Hamed Traorè',\n",
       " 88: 'Travers',\n",
       " 89: 'Zabarnyi',\n",
       " 595: 'Kerkez',\n",
       " 607: 'Radu',\n",
       " 619: 'Greenwood',\n",
       " 643: 'Aarons',\n",
       " 644: 'Scott',\n",
       " 673: 'Adams',\n",
       " 705: 'Sinisterra',\n",
       " 90: 'Ajer',\n",
       " 91: 'Balcombe',\n",
       " 92: 'Baptiste',\n",
       " 93: 'Bech',\n",
       " 94: 'Bidstrup',\n",
       " 95: 'Canós',\n",
       " 96: 'Collins',\n",
       " 97: 'Cox',\n",
       " 98: 'Damsgaard',\n",
       " 99: 'Dasilva',\n",
       " 100: 'Dervişoğlu',\n",
       " 101: 'Flekken',\n",
       " 102: 'Goode',\n",
       " 103: 'Henry',\n",
       " 104: 'Hickey',\n",
       " 105: 'Janelt',\n",
       " 106: 'Jensen',\n",
       " 107: 'Lewis-Potter',\n",
       " 108: 'Mbeumo',\n",
       " 109: 'Mee',\n",
       " 110: 'Nørgaard',\n",
       " 111: 'Onyeka',\n",
       " 112: 'Pinnock',\n",
       " 114: 'Roerslev',\n",
       " 115: 'Schade',\n",
       " 116: 'Strakosha',\n",
       " 117: 'Toney',\n",
       " 118: 'Trevitt',\n",
       " 119: 'Wissa',\n",
       " 120: 'Yarmoliuk',\n",
       " 121: 'Zanka',\n",
       " 258: 'Maupay',\n",
       " 620: 'Olakigbe',\n",
       " 684: 'Brierley',\n",
       " 701: 'Ghoddos',\n",
       " 725: 'Kim Ji-Soo',\n",
       " 733: 'Adedokun',\n",
       " 744: 'Peart-Harris',\n",
       " 752: 'Angelini',\n",
       " 122: 'Adingra',\n",
       " 123: 'Alzate',\n",
       " 124: 'Ayari',\n",
       " 125: 'Buonanotte',\n",
       " 127: 'Connolly',\n",
       " 128: 'Dahoud',\n",
       " 129: 'Dunk',\n",
       " 130: 'Enciso',\n",
       " 131: 'Estupiñan',\n",
       " 132: 'Ferguson',\n",
       " 133: 'Gilmour',\n",
       " 134: 'Gross',\n",
       " 135: 'João Pedro',\n",
       " 136: 'Karbownik',\n",
       " 137: 'Kozłowski',\n",
       " 138: 'Lallana',\n",
       " 139: 'Lamptey',\n",
       " 140: 'March',\n",
       " 141: 'McGill',\n",
       " 142: 'Milner',\n",
       " 143: 'Mitoma',\n",
       " 144: 'Moder',\n",
       " 146: 'Sarmiento',\n",
       " 147: 'Scherpen',\n",
       " 148: 'Steele',\n",
       " 149: 'Undav',\n",
       " 150: 'Van Hecke',\n",
       " 151: 'Veltman',\n",
       " 152: 'Verbruggen',\n",
       " 153: 'Webster',\n",
       " 154: 'Welbeck',\n",
       " 155: 'Zeqiri',\n",
       " 606: 'Igor',\n",
       " 621: 'Hinshelwood',\n",
       " 690: 'Baleba',\n",
       " 700: 'Ansu Fati',\n",
       " 741: 'O’Mahony',\n",
       " 742: 'Baker-Boaitey',\n",
       " 746: 'Jackson',\n",
       " 747: 'Duffus',\n",
       " 753: 'Kavanagh',\n",
       " 755: 'Barrington',\n",
       " 156: 'Agyei',\n",
       " 157: 'Al-Dakhil',\n",
       " 158: 'Bastien',\n",
       " 159: 'Benson',\n",
       " 160: 'Beyer',\n",
       " 161: 'Brownhill',\n",
       " 162: 'Churlinov',\n",
       " 163: 'Cork',\n",
       " 164: 'Costelloe',\n",
       " 165: 'Cullen',\n",
       " 166: 'Egan-Riley',\n",
       " 167: 'Ekdal',\n",
       " 168: 'Foster',\n",
       " 169: 'Franchi',\n",
       " 170: 'Gudmundsson',\n",
       " 171: 'McNally',\n",
       " 172: 'Muric',\n",
       " 173: \"O'Shea\",\n",
       " 174: 'Obafemi',\n",
       " 175: 'Peacock-Farrell',\n",
       " 176: 'Roberts',\n",
       " 177: 'Rodriguez',\n",
       " 178: 'Taylor',\n",
       " 179: 'Thomas',\n",
       " 180: 'Twine',\n",
       " 181: 'Vigouroux',\n",
       " 182: 'Vitinho',\n",
       " 183: 'Weghorst',\n",
       " 184: 'Zaroury',\n",
       " 475: 'Berge',\n",
       " 594: 'Amdouni',\n",
       " 596: 'Trafford',\n",
       " 600: 'Redmond',\n",
       " 605: 'Koleosho',\n",
       " 608: 'Bruun Larsen',\n",
       " 622: 'Dodgson',\n",
       " 660: 'Odobert',\n",
       " 674: 'Delcroix',\n",
       " 675: 'A.Ramsey',\n",
       " 694: 'Massengo',\n",
       " 706: 'M.Trésor',\n",
       " 126: 'Caicedo',\n",
       " 145: 'Sanchez',\n",
       " 185: 'Ampadu',\n",
       " 187: 'Arrizabalaga',\n",
       " 188: 'Aubameyang',\n",
       " 189: 'Azpilicueta',\n",
       " 190: 'Baba',\n",
       " 191: 'B.Badiashile',\n",
       " 192: 'Bettinelli',\n",
       " 193: 'Broja',\n",
       " 194: 'Chalobah',\n",
       " 195: 'Chilwell',\n",
       " 196: 'Chukwuemeka',\n",
       " 197: 'Colwill',\n",
       " 198: 'Cucurella',\n",
       " 199: 'Enzo',\n",
       " 200: 'D.D.Fofana',\n",
       " 201: 'W.Fofana',\n",
       " 202: 'Gallagher',\n",
       " 203: 'Gusto',\n",
       " 206: 'James',\n",
       " 207: 'Lukaku',\n",
       " 208: 'Madueke',\n",
       " 210: 'Mudryk',\n",
       " 211: 'N.Jackson',\n",
       " 212: 'Nkunku',\n",
       " 213: 'Pulisic',\n",
       " 214: 'M.Sarr',\n",
       " 215: 'Slonina',\n",
       " 216: 'Sterling',\n",
       " 217: 'T.Silva',\n",
       " 218: 'Ziyech',\n",
       " 362: 'Palmer',\n",
       " 589: 'Ângelo',\n",
       " 609: 'Maatsen',\n",
       " 611: 'Disasi',\n",
       " 613: 'Ugochukwu',\n",
       " 623: 'Burstow',\n",
       " 659: 'Bergström',\n",
       " 667: 'Lavia',\n",
       " 671: 'Humphreys',\n",
       " 677: 'Deivid',\n",
       " 680: 'Beach',\n",
       " 681: 'Diego Moreira',\n",
       " 687: 'Petrovic',\n",
       " 716: 'Gilchrist',\n",
       " 717: 'Stutter',\n",
       " 718: 'Matos',\n",
       " 723: 'Brooking',\n",
       " 758: 'Castledine',\n",
       " 7: 'Holding',\n",
       " 219: 'Ahamada',\n",
       " 220: 'Andersen',\n",
       " 221: 'J.Ayew',\n",
       " 222: 'Clyne',\n",
       " 223: 'C.Doucouré',\n",
       " 224: 'Ebiowei',\n",
       " 225: 'Edouard',\n",
       " 226: 'Eze',\n",
       " 227: 'Guaita',\n",
       " 228: 'Guéhi',\n",
       " 229: 'Hughes',\n",
       " 230: 'Johnstone',\n",
       " 231: 'Lerma',\n",
       " 232: 'Mateta',\n",
       " 233: 'Matthews',\n",
       " 234: 'Mitchell',\n",
       " 235: \"O'Brien\",\n",
       " 236: 'Olise',\n",
       " 237: 'Plange',\n",
       " 238: 'C.Richards',\n",
       " 239: 'Riedewald',\n",
       " 240: 'Schlupp',\n",
       " 241: 'Tomkins',\n",
       " 242: 'Ward',\n",
       " 243: 'Whitworth',\n",
       " 385: 'Henderson',\n",
       " 615: 'Matheus França',\n",
       " 657: 'Rak-Sakyi',\n",
       " 658: 'Gordon',\n",
       " 720: 'Ola-Adebomi',\n",
       " 721: 'Ozoh',\n",
       " 724: 'Raymond',\n",
       " 763: 'Adaramola',\n",
       " 244: 'André Gomes',\n",
       " 245: 'Branthwaite',\n",
       " 246: 'Calvert-Lewin',\n",
       " 247: 'Coleman',\n",
       " 248: 'Dele',\n",
       " 249: 'A.Doucoure',\n",
       " 250: 'Garner',\n",
       " 251: 'Gbamin',\n",
       " 252: 'Godfrey',\n",
       " 253: 'Gray',\n",
       " 254: 'Gana',\n",
       " 255: 'Holgate',\n",
       " 257: 'Keane',\n",
       " 259: 'McNeil',\n",
       " 260: 'Mykolenko',\n",
       " 261: 'Onana',\n",
       " 262: 'Patterson',\n",
       " 263: 'Pickford',\n",
       " 264: 'Simms',\n",
       " 265: 'Tarkowski',\n",
       " 266: 'J.Virginia',\n",
       " 579: 'Lonergan',\n",
       " 588: 'Young',\n",
       " 601: 'Danjuma',\n",
       " 624: 'Dobbin',\n",
       " 645: 'Y. Chermiti',\n",
       " 649: 'Cannon',\n",
       " 650: 'Onyango',\n",
       " 661: 'Harrison',\n",
       " 691: 'Beto',\n",
       " 719: 'Hunt',\n",
       " 760: 'Metcalfe',\n",
       " 761: 'Campbell',\n",
       " 256: 'Iwobi',\n",
       " 267: 'Andreas',\n",
       " 268: 'Cairney',\n",
       " 269: 'I.Cavaleiro',\n",
       " 270: 'De Cordova-Reid',\n",
       " 271: 'Diop',\n",
       " 272: 'Francois',\n",
       " 273: 'Knockaert',\n",
       " 274: 'Kongolo',\n",
       " 275: 'Leno',\n",
       " 276: 'Lukić',\n",
       " 277: 'Mbabu',\n",
       " 278: 'Mitrović',\n",
       " 279: 'Muniz',\n",
       " 280: 'J.Palhinha',\n",
       " 281: 'Ream',\n",
       " 282: 'Reed',\n",
       " 283: 'Robinson',\n",
       " 284: 'Rodák',\n",
       " 285: 'Tete',\n",
       " 286: 'Tosin',\n",
       " 287: 'Vinícius',\n",
       " 288: 'Wilson',\n",
       " 558: 'Raúl',\n",
       " 591: 'Willian',\n",
       " 610: 'Bassey',\n",
       " 625: 'De Fougerolles',\n",
       " 651: 'Stansfield',\n",
       " 652: 'Dibley-Dias',\n",
       " 662: 'Adama',\n",
       " 683: 'Harris',\n",
       " 688: 'Castagne',\n",
       " 692: 'Benda',\n",
       " 707: 'Ballo-Touré',\n",
       " 732: 'Tanton',\n",
       " 289: 'Adrián',\n",
       " 290: 'Alexander-Arnold',\n",
       " 291: 'A.Becker',\n",
       " 292: 'Bajcetic',\n",
       " 293: 'Darwin',\n",
       " 294: 'Diogo J.',\n",
       " 295: 'Elliott',\n",
       " 296: 'Fabinho',\n",
       " 297: 'Gakpo',\n",
       " 298: 'Gomez',\n",
       " 299: 'Henderson',\n",
       " 300: 'Jones',\n",
       " 301: 'Kelleher',\n",
       " 302: 'Konaté',\n",
       " 303: 'Luis Díaz',\n",
       " 304: 'Mac Allister',\n",
       " 305: 'Matip',\n",
       " 306: 'Phillips',\n",
       " 307: 'Robertson',\n",
       " 308: 'Salah',\n",
       " 309: 'Szoboszlai',\n",
       " 310: 'Thiago',\n",
       " 311: 'Tsimikas',\n",
       " 312: 'Van den Berg',\n",
       " 313: 'Virgil',\n",
       " 626: 'Quansah',\n",
       " 627: 'Clark',\n",
       " 628: 'Doak',\n",
       " 629: 'McConnell',\n",
       " 668: 'Endo',\n",
       " 708: 'Gravenberch',\n",
       " 726: 'Chambers',\n",
       " 728: 'Scanlon',\n",
       " 743: 'Nyoni',\n",
       " 756: 'Pitaluga',\n",
       " 757: 'Bradley',\n",
       " 21: 'Sambi',\n",
       " 52: 'Nakamba',\n",
       " 314: 'Adebayo',\n",
       " 315: 'Andersen',\n",
       " 316: 'Bell',\n",
       " 317: 'Berry',\n",
       " 318: 'Burke',\n",
       " 319: 'Campbell',\n",
       " 320: 'Clark',\n",
       " 321: 'Doughty',\n",
       " 322: 'Freeman',\n",
       " 323: 'Macey',\n",
       " 324: 'McAtee',\n",
       " 325: 'Mendes',\n",
       " 326: 'Morris',\n",
       " 327: 'Muskwe',\n",
       " 328: 'Ogbene',\n",
       " 329: 'Onyedinma',\n",
       " 330: 'Osho',\n",
       " 331: 'Pepple',\n",
       " 332: 'Pereira',\n",
       " 333: 'Potts',\n",
       " 334: 'Rea',\n",
       " 335: 'Shea',\n",
       " 336: 'Taylor',\n",
       " 337: 'Thorpe',\n",
       " 338: 'Walton',\n",
       " 339: 'Watson',\n",
       " 340: 'Woodrow',\n",
       " 393: 'Mengi',\n",
       " 553: 'Giles',\n",
       " 575: 'Lockyer',\n",
       " 582: 'Mpanzu',\n",
       " 586: 'Chong',\n",
       " 602: 'Kaboré',\n",
       " 614: 'Kaminski',\n",
       " 630: 'Barkley',\n",
       " 631: 'Brown',\n",
       " 648: 'Francis-Clarke',\n",
       " 665: 'Krul',\n",
       " 682: 'Johnson',\n",
       " 727: 'Townsend',\n",
       " 729: 'Luker',\n",
       " 734: 'Nelson',\n",
       " 341: 'Akanji',\n",
       " 342: 'Aké',\n",
       " 343: 'J.Alvarez',\n",
       " 344: 'Bernardo',\n",
       " 345: 'Bobb',\n",
       " 346: 'Cancelo',\n",
       " 347: 'Carson',\n",
       " 348: 'Charles',\n",
       " 349: 'De Bruyne',\n",
       " 350: 'Rúben',\n",
       " 352: 'Ederson M.',\n",
       " 353: 'Foden',\n",
       " 354: 'Grealish',\n",
       " 355: 'Haaland',\n",
       " 356: 'Kovačić',\n",
       " 357: 'Laporte',\n",
       " 358: 'R.Lewis',\n",
       " 359: 'Mahrez',\n",
       " 361: 'Ortega Moreno',\n",
       " 363: 'Perrone',\n",
       " 364: 'Phillips',\n",
       " 365: 'Rodrigo',\n",
       " 366: 'Sergio Gómez',\n",
       " 367: 'Steffen',\n",
       " 368: 'Stones',\n",
       " 369: 'Walker',\n",
       " 566: 'Matheus N.',\n",
       " 616: 'Gvardiol',\n",
       " 678: 'Doku',\n",
       " 762: 'Susoho',\n",
       " 771: 'Hamilton',\n",
       " 209: 'Mount',\n",
       " 370: 'Alex Telles',\n",
       " 371: 'Amad',\n",
       " 372: 'Antony',\n",
       " 373: 'B.Fernandes',\n",
       " 374: 'B.Williams',\n",
       " 375: 'Bailly',\n",
       " 376: 'Casemiro',\n",
       " 377: 'Dalot',\n",
       " 379: 'Eriksen',\n",
       " 380: 'Fernandez',\n",
       " 381: 'Fred',\n",
       " 382: 'Garnacho',\n",
       " 383: 'Hannibal',\n",
       " 384: 'Heaton',\n",
       " 386: 'Lindelof',\n",
       " 387: 'Maguire',\n",
       " 388: 'Mainoo',\n",
       " 389: 'Malacia',\n",
       " 390: 'Martial',\n",
       " 391: 'Martinez',\n",
       " 392: 'McTominay',\n",
       " 394: 'Pellistri',\n",
       " 395: 'R.Varane',\n",
       " 396: 'Rashford',\n",
       " 397: 'Sancho',\n",
       " 398: 'Shaw',\n",
       " 399: 'Shoretire',\n",
       " 400: 'Van de Beek',\n",
       " 401: 'Wan-Bissaka',\n",
       " 508: 'Reguilón',\n",
       " 597: 'Onana',\n",
       " 617: 'Højlund',\n",
       " 632: 'Forson',\n",
       " 669: 'Vítek',\n",
       " 685: 'Gore',\n",
       " 695: 'Altay',\n",
       " 703: 'Evans',\n",
       " 709: 'Amrabat',\n",
       " 748: 'Hugill',\n",
       " 766: 'Kambwala',\n",
       " 768: 'Bennett',\n",
       " 204: 'Hall',\n",
       " 402: 'Almirón',\n",
       " 403: 'Anderson',\n",
       " 404: 'Ashby',\n",
       " 405: 'Botman',\n",
       " 406: 'Bruno G.',\n",
       " 407: 'Burn',\n",
       " 408: 'Darlow',\n",
       " 409: 'Dubravka',\n",
       " 410: 'Fraser',\n",
       " 411: 'Gillespie',\n",
       " 412: 'Gordon',\n",
       " 413: 'Hayden',\n",
       " 414: 'Hendrick',\n",
       " 415: 'Isak',\n",
       " 416: 'Joelinton',\n",
       " 417: 'Krafth',\n",
       " 418: 'Kuol',\n",
       " 419: 'Lascelles',\n",
       " 420: 'J.Lewis',\n",
       " 421: 'Longstaff',\n",
       " 422: 'Manquillo',\n",
       " 423: 'J.Murphy',\n",
       " 424: 'Pope',\n",
       " 425: 'Ritchie',\n",
       " 426: 'Saint-Maximin',\n",
       " 427: 'Schär',\n",
       " 428: 'Targett',\n",
       " 429: 'Tonali',\n",
       " 430: 'Trippier',\n",
       " 431: 'Watts',\n",
       " 432: 'Willock',\n",
       " 433: 'Wilson',\n",
       " 580: 'Karius',\n",
       " 581: 'Dummett',\n",
       " 603: 'Barnes',\n",
       " 633: 'Livramento',\n",
       " 634: 'A.Murphy',\n",
       " 635: 'Miley',\n",
       " 738: 'Diallo',\n",
       " 739: 'Parkinson',\n",
       " 745: 'Ndiweni',\n",
       " 23: 'Tavares',\n",
       " 28: 'Turner',\n",
       " 186: 'Andrey',\n",
       " 205: 'Hudson-Odoi',\n",
       " 378: 'Elanga',\n",
       " 434: 'B.Aguilera',\n",
       " 435: 'Arter',\n",
       " 436: 'Aurier',\n",
       " 437: 'Awoniyi',\n",
       " 438: 'Biancone',\n",
       " 439: 'Boly',\n",
       " 440: 'Bowler',\n",
       " 441: 'Cook',\n",
       " 442: 'Danilo',\n",
       " 443: 'Dennis',\n",
       " 444: 'Dräger',\n",
       " 445: 'Felipe',\n",
       " 446: 'Freuler',\n",
       " 447: 'Gibbs-White',\n",
       " 448: 'Hennessey',\n",
       " 449: 'Horvath',\n",
       " 451: 'Kouyaté',\n",
       " 452: 'Laryea',\n",
       " 453: 'Mangala',\n",
       " 454: 'Mbe Soh',\n",
       " 455: 'McKenna',\n",
       " 456: 'Mighten',\n",
       " 457: 'Niakhaté',\n",
       " 458: \"O'Brien\",\n",
       " 459: 'Ojeda',\n",
       " 460: 'Panzo',\n",
       " 461: 'O.Richards',\n",
       " 462: 'G.Scarpa',\n",
       " 463: 'J.Shelvey',\n",
       " 464: 'Surridge',\n",
       " 465: 'Toffolo',\n",
       " 466: 'Ui-jo',\n",
       " 467: 'Williams',\n",
       " 468: 'Wood',\n",
       " 469: 'Worrall',\n",
       " 470: 'Yates',\n",
       " 604: 'Aina',\n",
       " 636: 'G.Shelvey',\n",
       " 637: 'Powell',\n",
       " 679: 'G.Montiel',\n",
       " 696: 'Murillo',\n",
       " 710: 'Odysseas',\n",
       " 711: 'Omobamidele',\n",
       " 712: 'Dominguez',\n",
       " 713: 'Sangaré',\n",
       " 714: 'Origi',\n",
       " 27: 'Trusty',\n",
       " 33: 'Archer',\n",
       " 360: 'McAtee',\n",
       " 471: 'Ahmedhodžić',\n",
       " 472: 'Amissah',\n",
       " 473: 'Baldock',\n",
       " 474: 'Basham',\n",
       " 476: 'Bogle',\n",
       " 477: 'Brewster',\n",
       " 478: 'Coulibaly',\n",
       " 479: 'A.Davies',\n",
       " 480: 'Egan',\n",
       " 481: 'Fleck',\n",
       " 482: 'Foderingham',\n",
       " 483: 'Jebbison',\n",
       " 484: 'Lowe',\n",
       " 485: 'McBurnie',\n",
       " 486: 'Ndiaye',\n",
       " 487: 'Norrington-Davies',\n",
       " 488: 'Norwood',\n",
       " 489: 'Osborn',\n",
       " 490: 'Osula',\n",
       " 576: 'Robinson',\n",
       " 587: 'Slimane',\n",
       " 592: 'Larouci',\n",
       " 593: 'T.Bénie',\n",
       " 638: 'Vini Souza',\n",
       " 653: 'Seriki',\n",
       " 654: 'Marsh',\n",
       " 655: 'Brooks',\n",
       " 656: 'Hackford',\n",
       " 663: 'Hamer',\n",
       " 666: 'T.Davies',\n",
       " 693: 'Thomas',\n",
       " 730: 'Oné',\n",
       " 731: 'Buyabu',\n",
       " 759: 'Peck',\n",
       " 450: 'Johnson',\n",
       " 491: 'Austin',\n",
       " 492: 'Bentancur',\n",
       " 493: 'Bissouma',\n",
       " 494: 'Bryan',\n",
       " 495: 'Davies',\n",
       " 496: 'Dier',\n",
       " 497: 'E.Royal',\n",
       " 498: 'Forster',\n",
       " 499: 'Højbjerg',\n",
       " 500: 'Kane',\n",
       " 501: 'Kulusevski',\n",
       " 502: 'Lloris',\n",
       " 503: 'Lo Celso',\n",
       " 504: 'Maddison',\n",
       " 505: 'Ndombele',\n",
       " 506: 'Pedro Porro',\n",
       " 507: 'Perišić',\n",
       " 509: 'Richarlison',\n",
       " 510: 'Rodon',\n",
       " 511: 'Romero',\n",
       " 512: 'Sánchez',\n",
       " 513: 'Sarr',\n",
       " 514: 'Sessegnon',\n",
       " 515: 'Skipp',\n",
       " 516: 'Son',\n",
       " 517: 'Spence',\n",
       " 518: 'Tanganga',\n",
       " 519: 'Udogie',\n",
       " 520: 'Vicario',\n",
       " 521: 'Whiteman',\n",
       " 583: 'Solomon',\n",
       " 639: 'Van de Ven',\n",
       " 640: 'Scarlett',\n",
       " 641: 'Veliz',\n",
       " 702: 'Phillips',\n",
       " 722: 'Donley',\n",
       " 740: 'Dorrington',\n",
       " 754: 'Yago Santiago',\n",
       " 522: 'N.Aguerd',\n",
       " 523: 'Antonio',\n",
       " 524: 'Areola',\n",
       " 525: 'Benrahma',\n",
       " 526: 'Bowen',\n",
       " 527: 'Cornet',\n",
       " 528: 'Coufal',\n",
       " 529: 'Coventry',\n",
       " 530: 'Cresswell',\n",
       " 531: 'Downes',\n",
       " 532: 'Emerson',\n",
       " 533: 'Fabianski',\n",
       " 534: 'P.Fornals',\n",
       " 535: 'Ings',\n",
       " 536: 'Johnson',\n",
       " 537: 'Kehrer',\n",
       " 538: 'Mubama',\n",
       " 539: 'L.Paquetá',\n",
       " 541: 'Scamacca',\n",
       " 542: 'Souček',\n",
       " 543: 'Vlašić',\n",
       " 544: 'Zouma',\n",
       " 577: 'Ogbonna',\n",
       " 642: 'Álvarez',\n",
       " 647: 'Anang',\n",
       " 664: 'Ward-Prowse',\n",
       " 676: 'Mavropanos',\n",
       " 689: 'Kudus',\n",
       " 773: 'Orford',\n",
       " 774: 'Casey',\n",
       " 351: 'Doyle',\n",
       " 545: 'Aït-Nouri',\n",
       " 546: 'Bentley',\n",
       " 547: 'Bolla',\n",
       " 548: 'H.Bueno',\n",
       " 549: 'Chiquinho',\n",
       " 550: 'Cundle',\n",
       " 551: 'Dawson',\n",
       " 552: 'Fábio Silva',\n",
       " 554: 'Guedes',\n",
       " 555: 'Hodge',\n",
       " 556: 'Hoever',\n",
       " 557: 'Hee Chan',\n",
       " 559: 'João Gomes',\n",
       " 560: 'J.Otto',\n",
       " 561: 'Jordão',\n",
       " 562: 'Kalajdžić',\n",
       " 563: 'Kilman',\n",
       " 564: 'King',\n",
       " 565: 'Lemina',\n",
       " 567: 'Neto',\n",
       " 568: 'Podence',\n",
       " 569: 'José Sá',\n",
       " 570: 'Sarabia',\n",
       " 571: 'Šarkić',\n",
       " 572: 'N.Semedo',\n",
       " 573: 'Toti',\n",
       " 574: 'Boubacar Traore',\n",
       " 590: 'Cunha',\n",
       " 598: 'Doherty',\n",
       " 697: 'S.Bueno',\n",
       " 698: 'González',\n",
       " 704: 'Fraser',\n",
       " 715: 'Bellegarde',\n",
       " 749: 'Whittingham',\n",
       " 750: 'Chirewa',\n",
       " 751: 'Hubner',\n",
       " 769: 'Hesketh',\n",
       " 770: 'Barnett'}"
      ]
     },
     "execution_count": 10,
     "metadata": {},
     "output_type": "execute_result"
    }
   ],
   "source": [
    "players_df = pd.read_csv(cwd + \"/../data/external/players_raw.csv\")\n",
    "players_df.loc[:, [\"id\", \"web_name\"]]\n",
    "id_name_dict = pd.Series(\n",
    "    players_df[\"web_name\"].values, index=players_df[\"id\"]\n",
    ").to_dict()\n",
    "id_name_dict"
   ]
  },
  {
   "cell_type": "markdown",
   "metadata": {},
   "source": [
    "### Do the same for manager_id"
   ]
  },
  {
   "cell_type": "code",
   "execution_count": 11,
   "metadata": {},
   "outputs": [
    {
     "data": {
      "text/plain": [
       "{4651100: 'James Parfitt',\n",
       " 7052472: 'Seb Winn',\n",
       " 3794145: 'Alex Winn',\n",
       " 3148659: 'Jacob Pickles',\n",
       " 6963106: 'Mason Gardener',\n",
       " 4075412: 'Ben Melhuish',\n",
       " 4656770: 'Joseph Parsons',\n",
       " 6911033: 'Richard Collins',\n",
       " 3194123: 'Dan Pratlett',\n",
       " 6083206: 'Ben Wilson',\n",
       " 2709514: 'Ben Anderson',\n",
       " 4371621: 'Luke Counsell'}"
      ]
     },
     "execution_count": 11,
     "metadata": {},
     "output_type": "execute_result"
    }
   ],
   "source": [
    "manager_id_name_dict = pd.Series(\n",
    "    league_df[\"player_name\"].values, index=league_df[\"entry\"]\n",
    ").to_dict()\n",
    "manager_id_name_dict"
   ]
  },
  {
   "cell_type": "code",
   "execution_count": 12,
   "metadata": {},
   "outputs": [],
   "source": [
    "league_teams_df_list = []\n",
    "league_picks_dict = {}\n",
    "for manager_id in league_df[\"entry\"].values:\n",
    "    league_picks_dict[manager_id] = []\n",
    "    for gw in range(1, 21):\n",
    "        \"\"\"if gw != 20:\n",
    "        continue\"\"\"\n",
    "        respose = requests.get(team_picks_template.format(manager_id=manager_id, gw=gw))\n",
    "        team_selection_respose_json = respose.json()\n",
    "        picks_df = pd.DataFrame(team_selection_respose_json[\"picks\"])\n",
    "        picks_df[\"element\"] = picks_df[\"element\"].map(id_name_dict)\n",
    "        picks_df[\"manager_id\"] = manager_id\n",
    "        picks_df[\"gw\"] = gw\n",
    "        picks_df[\"status\"] = np.where(\n",
    "            picks_df[\"is_captain\"] == True,\n",
    "            \"c\",\n",
    "            np.where(\n",
    "                picks_df[\"is_vice_captain\"] == True,\n",
    "                \"v\",\n",
    "                np.where(picks_df[\"multiplier\"] == 0, \"b\", \"p\"),\n",
    "            ),\n",
    "        )\n",
    "        league_teams_df_list.append(picks_df)\n",
    "        league_picks_dict[manager_id] += list(\n",
    "            (\n",
    "                picks_df[\"element\"]\n",
    "                + \"_\"\n",
    "                + picks_df[\"status\"].astype(str)\n",
    "                + \"_\"\n",
    "                + picks_df[\"gw\"].astype(str)\n",
    "            ).values\n",
    "        )\n",
    "\n",
    "\n",
    "league_teams_df = pd.concat(league_teams_df_list).reset_index(drop=True)\n",
    "league_picks_df = pd.DataFrame(league_picks_dict).rename(columns=manager_id_name_dict)"
   ]
  },
  {
   "cell_type": "code",
   "execution_count": 13,
   "metadata": {},
   "outputs": [],
   "source": [
    "sim_df = jaccard_sim(league_picks_df)"
   ]
  },
  {
   "cell_type": "code",
   "execution_count": 14,
   "metadata": {},
   "outputs": [
    {
     "data": {
      "application/vnd.plotly.v1+json": {
       "config": {
        "plotlyServerURL": "https://plot.ly"
       },
       "data": [
        {
         "coloraxis": "coloraxis",
         "hovertemplate": "x: %{x}<br>y: %{y}<br>color: %{z}<extra></extra>",
         "name": "0",
         "type": "heatmap",
         "x": [
          "James Parfitt",
          "Seb Winn",
          "Alex Winn",
          "Jacob Pickles",
          "Mason Gardener",
          "Ben Melhuish",
          "Joseph Parsons",
          "Richard Collins",
          "Dan Pratlett",
          "Ben Wilson",
          "Ben Anderson",
          "Luke Counsell"
         ],
         "xaxis": "x",
         "y": [
          "James Parfitt",
          "Seb Winn",
          "Alex Winn",
          "Jacob Pickles",
          "Mason Gardener",
          "Ben Melhuish",
          "Joseph Parsons",
          "Richard Collins",
          "Dan Pratlett",
          "Ben Wilson",
          "Ben Anderson",
          "Luke Counsell"
         ],
         "yaxis": "y",
         "z": [
          [
           1,
           0.31004366812227074,
           0.23711340206185566,
           0.11524163568773234,
           0.11731843575418995,
           0.21951219512195122,
           0.12149532710280374,
           0.1650485436893204,
           0.09090909090909091,
           0.12359550561797752,
           0.16054158607350097,
           0.07142857142857142
          ],
          [
           0.31004366812227074,
           1,
           0.25523012552301255,
           0.1070110701107011,
           0.11940298507462686,
           0.20481927710843373,
           0.13636363636363635,
           0.20481927710843373,
           0.13851992409867173,
           0.09090909090909091,
           0.17416829745596868,
           0.1111111111111111
          ],
          [
           0.23711340206185566,
           0.25523012552301255,
           1,
           0.1583011583011583,
           0.10497237569060773,
           0.18811881188118812,
           0.14722753346080306,
           0.2219959266802444,
           0.12781954887218044,
           0.18110236220472442,
           0.14068441064638784,
           0.07334525939177101
          ],
          [
           0.11524163568773234,
           0.1070110701107011,
           0.1583011583011583,
           1,
           0.08695652173913043,
           0.12994350282485875,
           0.12149532710280374,
           0.13851992409867173,
           0.10091743119266056,
           0.12570356472795496,
           0.08303249097472924,
           0.0582010582010582
          ],
          [
           0.11731843575418995,
           0.11940298507462686,
           0.10497237569060773,
           0.08695652173913043,
           1,
           0.09090909090909091,
           0.10294117647058823,
           0.14068441064638784,
           0.08108108108108109,
           0.08303249097472924,
           0.08892921960072596,
           0.07142857142857142
          ],
          [
           0.21951219512195122,
           0.20481927710843373,
           0.18811881188118812,
           0.12994350282485875,
           0.09090909090909091,
           1,
           0.2,
           0.1320754716981132,
           0.12149532710280374,
           0.16279069767441862,
           0.14285714285714285,
           0.07526881720430108
          ],
          [
           0.12149532710280374,
           0.13636363636363635,
           0.14722753346080306,
           0.12149532710280374,
           0.10294117647058823,
           0.2,
           1,
           0.11731843575418995,
           0.09289617486338798,
           0.18110236220472442,
           0.1111111111111111,
           0.041666666666666664
          ],
          [
           0.1650485436893204,
           0.20481927710843373,
           0.2219959266802444,
           0.13851992409867173,
           0.14068441064638784,
           0.1320754716981132,
           0.11731843575418995,
           1,
           0.15163147792706333,
           0.15163147792706333,
           0.1111111111111111,
           0.06951871657754011
          ],
          [
           0.09090909090909091,
           0.13851992409867173,
           0.12781954887218044,
           0.10091743119266056,
           0.08108108108108109,
           0.12149532710280374,
           0.09289617486338798,
           0.15163147792706333,
           1,
           0.12570356472795496,
           0.08695652173913043,
           0.0989010989010989
          ],
          [
           0.12359550561797752,
           0.09090909090909091,
           0.18110236220472442,
           0.12570356472795496,
           0.08303249097472924,
           0.16279069767441862,
           0.18110236220472442,
           0.15163147792706333,
           0.12570356472795496,
           1,
           0.07719928186714542,
           0.07913669064748201
          ],
          [
           0.16054158607350097,
           0.17416829745596868,
           0.14068441064638784,
           0.08303249097472924,
           0.08892921960072596,
           0.14285714285714285,
           0.1111111111111111,
           0.1111111111111111,
           0.08695652173913043,
           0.07719928186714542,
           1,
           0.05263157894736842
          ],
          [
           0.07142857142857142,
           0.1111111111111111,
           0.07334525939177101,
           0.0582010582010582,
           0.07142857142857142,
           0.07526881720430108,
           0.041666666666666664,
           0.06951871657754011,
           0.0989010989010989,
           0.07913669064748201,
           0.05263157894736842,
           1
          ]
         ]
        }
       ],
       "layout": {
        "coloraxis": {
         "colorscale": [
          [
           0,
           "rgba(61,23,90,255)"
          ],
          [
           0.5,
           "rgba(70,160,246,255)"
          ],
          [
           1,
           "rgba(72,250,137,255)"
          ]
         ]
        },
        "margin": {
         "t": 60
        },
        "template": {
         "data": {
          "bar": [
           {
            "error_x": {
             "color": "#2a3f5f"
            },
            "error_y": {
             "color": "#2a3f5f"
            },
            "marker": {
             "line": {
              "color": "#E5ECF6",
              "width": 0.5
             },
             "pattern": {
              "fillmode": "overlay",
              "size": 10,
              "solidity": 0.2
             }
            },
            "type": "bar"
           }
          ],
          "barpolar": [
           {
            "marker": {
             "line": {
              "color": "#E5ECF6",
              "width": 0.5
             },
             "pattern": {
              "fillmode": "overlay",
              "size": 10,
              "solidity": 0.2
             }
            },
            "type": "barpolar"
           }
          ],
          "carpet": [
           {
            "aaxis": {
             "endlinecolor": "#2a3f5f",
             "gridcolor": "white",
             "linecolor": "white",
             "minorgridcolor": "white",
             "startlinecolor": "#2a3f5f"
            },
            "baxis": {
             "endlinecolor": "#2a3f5f",
             "gridcolor": "white",
             "linecolor": "white",
             "minorgridcolor": "white",
             "startlinecolor": "#2a3f5f"
            },
            "type": "carpet"
           }
          ],
          "choropleth": [
           {
            "colorbar": {
             "outlinewidth": 0,
             "ticks": ""
            },
            "type": "choropleth"
           }
          ],
          "contour": [
           {
            "colorbar": {
             "outlinewidth": 0,
             "ticks": ""
            },
            "colorscale": [
             [
              0,
              "#0d0887"
             ],
             [
              0.1111111111111111,
              "#46039f"
             ],
             [
              0.2222222222222222,
              "#7201a8"
             ],
             [
              0.3333333333333333,
              "#9c179e"
             ],
             [
              0.4444444444444444,
              "#bd3786"
             ],
             [
              0.5555555555555556,
              "#d8576b"
             ],
             [
              0.6666666666666666,
              "#ed7953"
             ],
             [
              0.7777777777777778,
              "#fb9f3a"
             ],
             [
              0.8888888888888888,
              "#fdca26"
             ],
             [
              1,
              "#f0f921"
             ]
            ],
            "type": "contour"
           }
          ],
          "contourcarpet": [
           {
            "colorbar": {
             "outlinewidth": 0,
             "ticks": ""
            },
            "type": "contourcarpet"
           }
          ],
          "heatmap": [
           {
            "colorbar": {
             "outlinewidth": 0,
             "ticks": ""
            },
            "colorscale": [
             [
              0,
              "#0d0887"
             ],
             [
              0.1111111111111111,
              "#46039f"
             ],
             [
              0.2222222222222222,
              "#7201a8"
             ],
             [
              0.3333333333333333,
              "#9c179e"
             ],
             [
              0.4444444444444444,
              "#bd3786"
             ],
             [
              0.5555555555555556,
              "#d8576b"
             ],
             [
              0.6666666666666666,
              "#ed7953"
             ],
             [
              0.7777777777777778,
              "#fb9f3a"
             ],
             [
              0.8888888888888888,
              "#fdca26"
             ],
             [
              1,
              "#f0f921"
             ]
            ],
            "type": "heatmap"
           }
          ],
          "heatmapgl": [
           {
            "colorbar": {
             "outlinewidth": 0,
             "ticks": ""
            },
            "colorscale": [
             [
              0,
              "#0d0887"
             ],
             [
              0.1111111111111111,
              "#46039f"
             ],
             [
              0.2222222222222222,
              "#7201a8"
             ],
             [
              0.3333333333333333,
              "#9c179e"
             ],
             [
              0.4444444444444444,
              "#bd3786"
             ],
             [
              0.5555555555555556,
              "#d8576b"
             ],
             [
              0.6666666666666666,
              "#ed7953"
             ],
             [
              0.7777777777777778,
              "#fb9f3a"
             ],
             [
              0.8888888888888888,
              "#fdca26"
             ],
             [
              1,
              "#f0f921"
             ]
            ],
            "type": "heatmapgl"
           }
          ],
          "histogram": [
           {
            "marker": {
             "pattern": {
              "fillmode": "overlay",
              "size": 10,
              "solidity": 0.2
             }
            },
            "type": "histogram"
           }
          ],
          "histogram2d": [
           {
            "colorbar": {
             "outlinewidth": 0,
             "ticks": ""
            },
            "colorscale": [
             [
              0,
              "#0d0887"
             ],
             [
              0.1111111111111111,
              "#46039f"
             ],
             [
              0.2222222222222222,
              "#7201a8"
             ],
             [
              0.3333333333333333,
              "#9c179e"
             ],
             [
              0.4444444444444444,
              "#bd3786"
             ],
             [
              0.5555555555555556,
              "#d8576b"
             ],
             [
              0.6666666666666666,
              "#ed7953"
             ],
             [
              0.7777777777777778,
              "#fb9f3a"
             ],
             [
              0.8888888888888888,
              "#fdca26"
             ],
             [
              1,
              "#f0f921"
             ]
            ],
            "type": "histogram2d"
           }
          ],
          "histogram2dcontour": [
           {
            "colorbar": {
             "outlinewidth": 0,
             "ticks": ""
            },
            "colorscale": [
             [
              0,
              "#0d0887"
             ],
             [
              0.1111111111111111,
              "#46039f"
             ],
             [
              0.2222222222222222,
              "#7201a8"
             ],
             [
              0.3333333333333333,
              "#9c179e"
             ],
             [
              0.4444444444444444,
              "#bd3786"
             ],
             [
              0.5555555555555556,
              "#d8576b"
             ],
             [
              0.6666666666666666,
              "#ed7953"
             ],
             [
              0.7777777777777778,
              "#fb9f3a"
             ],
             [
              0.8888888888888888,
              "#fdca26"
             ],
             [
              1,
              "#f0f921"
             ]
            ],
            "type": "histogram2dcontour"
           }
          ],
          "mesh3d": [
           {
            "colorbar": {
             "outlinewidth": 0,
             "ticks": ""
            },
            "type": "mesh3d"
           }
          ],
          "parcoords": [
           {
            "line": {
             "colorbar": {
              "outlinewidth": 0,
              "ticks": ""
             }
            },
            "type": "parcoords"
           }
          ],
          "pie": [
           {
            "automargin": true,
            "type": "pie"
           }
          ],
          "scatter": [
           {
            "fillpattern": {
             "fillmode": "overlay",
             "size": 10,
             "solidity": 0.2
            },
            "type": "scatter"
           }
          ],
          "scatter3d": [
           {
            "line": {
             "colorbar": {
              "outlinewidth": 0,
              "ticks": ""
             }
            },
            "marker": {
             "colorbar": {
              "outlinewidth": 0,
              "ticks": ""
             }
            },
            "type": "scatter3d"
           }
          ],
          "scattercarpet": [
           {
            "marker": {
             "colorbar": {
              "outlinewidth": 0,
              "ticks": ""
             }
            },
            "type": "scattercarpet"
           }
          ],
          "scattergeo": [
           {
            "marker": {
             "colorbar": {
              "outlinewidth": 0,
              "ticks": ""
             }
            },
            "type": "scattergeo"
           }
          ],
          "scattergl": [
           {
            "marker": {
             "colorbar": {
              "outlinewidth": 0,
              "ticks": ""
             }
            },
            "type": "scattergl"
           }
          ],
          "scattermapbox": [
           {
            "marker": {
             "colorbar": {
              "outlinewidth": 0,
              "ticks": ""
             }
            },
            "type": "scattermapbox"
           }
          ],
          "scatterpolar": [
           {
            "marker": {
             "colorbar": {
              "outlinewidth": 0,
              "ticks": ""
             }
            },
            "type": "scatterpolar"
           }
          ],
          "scatterpolargl": [
           {
            "marker": {
             "colorbar": {
              "outlinewidth": 0,
              "ticks": ""
             }
            },
            "type": "scatterpolargl"
           }
          ],
          "scatterternary": [
           {
            "marker": {
             "colorbar": {
              "outlinewidth": 0,
              "ticks": ""
             }
            },
            "type": "scatterternary"
           }
          ],
          "surface": [
           {
            "colorbar": {
             "outlinewidth": 0,
             "ticks": ""
            },
            "colorscale": [
             [
              0,
              "#0d0887"
             ],
             [
              0.1111111111111111,
              "#46039f"
             ],
             [
              0.2222222222222222,
              "#7201a8"
             ],
             [
              0.3333333333333333,
              "#9c179e"
             ],
             [
              0.4444444444444444,
              "#bd3786"
             ],
             [
              0.5555555555555556,
              "#d8576b"
             ],
             [
              0.6666666666666666,
              "#ed7953"
             ],
             [
              0.7777777777777778,
              "#fb9f3a"
             ],
             [
              0.8888888888888888,
              "#fdca26"
             ],
             [
              1,
              "#f0f921"
             ]
            ],
            "type": "surface"
           }
          ],
          "table": [
           {
            "cells": {
             "fill": {
              "color": "#EBF0F8"
             },
             "line": {
              "color": "white"
             }
            },
            "header": {
             "fill": {
              "color": "#C8D4E3"
             },
             "line": {
              "color": "white"
             }
            },
            "type": "table"
           }
          ]
         },
         "layout": {
          "annotationdefaults": {
           "arrowcolor": "#2a3f5f",
           "arrowhead": 0,
           "arrowwidth": 1
          },
          "autotypenumbers": "strict",
          "coloraxis": {
           "colorbar": {
            "outlinewidth": 0,
            "ticks": ""
           }
          },
          "colorscale": {
           "diverging": [
            [
             0,
             "#8e0152"
            ],
            [
             0.1,
             "#c51b7d"
            ],
            [
             0.2,
             "#de77ae"
            ],
            [
             0.3,
             "#f1b6da"
            ],
            [
             0.4,
             "#fde0ef"
            ],
            [
             0.5,
             "#f7f7f7"
            ],
            [
             0.6,
             "#e6f5d0"
            ],
            [
             0.7,
             "#b8e186"
            ],
            [
             0.8,
             "#7fbc41"
            ],
            [
             0.9,
             "#4d9221"
            ],
            [
             1,
             "#276419"
            ]
           ],
           "sequential": [
            [
             0,
             "#0d0887"
            ],
            [
             0.1111111111111111,
             "#46039f"
            ],
            [
             0.2222222222222222,
             "#7201a8"
            ],
            [
             0.3333333333333333,
             "#9c179e"
            ],
            [
             0.4444444444444444,
             "#bd3786"
            ],
            [
             0.5555555555555556,
             "#d8576b"
            ],
            [
             0.6666666666666666,
             "#ed7953"
            ],
            [
             0.7777777777777778,
             "#fb9f3a"
            ],
            [
             0.8888888888888888,
             "#fdca26"
            ],
            [
             1,
             "#f0f921"
            ]
           ],
           "sequentialminus": [
            [
             0,
             "#0d0887"
            ],
            [
             0.1111111111111111,
             "#46039f"
            ],
            [
             0.2222222222222222,
             "#7201a8"
            ],
            [
             0.3333333333333333,
             "#9c179e"
            ],
            [
             0.4444444444444444,
             "#bd3786"
            ],
            [
             0.5555555555555556,
             "#d8576b"
            ],
            [
             0.6666666666666666,
             "#ed7953"
            ],
            [
             0.7777777777777778,
             "#fb9f3a"
            ],
            [
             0.8888888888888888,
             "#fdca26"
            ],
            [
             1,
             "#f0f921"
            ]
           ]
          },
          "colorway": [
           "#636efa",
           "#EF553B",
           "#00cc96",
           "#ab63fa",
           "#FFA15A",
           "#19d3f3",
           "#FF6692",
           "#B6E880",
           "#FF97FF",
           "#FECB52"
          ],
          "font": {
           "color": "#2a3f5f"
          },
          "geo": {
           "bgcolor": "white",
           "lakecolor": "white",
           "landcolor": "#E5ECF6",
           "showlakes": true,
           "showland": true,
           "subunitcolor": "white"
          },
          "hoverlabel": {
           "align": "left"
          },
          "hovermode": "closest",
          "mapbox": {
           "style": "light"
          },
          "paper_bgcolor": "white",
          "plot_bgcolor": "#E5ECF6",
          "polar": {
           "angularaxis": {
            "gridcolor": "white",
            "linecolor": "white",
            "ticks": ""
           },
           "bgcolor": "#E5ECF6",
           "radialaxis": {
            "gridcolor": "white",
            "linecolor": "white",
            "ticks": ""
           }
          },
          "scene": {
           "xaxis": {
            "backgroundcolor": "#E5ECF6",
            "gridcolor": "white",
            "gridwidth": 2,
            "linecolor": "white",
            "showbackground": true,
            "ticks": "",
            "zerolinecolor": "white"
           },
           "yaxis": {
            "backgroundcolor": "#E5ECF6",
            "gridcolor": "white",
            "gridwidth": 2,
            "linecolor": "white",
            "showbackground": true,
            "ticks": "",
            "zerolinecolor": "white"
           },
           "zaxis": {
            "backgroundcolor": "#E5ECF6",
            "gridcolor": "white",
            "gridwidth": 2,
            "linecolor": "white",
            "showbackground": true,
            "ticks": "",
            "zerolinecolor": "white"
           }
          },
          "shapedefaults": {
           "line": {
            "color": "#2a3f5f"
           }
          },
          "ternary": {
           "aaxis": {
            "gridcolor": "white",
            "linecolor": "white",
            "ticks": ""
           },
           "baxis": {
            "gridcolor": "white",
            "linecolor": "white",
            "ticks": ""
           },
           "bgcolor": "#E5ECF6",
           "caxis": {
            "gridcolor": "white",
            "linecolor": "white",
            "ticks": ""
           }
          },
          "title": {
           "x": 0.05
          },
          "xaxis": {
           "automargin": true,
           "gridcolor": "white",
           "linecolor": "white",
           "ticks": "",
           "title": {
            "standoff": 15
           },
           "zerolinecolor": "white",
           "zerolinewidth": 2
          },
          "yaxis": {
           "automargin": true,
           "gridcolor": "white",
           "linecolor": "white",
           "ticks": "",
           "title": {
            "standoff": 15
           },
           "zerolinecolor": "white",
           "zerolinewidth": 2
          }
         }
        },
        "xaxis": {
         "anchor": "y",
         "domain": [
          0,
          1
         ]
        },
        "yaxis": {
         "anchor": "x",
         "autorange": "reversed",
         "domain": [
          0,
          1
         ]
        }
       }
      }
     },
     "metadata": {},
     "output_type": "display_data"
    }
   ],
   "source": [
    "colorscale = [\n",
    "    [0, \"rgba(61,23,90,255)\"],\n",
    "    [0.5, \"rgba(70,160,246,255)\"],\n",
    "    [1, \"rgba(72,250,137,255)\"],\n",
    "]\n",
    "fig = px.imshow(\n",
    "    sim_df, text_auto=False, aspect=\"auto\", color_continuous_scale=colorscale\n",
    ")\n",
    "fig"
   ]
  },
  {
   "cell_type": "code",
   "execution_count": 15,
   "metadata": {},
   "outputs": [
    {
     "data": {
      "text/html": [
       "<div>\n",
       "<style scoped>\n",
       "    .dataframe tbody tr th:only-of-type {\n",
       "        vertical-align: middle;\n",
       "    }\n",
       "\n",
       "    .dataframe tbody tr th {\n",
       "        vertical-align: top;\n",
       "    }\n",
       "\n",
       "    .dataframe thead th {\n",
       "        text-align: right;\n",
       "    }\n",
       "</style>\n",
       "<table border=\"1\" class=\"dataframe\">\n",
       "  <thead>\n",
       "    <tr style=\"text-align: right;\">\n",
       "      <th></th>\n",
       "      <th>element</th>\n",
       "      <th>position</th>\n",
       "      <th>multiplier</th>\n",
       "      <th>is_captain</th>\n",
       "      <th>is_vice_captain</th>\n",
       "      <th>manager_id</th>\n",
       "      <th>gw</th>\n",
       "      <th>status</th>\n",
       "    </tr>\n",
       "  </thead>\n",
       "  <tbody>\n",
       "    <tr>\n",
       "      <th>0</th>\n",
       "      <td>Pickford</td>\n",
       "      <td>1</td>\n",
       "      <td>1</td>\n",
       "      <td>False</td>\n",
       "      <td>False</td>\n",
       "      <td>4651100</td>\n",
       "      <td>1</td>\n",
       "      <td>p</td>\n",
       "    </tr>\n",
       "    <tr>\n",
       "      <th>1</th>\n",
       "      <td>Estupiñan</td>\n",
       "      <td>2</td>\n",
       "      <td>1</td>\n",
       "      <td>False</td>\n",
       "      <td>False</td>\n",
       "      <td>4651100</td>\n",
       "      <td>1</td>\n",
       "      <td>p</td>\n",
       "    </tr>\n",
       "    <tr>\n",
       "      <th>2</th>\n",
       "      <td>Shaw</td>\n",
       "      <td>3</td>\n",
       "      <td>1</td>\n",
       "      <td>False</td>\n",
       "      <td>False</td>\n",
       "      <td>4651100</td>\n",
       "      <td>1</td>\n",
       "      <td>p</td>\n",
       "    </tr>\n",
       "    <tr>\n",
       "      <th>3</th>\n",
       "      <td>R.Lewis</td>\n",
       "      <td>4</td>\n",
       "      <td>1</td>\n",
       "      <td>False</td>\n",
       "      <td>False</td>\n",
       "      <td>4651100</td>\n",
       "      <td>1</td>\n",
       "      <td>p</td>\n",
       "    </tr>\n",
       "    <tr>\n",
       "      <th>4</th>\n",
       "      <td>B.Fernandes</td>\n",
       "      <td>5</td>\n",
       "      <td>1</td>\n",
       "      <td>False</td>\n",
       "      <td>False</td>\n",
       "      <td>4651100</td>\n",
       "      <td>1</td>\n",
       "      <td>p</td>\n",
       "    </tr>\n",
       "    <tr>\n",
       "      <th>...</th>\n",
       "      <td>...</td>\n",
       "      <td>...</td>\n",
       "      <td>...</td>\n",
       "      <td>...</td>\n",
       "      <td>...</td>\n",
       "      <td>...</td>\n",
       "      <td>...</td>\n",
       "      <td>...</td>\n",
       "    </tr>\n",
       "    <tr>\n",
       "      <th>3595</th>\n",
       "      <td>Wilson</td>\n",
       "      <td>11</td>\n",
       "      <td>1</td>\n",
       "      <td>False</td>\n",
       "      <td>False</td>\n",
       "      <td>4371621</td>\n",
       "      <td>20</td>\n",
       "      <td>p</td>\n",
       "    </tr>\n",
       "    <tr>\n",
       "      <th>3596</th>\n",
       "      <td>Areola</td>\n",
       "      <td>12</td>\n",
       "      <td>0</td>\n",
       "      <td>False</td>\n",
       "      <td>False</td>\n",
       "      <td>4371621</td>\n",
       "      <td>20</td>\n",
       "      <td>b</td>\n",
       "    </tr>\n",
       "    <tr>\n",
       "      <th>3597</th>\n",
       "      <td>Mbeumo</td>\n",
       "      <td>13</td>\n",
       "      <td>0</td>\n",
       "      <td>False</td>\n",
       "      <td>False</td>\n",
       "      <td>4371621</td>\n",
       "      <td>20</td>\n",
       "      <td>b</td>\n",
       "    </tr>\n",
       "    <tr>\n",
       "      <th>3598</th>\n",
       "      <td>Stones</td>\n",
       "      <td>14</td>\n",
       "      <td>0</td>\n",
       "      <td>False</td>\n",
       "      <td>False</td>\n",
       "      <td>4371621</td>\n",
       "      <td>20</td>\n",
       "      <td>b</td>\n",
       "    </tr>\n",
       "    <tr>\n",
       "      <th>3599</th>\n",
       "      <td>Haaland</td>\n",
       "      <td>15</td>\n",
       "      <td>0</td>\n",
       "      <td>True</td>\n",
       "      <td>False</td>\n",
       "      <td>4371621</td>\n",
       "      <td>20</td>\n",
       "      <td>c</td>\n",
       "    </tr>\n",
       "  </tbody>\n",
       "</table>\n",
       "<p>3600 rows × 8 columns</p>\n",
       "</div>"
      ],
      "text/plain": [
       "          element  position  multiplier  is_captain  is_vice_captain  \\\n",
       "0        Pickford         1           1       False            False   \n",
       "1       Estupiñan         2           1       False            False   \n",
       "2            Shaw         3           1       False            False   \n",
       "3         R.Lewis         4           1       False            False   \n",
       "4     B.Fernandes         5           1       False            False   \n",
       "...           ...       ...         ...         ...              ...   \n",
       "3595       Wilson        11           1       False            False   \n",
       "3596       Areola        12           0       False            False   \n",
       "3597       Mbeumo        13           0       False            False   \n",
       "3598       Stones        14           0       False            False   \n",
       "3599      Haaland        15           0        True            False   \n",
       "\n",
       "      manager_id  gw status  \n",
       "0        4651100   1      p  \n",
       "1        4651100   1      p  \n",
       "2        4651100   1      p  \n",
       "3        4651100   1      p  \n",
       "4        4651100   1      p  \n",
       "...          ...  ..    ...  \n",
       "3595     4371621  20      p  \n",
       "3596     4371621  20      b  \n",
       "3597     4371621  20      b  \n",
       "3598     4371621  20      b  \n",
       "3599     4371621  20      c  \n",
       "\n",
       "[3600 rows x 8 columns]"
      ]
     },
     "execution_count": 15,
     "metadata": {},
     "output_type": "execute_result"
    }
   ],
   "source": [
    "league_teams_df"
   ]
  },
  {
   "cell_type": "code",
   "execution_count": 16,
   "metadata": {},
   "outputs": [
    {
     "data": {
      "text/html": [
       "<div>\n",
       "<style scoped>\n",
       "    .dataframe tbody tr th:only-of-type {\n",
       "        vertical-align: middle;\n",
       "    }\n",
       "\n",
       "    .dataframe tbody tr th {\n",
       "        vertical-align: top;\n",
       "    }\n",
       "\n",
       "    .dataframe thead th {\n",
       "        text-align: right;\n",
       "    }\n",
       "</style>\n",
       "<table border=\"1\" class=\"dataframe\">\n",
       "  <thead>\n",
       "    <tr style=\"text-align: right;\">\n",
       "      <th></th>\n",
       "      <th>James Parfitt</th>\n",
       "      <th>Seb Winn</th>\n",
       "      <th>Alex Winn</th>\n",
       "      <th>Jacob Pickles</th>\n",
       "      <th>Mason Gardener</th>\n",
       "      <th>Ben Melhuish</th>\n",
       "      <th>Joseph Parsons</th>\n",
       "      <th>Richard Collins</th>\n",
       "      <th>Dan Pratlett</th>\n",
       "      <th>Ben Wilson</th>\n",
       "      <th>Ben Anderson</th>\n",
       "      <th>Luke Counsell</th>\n",
       "    </tr>\n",
       "  </thead>\n",
       "  <tbody>\n",
       "    <tr>\n",
       "      <th>0</th>\n",
       "      <td>Pickford_p_1</td>\n",
       "      <td>Onana_p_1</td>\n",
       "      <td>Pickford_p_1</td>\n",
       "      <td>Onana_p_1</td>\n",
       "      <td>Ederson M._p_1</td>\n",
       "      <td>Steele_p_1</td>\n",
       "      <td>Ramsdale_p_1</td>\n",
       "      <td>Onana_p_1</td>\n",
       "      <td>Onana_p_1</td>\n",
       "      <td>Steele_v_1</td>\n",
       "      <td>Steele_v_1</td>\n",
       "      <td>Steele_p_1</td>\n",
       "    </tr>\n",
       "    <tr>\n",
       "      <th>1</th>\n",
       "      <td>Estupiñan_p_1</td>\n",
       "      <td>Estupiñan_p_1</td>\n",
       "      <td>Estupiñan_p_1</td>\n",
       "      <td>Estupiñan_p_1</td>\n",
       "      <td>Chilwell_p_1</td>\n",
       "      <td>Udogie_p_1</td>\n",
       "      <td>Estupiñan_p_1</td>\n",
       "      <td>Trippier_p_1</td>\n",
       "      <td>Burn_p_1</td>\n",
       "      <td>Shaw_p_1</td>\n",
       "      <td>Colwill_p_1</td>\n",
       "      <td>Estupiñan_p_1</td>\n",
       "    </tr>\n",
       "    <tr>\n",
       "      <th>2</th>\n",
       "      <td>Shaw_p_1</td>\n",
       "      <td>Gabriel_p_1</td>\n",
       "      <td>Gabriel_p_1</td>\n",
       "      <td>Trippier_p_1</td>\n",
       "      <td>Saliba_p_1</td>\n",
       "      <td>Estupiñan_p_1</td>\n",
       "      <td>Botman_p_1</td>\n",
       "      <td>Estupiñan_p_1</td>\n",
       "      <td>Gabriel_p_1</td>\n",
       "      <td>Gabriel_p_1</td>\n",
       "      <td>J.Timber_p_1</td>\n",
       "      <td>Bell_p_1</td>\n",
       "    </tr>\n",
       "    <tr>\n",
       "      <th>3</th>\n",
       "      <td>R.Lewis_p_1</td>\n",
       "      <td>Chilwell_p_1</td>\n",
       "      <td>Shaw_p_1</td>\n",
       "      <td>Alexander-Arnold_p_1</td>\n",
       "      <td>Trippier_p_1</td>\n",
       "      <td>Shaw_p_1</td>\n",
       "      <td>Trippier_p_1</td>\n",
       "      <td>Alexander-Arnold_p_1</td>\n",
       "      <td>Estupiñan_p_1</td>\n",
       "      <td>Estupiñan_p_1</td>\n",
       "      <td>Baldock_p_1</td>\n",
       "      <td>Aké_p_1</td>\n",
       "    </tr>\n",
       "    <tr>\n",
       "      <th>4</th>\n",
       "      <td>B.Fernandes_p_1</td>\n",
       "      <td>Martinelli_p_1</td>\n",
       "      <td>Saka_p_1</td>\n",
       "      <td>Eze_p_1</td>\n",
       "      <td>Van Hecke_p_1</td>\n",
       "      <td>Alexander-Arnold_p_1</td>\n",
       "      <td>Saka_v_1</td>\n",
       "      <td>Mings_p_1</td>\n",
       "      <td>Saka_v_1</td>\n",
       "      <td>Rashford_p_1</td>\n",
       "      <td>Mitoma_p_1</td>\n",
       "      <td>B.Fernandes_v_1</td>\n",
       "    </tr>\n",
       "    <tr>\n",
       "      <th>...</th>\n",
       "      <td>...</td>\n",
       "      <td>...</td>\n",
       "      <td>...</td>\n",
       "      <td>...</td>\n",
       "      <td>...</td>\n",
       "      <td>...</td>\n",
       "      <td>...</td>\n",
       "      <td>...</td>\n",
       "      <td>...</td>\n",
       "      <td>...</td>\n",
       "      <td>...</td>\n",
       "      <td>...</td>\n",
       "    </tr>\n",
       "    <tr>\n",
       "      <th>295</th>\n",
       "      <td>Watkins_p_20</td>\n",
       "      <td>J.Alvarez_c_20</td>\n",
       "      <td>Watkins_v_20</td>\n",
       "      <td>Cunha_p_20</td>\n",
       "      <td>Watkins_p_20</td>\n",
       "      <td>Watkins_c_20</td>\n",
       "      <td>Solanke_p_20</td>\n",
       "      <td>J.Alvarez_p_20</td>\n",
       "      <td>J.Alvarez_p_20</td>\n",
       "      <td>Wilson_p_20</td>\n",
       "      <td>Solanke_p_20</td>\n",
       "      <td>Wilson_p_20</td>\n",
       "    </tr>\n",
       "    <tr>\n",
       "      <th>296</th>\n",
       "      <td>Turner_b_20</td>\n",
       "      <td>Dubravka_b_20</td>\n",
       "      <td>Dubravka_b_20</td>\n",
       "      <td>Turner_b_20</td>\n",
       "      <td>Areola_b_20</td>\n",
       "      <td>Dubravka_b_20</td>\n",
       "      <td>Strakosha_b_20</td>\n",
       "      <td>Sanchez_b_20</td>\n",
       "      <td>Dubravka_b_20</td>\n",
       "      <td>Neto_b_20</td>\n",
       "      <td>Turner_b_20</td>\n",
       "      <td>Areola_b_20</td>\n",
       "    </tr>\n",
       "    <tr>\n",
       "      <th>297</th>\n",
       "      <td>Archer_b_20</td>\n",
       "      <td>Colwill_b_20</td>\n",
       "      <td>Gusto_b_20</td>\n",
       "      <td>Isak_b_20</td>\n",
       "      <td>Woodrow_b_20</td>\n",
       "      <td>Gordon_b_20</td>\n",
       "      <td>Cash_b_20</td>\n",
       "      <td>Mitchell_b_20</td>\n",
       "      <td>L.Paquetá_b_20</td>\n",
       "      <td>Cash_b_20</td>\n",
       "      <td>Zinchenko_b_20</td>\n",
       "      <td>Mbeumo_b_20</td>\n",
       "    </tr>\n",
       "    <tr>\n",
       "      <th>298</th>\n",
       "      <td>Trippier_b_20</td>\n",
       "      <td>Gordon_b_20</td>\n",
       "      <td>Dalot_b_20</td>\n",
       "      <td>Gordon_b_20</td>\n",
       "      <td>Lascelles_b_20</td>\n",
       "      <td>Zinchenko_b_20</td>\n",
       "      <td>Udogie_b_20</td>\n",
       "      <td>Sarr_b_20</td>\n",
       "      <td>Solanke_b_20</td>\n",
       "      <td>Trippier_b_20</td>\n",
       "      <td>Trippier_b_20</td>\n",
       "      <td>Stones_b_20</td>\n",
       "    </tr>\n",
       "    <tr>\n",
       "      <th>299</th>\n",
       "      <td>Lamptey_b_20</td>\n",
       "      <td>Taylor_b_20</td>\n",
       "      <td>Archer_b_20</td>\n",
       "      <td>Trippier_b_20</td>\n",
       "      <td>Branthwaite_b_20</td>\n",
       "      <td>Lascelles_b_20</td>\n",
       "      <td>Haaland_b_20</td>\n",
       "      <td>Pinnock_b_20</td>\n",
       "      <td>Senesi_b_20</td>\n",
       "      <td>Haaland_b_20</td>\n",
       "      <td>Haaland_b_20</td>\n",
       "      <td>Haaland_c_20</td>\n",
       "    </tr>\n",
       "  </tbody>\n",
       "</table>\n",
       "<p>300 rows × 12 columns</p>\n",
       "</div>"
      ],
      "text/plain": [
       "       James Parfitt        Seb Winn      Alex Winn         Jacob Pickles  \\\n",
       "0       Pickford_p_1       Onana_p_1   Pickford_p_1             Onana_p_1   \n",
       "1      Estupiñan_p_1   Estupiñan_p_1  Estupiñan_p_1         Estupiñan_p_1   \n",
       "2           Shaw_p_1     Gabriel_p_1    Gabriel_p_1          Trippier_p_1   \n",
       "3        R.Lewis_p_1    Chilwell_p_1       Shaw_p_1  Alexander-Arnold_p_1   \n",
       "4    B.Fernandes_p_1  Martinelli_p_1       Saka_p_1               Eze_p_1   \n",
       "..               ...             ...            ...                   ...   \n",
       "295     Watkins_p_20  J.Alvarez_c_20   Watkins_v_20            Cunha_p_20   \n",
       "296      Turner_b_20   Dubravka_b_20  Dubravka_b_20           Turner_b_20   \n",
       "297      Archer_b_20    Colwill_b_20     Gusto_b_20             Isak_b_20   \n",
       "298    Trippier_b_20     Gordon_b_20     Dalot_b_20           Gordon_b_20   \n",
       "299     Lamptey_b_20     Taylor_b_20    Archer_b_20         Trippier_b_20   \n",
       "\n",
       "       Mason Gardener          Ben Melhuish  Joseph Parsons  \\\n",
       "0      Ederson M._p_1            Steele_p_1    Ramsdale_p_1   \n",
       "1        Chilwell_p_1            Udogie_p_1   Estupiñan_p_1   \n",
       "2          Saliba_p_1         Estupiñan_p_1      Botman_p_1   \n",
       "3        Trippier_p_1              Shaw_p_1    Trippier_p_1   \n",
       "4       Van Hecke_p_1  Alexander-Arnold_p_1        Saka_v_1   \n",
       "..                ...                   ...             ...   \n",
       "295      Watkins_p_20          Watkins_c_20    Solanke_p_20   \n",
       "296       Areola_b_20         Dubravka_b_20  Strakosha_b_20   \n",
       "297      Woodrow_b_20           Gordon_b_20       Cash_b_20   \n",
       "298    Lascelles_b_20        Zinchenko_b_20     Udogie_b_20   \n",
       "299  Branthwaite_b_20        Lascelles_b_20    Haaland_b_20   \n",
       "\n",
       "          Richard Collins    Dan Pratlett     Ben Wilson    Ben Anderson  \\\n",
       "0               Onana_p_1       Onana_p_1     Steele_v_1      Steele_v_1   \n",
       "1            Trippier_p_1        Burn_p_1       Shaw_p_1     Colwill_p_1   \n",
       "2           Estupiñan_p_1     Gabriel_p_1    Gabriel_p_1    J.Timber_p_1   \n",
       "3    Alexander-Arnold_p_1   Estupiñan_p_1  Estupiñan_p_1     Baldock_p_1   \n",
       "4               Mings_p_1        Saka_v_1   Rashford_p_1      Mitoma_p_1   \n",
       "..                    ...             ...            ...             ...   \n",
       "295        J.Alvarez_p_20  J.Alvarez_p_20    Wilson_p_20    Solanke_p_20   \n",
       "296          Sanchez_b_20   Dubravka_b_20      Neto_b_20     Turner_b_20   \n",
       "297         Mitchell_b_20  L.Paquetá_b_20      Cash_b_20  Zinchenko_b_20   \n",
       "298             Sarr_b_20    Solanke_b_20  Trippier_b_20   Trippier_b_20   \n",
       "299          Pinnock_b_20     Senesi_b_20   Haaland_b_20    Haaland_b_20   \n",
       "\n",
       "       Luke Counsell  \n",
       "0         Steele_p_1  \n",
       "1      Estupiñan_p_1  \n",
       "2           Bell_p_1  \n",
       "3            Aké_p_1  \n",
       "4    B.Fernandes_v_1  \n",
       "..               ...  \n",
       "295      Wilson_p_20  \n",
       "296      Areola_b_20  \n",
       "297      Mbeumo_b_20  \n",
       "298      Stones_b_20  \n",
       "299     Haaland_c_20  \n",
       "\n",
       "[300 rows x 12 columns]"
      ]
     },
     "execution_count": 16,
     "metadata": {},
     "output_type": "execute_result"
    }
   ],
   "source": [
    "league_picks_df"
   ]
  },
  {
   "cell_type": "code",
   "execution_count": null,
   "metadata": {},
   "outputs": [],
   "source": []
  }
 ],
 "metadata": {
  "kernelspec": {
   "display_name": "fpl-f-o-env",
   "language": "python",
   "name": "python3"
  },
  "language_info": {
   "codemirror_mode": {
    "name": "ipython",
    "version": 3
   },
   "file_extension": ".py",
   "mimetype": "text/x-python",
   "name": "python",
   "nbconvert_exporter": "python",
   "pygments_lexer": "ipython3",
   "version": "3.11.5"
  }
 },
 "nbformat": 4,
 "nbformat_minor": 2
}
